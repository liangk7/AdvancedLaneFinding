{
 "cells": [
  {
   "cell_type": "code",
   "execution_count": 1,
   "metadata": {
    "collapsed": true
   },
   "outputs": [],
   "source": [
    "##############################################\n",
    "#   Import Statments\n",
    "##############################################\n",
    "\n",
    "import numpy as np\n",
    "import cv2\n",
    "import glob\n",
    "import matplotlib.pyplot as plt\n",
    "import matplotlib.image as mpimg\n",
    "import pickle\n",
    "import imageio\n",
    "imageio.plugins.ffmpeg.download()\n",
    "from moviepy.editor import VideoFileClip\n",
    "from IPython.display import HTML\n",
    "\n",
    "np.set_printoptions(threshold=np.nan)"
   ]
  },
  {
   "cell_type": "code",
   "execution_count": 2,
   "metadata": {
    "collapsed": true
   },
   "outputs": [],
   "source": [
    "##############################################\n",
    "#   Defining Frame Class\n",
    "##############################################\n",
    "class Frame():\n",
    "    #This class stores all of the different images in this program. Can be used later\n",
    "    def __init__(self):\n",
    "        self.original = None\n",
    "        self.undst = None\n",
    "        self.gray = None\n",
    "        self.warp = None\n",
    "        self.hls = None\n",
    "        self.h_channel = None\n",
    "        self.l_channel = None\n",
    "        self.s_channel = None\n",
    "        self.s_binary = None\n",
    "        self.sxbinary = None\n",
    "        self.sx_s_channel_binary = None\n",
    "        self.color_binary = None\n",
    "        self.combined_binary = None\n",
    "        self.both_lines = None\n",
    "        self.finalImage = None\n",
    "        self.mesh = None\n",
    "        self.scaled_sobel = None\n",
    "        self.border = None\n",
    "\n",
    "        self.M = None\n",
    "        self.Minv = None\n",
    "        self.objpoints = None\n",
    "        self.imgpoints = None\n",
    "\n",
    "        self.leftLine = Line()\n",
    "        self.rightLine = Line()\n",
    "\n",
    "        #distance in meters of vehicle center from the line\n",
    "        self.line_base_pos = None"
   ]
  },
  {
   "cell_type": "code",
   "execution_count": 3,
   "metadata": {
    "collapsed": true
   },
   "outputs": [],
   "source": [
    "##############################################\n",
    "#   Defining Line Class\n",
    "##############################################\n",
    "\n",
    "class Line():\n",
    "    def __init__(self):\n",
    "        #Was the line detected in the last iteration?\n",
    "        ##done\n",
    "        self.detected = False\n",
    "        \n",
    "        #x values of the last n fits of the line\n",
    "        self.recent_xfitted = []\n",
    "        \n",
    "        #average x values of the fitted line over the last n iterations\n",
    "        self.bestx = None\n",
    "\n",
    "        #polynomial coefficients averaged over the last n iterations\n",
    "        self.best_fit = None\n",
    "\n",
    "        #polynomial coefficents with world scale averaged over the last n interations\n",
    "        self.best_world_fit = None\n",
    "\n",
    "        #polynomial coefficients for the most recent fit\n",
    "        self.current_fit = []\n",
    "\n",
    "        #polynomial coefficients for most recent fits in world view\n",
    "        self.current_world_fit = []\n",
    "\n",
    "        #radius of curvature of the line in some units\n",
    "        self.radius_of_curvature = None\n",
    "\n",
    "\n",
    "        #difference in fit coefficients between last and new fits\n",
    "        self.diffs = np.array([0,0,0], dtype = 'float')\n",
    "        \n",
    "        #x values for detected line pixels\n",
    "        self.allx = None\n",
    "\n",
    "        #y values for detected line pixels\n",
    "        self.ally = None\n",
    "    def isLineDetected(self):\n",
    "        return self.detected\n",
    "    \n",
    "    def updateLine(self, current_fit, current_fitx, world_fit, allx, ally):\n",
    "        #updates the lines and sets the detected flag to true if we've had success in the past 5 runs, otherwise it sets it to false\n",
    "\n",
    "        #Check if we're detected first, if not, just add the line\n",
    "        if self.detected:\n",
    "            #update diffs\n",
    "            self.diffs = self.current_fit[-1] - current_fit\n",
    "\n",
    "        #if the differences are too high, abort and set detected to false\n",
    "        if current_fit is not None:\n",
    "            if ((self.diffs[0] > 0.001) or (self.diffs[1] > 1) or (self.diffs[2] > 100)):\n",
    "                #If difference is too crazy, abort and call remove line function\n",
    "                self.removeLine()\n",
    "            else:\n",
    "                self.detected = True\n",
    "            \n",
    "                #update all x and all y\n",
    "                self.allx = allx\n",
    "                self.ally = ally\n",
    "\n",
    "                #update polynomial coefficients\n",
    "                self.current_fit.append(current_fit)\n",
    "                self.current_world_fit.append(world_fit)\n",
    "                self.recent_xfitted.append(current_fitx)\n",
    "                \n",
    "                if len(self.recent_xfitted) > 5:\n",
    "                    #pop the first one if we have over 5 recent fits. Over flow protection\n",
    "                    self.recent_xfitted.pop(0)\n",
    "                if len(self.current_world_fit) > 5:\n",
    "                    self.current_world_fit.pop(0)\n",
    "                if len(self.current_fit) > 5:\n",
    "                    self.current_fit.pop(0)\n",
    "                  \n",
    "                #average lines here and set bestx and best_fit values. Use these values for drawings\n",
    "                if len(self.recent_xfitted) > 0:\n",
    "                    self.bestx = np.average(self.recent_xfitted, axis = 0)\n",
    "                if len(self.current_fit) > 0 :\n",
    "                    self.best_fit = np.average(self.current_fit, axis = 0)\n",
    "                if len(self.current_world_fit) > 0:\n",
    "                    self.best_world_fit = np.average(self.current_world_fit, axis = 0)\n",
    "\n",
    "\n",
    "                #Find curvature\n",
    "                self.findRadius()\n",
    "        #Else, no line available, set flag to not detected\n",
    "        else:\n",
    "            self.removeLine()\n",
    "\n",
    "\n",
    "\n",
    "    def removeLine(self):\n",
    "        #remove oldest instance of recent_xfitted and current_fit so that when it's 0 we can do sliding window method again\n",
    "        if len(self.recent_xfitted) > 0:\n",
    "            self.recent_xfitted.pop(0)\n",
    "        if len(self.current_fit) > 0:\n",
    "            self.current_fit.pop(0)\n",
    "        if len(self.current_world_fit) > 0:\n",
    "            self.current_world_fit.pop(0)\n",
    "        if len(self.recent_xfitted) == 0 or len(self.current_fit) ==0:\n",
    "            #When we have nothing left, reset and go back to default values\n",
    "            self.detected = False\n",
    "            self.diffs = np.array([0,0,0], dtype = 'float')\n",
    "     \n",
    "    def findRadius(self, height = 720):\n",
    "        #Second argument is either 720 or image size\n",
    "        \n",
    "        #Conversions from pixel to real world\n",
    "        ploty = np.linspace(0, height -1, height)\n",
    "        y_eval = np.max(ploty)\n",
    "        ym_per_pix = 30/720 # meters per pixel in y dimension\n",
    "        xm_per_pix = 3.7/700 # meters per pixel in x dimension\n",
    "        \n",
    "        #fit_worldSpace = np.polyfit(ym_per_pix * self.ally, xm_per_pix * self.allx, 2)\n",
    "        fit_worldSpace = self.best_world_fit\n",
    "        curverad = ((1 + (2*fit_worldSpace[0] * y_eval * ym_per_pix+ fit_worldSpace[1])**2)**1.5)/ np.absolute(2*fit_worldSpace[0])\n",
    "        self.radius_of_curvature = curverad\n",
    "        print('curverad', curverad)\n"
   ]
  },
  {
   "cell_type": "code",
   "execution_count": 4,
   "metadata": {},
   "outputs": [],
   "source": [
    "##############################################\n",
    "#   Defining Helper Functions\n",
    "##############################################\n",
    "def undistort(Frame):\n",
    "    '''\n",
    "    undistorts and image\n",
    "    input: image, list of objpoints, and list of imgpoints\n",
    "    output: undistorted image\n",
    "    '''\n",
    "    img = Frame.original\n",
    "    objpoints = Frame.objpoints\n",
    "    imgpoints = Frame.imgpoints\n",
    "    img_size = (img.shape[1], img.shape[0])\n",
    "\n",
    "    #Do camera calibration give obj points and img points\n",
    "    ret, mtx, dist, rvecs, tvecs = cv2.calibrateCamera(objpoints, imgpoints, img_size, None, None)\n",
    "    undst = cv2.undistort(img, mtx, dist, None, mtx)\n",
    "    Frame.undst = undst\n",
    "\n",
    "def visualizeImage(name, img):\n",
    "    '''\n",
    "    Takes in a name and image, displays it on computer\n",
    "    '''\n",
    "    cv2.namedWindow(name, cv2.WINDOW_NORMAL)\n",
    "    cv2.imshow(name, img)\n",
    "    cv2.waitKey(1)\n",
    "\n",
    "#Transform to birds eye view\n",
    "def perspectiveTransform(Frame):\n",
    "    '''\n",
    "    updates a photo to make it bird's eye view\n",
    "    input: Original image\n",
    "    output: Transformed image\n",
    "    '''\n",
    "    offset = 50\n",
    "    undst = np.copy(Frame.undst)\n",
    "    img_size = (undst.shape[1], undst.shape[0])\n",
    "\n",
    "    #Choose source and destination points\n",
    "    src = np.float32([[535, 465], [745,465], [95, 670], [1185, 670]])\n",
    "    dst = np.float32([[offset, offset], [img_size[0] - offset, offset], [offset, img_size[1] - offset], [img_size[0] - offset, img_size[1] - offset]])\n",
    "    M = cv2.getPerspectiveTransform(src, dst)\n",
    "    Frame.M = M\n",
    "    Minv = cv2.getPerspectiveTransform(dst, src)\n",
    "    Frame.Minv = Minv\n",
    "    warp = cv2.warpPerspective(undst, M, img_size, flags=cv2.INTER_LINEAR)\n",
    "    Frame.warp = warp\n",
    "\n",
    "    #show src area on image\n",
    "    pts = np.array([[src[0][0],src[0][1]],[src[1][0],src[1][1]], [src[3][0],src[3][1]],[src[2][0],src[2][1]]], np.int32)\n",
    "    pts = pts.reshape((-1,1,2))\n",
    "    Frame.border = cv2.polylines(undst,[pts], True, (0,255,255))\n",
    "\n",
    "#Sobel x plus S_gradient, put on mask\n",
    "def thresholding(Frame, sobel_t_min = 50, sobel_t_max = 255, s_t_min = 200, s_t_max = 255):\n",
    "    warp = Frame.warp\n",
    "    gray = cv2.cvtColor(warp, cv2.COLOR_BGR2GRAY)\n",
    "    Frame.gray = gray\n",
    "    sobelx = cv2.Sobel(gray, cv2.CV_64F, 1, 0) \n",
    "    abs_sobelx = np.absolute(sobelx)   \n",
    "    scaled_sobel = 255*abs_sobelx/np.max(abs_sobelx)\n",
    "    Frame.scaled_sobel = scaled_sobel\n",
    "    \n",
    "    #Sobel binary\n",
    "    sxbinary = np.zeros_like(scaled_sobel)\n",
    "    sxbinary[(scaled_sobel >= sobel_t_min) & (scaled_sobel <= sobel_t_max)] = 1\n",
    "    \n",
    "    Frame.sxbinary = sxbinary\n",
    "    \n",
    "    hls = cv2.cvtColor(warp, cv2.COLOR_RGB2HLS)\n",
    "    s_channel = hls[:,:,2]\n",
    "    h_channel = hls[:,:,0]\n",
    "    l_channel = hls[:,:,1]\n",
    "    Frame.hls = hls\n",
    "    Frame.h_channel = h_channel\n",
    "    Frame.l_channel = l_channel\n",
    "    Frame.s_channel = s_channel\n",
    "\n",
    "    #S binary\n",
    "    s_binary = np.zeros_like(s_channel)\n",
    "    s_binary[(s_channel >= s_t_min) & (s_channel <= s_t_max)] = 1\n",
    "    Frame.s_binary = s_binary\n",
    "    \n",
    "    #Sobelx the S_channel\n",
    "    print('s_channel shape',s_channel.shape)\n",
    "    \n",
    "    sobel_x_s_channel = cv2.Sobel(s_channel, cv2.CV_64F,1,0)\n",
    "    abs_sobel_x_s_channel = np.absolute(sobel_x_s_channel)\n",
    "    scaled_sobel_s_channel = 255 * abs_sobel_x_s_channel/np.max(abs_sobel_x_s_channel)\n",
    "    #s_channel sobel binary\n",
    "    sx_s_channel_binary = np.zeros_like(scaled_sobel_s_channel)\n",
    "    sx_s_channel_binary[(scaled_sobel_s_channel >= sobel_t_min) & (scaled_sobel_s_channel <= sobel_t_max)] = 1\n",
    "    \n",
    "    Frame.sx_s_channel_binary = sx_s_channel_binary\n",
    "    \n",
    "    #stack both to see the individual contributions. Green for Sobel, Blue for Saturation (HLS)\n",
    "    color_binary = np.dstack(( np.zeros_like(sxbinary), sxbinary, sx_s_channel_binary)) * 255\n",
    "    Frame.color_binary = color_binary\n",
    "\n",
    "    #combine the two thresholds\n",
    "    combined_binary = np.zeros_like(sxbinary)\n",
    "    combined_binary[(sx_s_channel_binary ==1) | (sxbinary ==1)] =1\n",
    "    Frame.combined_binary = combined_binary\n",
    "'''\n",
    " #old school style\n",
    "    #stack both to see the individual contributions. Green for Sobel, Blue for Saturation (HLS)\n",
    "    color_binary = np.dstack(( np.zeros_like(sxbinary), sxbinary, s_binary)) * 255\n",
    "    Frame.color_binary = color_binary\n",
    "\n",
    "    #combine the two thresholds\n",
    "    combined_binary = np.zeros_like(sxbinary)\n",
    "    combined_binary[(s_binary ==1) | (sxbinary ==1)] =1\n",
    "    Frame.combined_binary = combined_binary\n",
    "'''\n",
    "#Training for lines\n",
    "def slidingWindow(Frame):\n",
    "    '''\n",
    "    Takes in a thresholded image and creates sliding windows\n",
    "    These midpoints will be used to determine the polynomial curve of the line\n",
    "    '''\n",
    "    leftLine = Frame.leftLine\n",
    "    rightLine = Frame.rightLine\n",
    "    \n",
    "    #Take histogram of bottom part of the image\n",
    "    binary_warp = Frame.combined_binary\n",
    "    histogram = np.sum(binary_warp[binary_warp.shape[0]//2:,:], axis = 0)\n",
    "\n",
    "    #Create an output image to draw on and visualize the result\n",
    "    out_img = np.dstack((binary_warp, binary_warp, binary_warp))* 255\n",
    "\n",
    "    #Find peak of left and right halves of the  histogram\n",
    "    #These will be the starting points for the left and right lanes\n",
    "    midpoint = np.int(histogram.shape[0] /2)\n",
    "    leftx_base = np.argmax(histogram[:midpoint])\n",
    "    rightx_base = np.argmax(histogram[midpoint:]) + midpoint\n",
    "\n",
    "    #Choose number of sliding windows\n",
    "    nwindows = 9\n",
    "    #set height of windows\n",
    "    window_height = np.int(binary_warp.shape[0]/nwindows)\n",
    "    #Identify x and y positions of all nonzero pixels in the image\n",
    "    nonzero = binary_warp.nonzero()\n",
    "    nonzeroy = np.array(nonzero[0])\n",
    "    nonzerox = np.array(nonzero[1])\n",
    "    #Current positions to be updated for each window\n",
    "    leftx_current = leftx_base\n",
    "    rightx_current = rightx_base\n",
    "    #set width of the windows margin\n",
    "    margin = 100\n",
    "    #set minimum number of pixels found to recenter window\n",
    "    minpix = 50\n",
    "    #create empty list to receive left and right lane pixel indices\n",
    "    left_lane_inds = []\n",
    "    right_lane_inds = []\n",
    "\n",
    "    #step through the windows one by one\n",
    "    for window in range(nwindows):\n",
    "        #Identify window boundaries in x and y (and right and left)\n",
    "        win_y_low = binary_warp.shape[0] - (window+1)*window_height\n",
    "        win_y_high = binary_warp.shape[0] - window*window_height\n",
    "        win_xleft_low = leftx_current - margin\n",
    "        win_xleft_high = leftx_current + margin\n",
    "        win_xright_low = rightx_current - margin\n",
    "        win_xright_high = rightx_current + margin\n",
    "        \n",
    "        #Draw the windows on the visualization image\n",
    "        cv2.rectangle(out_img,(win_xleft_low, win_y_low),(win_xleft_high, win_y_high),(0,255,0), 2)\n",
    "        cv2.rectangle(out_img,(win_xright_low, win_y_low), (win_xright_high, win_y_high), (0,255,0), 2)\n",
    "        \n",
    "        #Identify nonzero pizels in x and y within the window\n",
    "        good_left_inds = ((nonzeroy >= win_y_low) & (nonzeroy < win_y_high) &\n",
    "                          (nonzerox >= win_xleft_low) & (nonzerox < win_xleft_high)).nonzero()[0]\n",
    "        good_right_inds = ((nonzeroy >= win_y_low) & (nonzeroy < win_y_high) &\n",
    "                           (nonzerox >= win_xright_low) & (nonzerox < win_xright_high)).nonzero()[0]\n",
    "        #Append these indices to the lists\n",
    "        left_lane_inds.append(good_left_inds)\n",
    "        right_lane_inds.append(good_right_inds)\n",
    "\n",
    "        #If you found > minpix pixels, recenter next window on their mean position\n",
    "        if len(good_left_inds) > minpix:\n",
    "            leftx_current = np.int(np.mean(nonzerox[good_left_inds]))\n",
    "        if len(good_right_inds) > minpix:\n",
    "            rightx_current = np.int(np.mean(nonzerox[good_right_inds]))\n",
    "    \n",
    "    #Concatinate the arrays of indices\n",
    "    left_lane_inds = np.concatenate(left_lane_inds)\n",
    "    right_lane_inds = np.concatenate(right_lane_inds)\n",
    "\n",
    "    #Extract left and right line pixel positions\n",
    "    leftx = nonzerox[left_lane_inds]\n",
    "    lefty = nonzeroy[left_lane_inds]\n",
    "    rightx = nonzerox[right_lane_inds]\n",
    "    righty = nonzeroy[right_lane_inds]\n",
    "\n",
    "    #Conversions from pixel to real world\n",
    "    ym_per_pix = 30/720 # meters per pixel in y dimension\n",
    "    xm_per_pix = 3.7/700 # meters per pixel in x dimension\n",
    "\n",
    "    #Fit a second order polynomial in pixel space\n",
    "    left_fit = np.polyfit(lefty, leftx, 2)\n",
    "    right_fit = np.polyfit(righty, rightx, 2)\n",
    "    \n",
    "    #Fit a second order polynomial to each in real world space\n",
    "    left_fit_worldSpace = np.polyfit(lefty * ym_per_pix, leftx * xm_per_pix, 2)\n",
    "    right_fit_worldSpace = np.polyfit(righty * ym_per_pix, rightx * xm_per_pix, 2)\n",
    "\n",
    "    #Visualize it\n",
    "    #Generate x and y values for plotting\n",
    "    ploty = np.linspace(0, binary_warp.shape[0] -1, binary_warp.shape[0])\n",
    "    left_fitx = left_fit[0]*ploty**2 + left_fit[1]*ploty + left_fit[2]\n",
    "    right_fitx = right_fit[0]*ploty**2 + right_fit[1]*ploty + right_fit[2]\n",
    "\n",
    "    out_img[nonzeroy[left_lane_inds], nonzerox[left_lane_inds]] = [255, 0, 0]\n",
    "    out_img[nonzeroy[right_lane_inds], nonzerox[right_lane_inds]] = [0, 0, 255]\n",
    "\n",
    "    left_line_picture = drawLines(out_img, left_fit, (100,100,0))\n",
    "    both_line_picture = drawLines(left_line_picture, right_fit, (100,0,100))\n",
    "    Frame.both_lines = both_line_picture\n",
    "\n",
    "\n",
    "    #######################################\n",
    "    #   Update Left and Right lanes\n",
    "    ########################################\n",
    "    leftLine.updateLine(left_fit, left_fitx, left_fit_worldSpace, leftx, lefty)\n",
    "    rightLine.updateLine(right_fit, right_fitx, right_fit_worldSpace, rightx, righty)\n",
    "    findDistFromCenter(Frame)\n",
    "\n",
    "\n",
    "#If you already found it, much easier to find line pixels\n",
    "def ezFind(Frame):\n",
    "    '''\n",
    "    Solves for left and right fits given that you already have left and right fits\n",
    "    Skips the sliding window portion\n",
    "    '''\n",
    "    leftLine = Frame.leftLine\n",
    "    rightLine = Frame.rightLine\n",
    "    img = Frame.combined_binary\n",
    "    nonzero = img.nonzero()\n",
    "    nonzeroy = np.array(nonzero[0])\n",
    "    nonzerox = np.array(nonzero[1])\n",
    "    margin = 100\n",
    "\n",
    "    #uses left line and right line current_fit\n",
    "    left_fit = leftLine.current_fit[-1]\n",
    "    right_fit = rightLine.current_fit[-1]\n",
    "    left_lane_inds = ((nonzerox > (left_fit[0]*(nonzeroy**2) + left_fit[1]*nonzeroy + left_fit[2] - margin)) &\n",
    "                      (nonzerox < (left_fit[0]*(nonzeroy**2) + left_fit[1]*nonzeroy + left_fit[2] + margin)))\n",
    "\n",
    "    right_lane_inds = ((nonzerox > (right_fit[0]*(nonzeroy**2) + right_fit[1]*nonzeroy + right_fit[2] - margin)) &\n",
    "                       (nonzerox < (right_fit[0]*(nonzeroy**2) + right_fit[1]*nonzeroy + right_fit[2] + margin)))\n",
    "\n",
    "    #Extract left and right line pixel positions\n",
    "    leftx = nonzerox[left_lane_inds]\n",
    "    lefty = nonzeroy[left_lane_inds]\n",
    "    rightx = nonzerox[right_lane_inds]\n",
    "    righty = nonzeroy[right_lane_inds]\n",
    "\n",
    "    #Conversions from pixel to real world\n",
    "    ym_per_pix = 30/720 # meters per pixel in y dimension\n",
    "    xm_per_pix = 3.7/700 # meters per pixel in x dimension\n",
    "\n",
    "    #Fit a second order polynomial in pixel space\n",
    "    left_fit = np.polyfit(lefty, leftx, 2)\n",
    "    right_fit = np.polyfit(righty, rightx, 2)\n",
    "    \n",
    "    #Fit a second order polynomial to each in real world space\n",
    "    left_fit_worldSpace = np.polyfit(lefty * ym_per_pix, leftx * xm_per_pix, 2)\n",
    "    right_fit_worldSpace = np.polyfit(righty * ym_per_pix, rightx * xm_per_pix, 2)\n",
    "    \n",
    "    #Generate x and y values for plotting\n",
    "    ploty = np.linspace(0, img.shape[0]-1, img.shape[0])\n",
    "    left_fitx = left_fit[0]*ploty**2 + left_fit[1]*ploty + left_fit[2]\n",
    "    right_fitx = right_fit[0]*ploty**2 + right_fit[1]*ploty + right_fit[2]\n",
    "\n",
    "    #Visualize result\n",
    "    out_img = np.dstack((img, img, img))* 255\n",
    "    window_img = np.zeros_like(out_img)\n",
    "    # Color in left and right line pixels\n",
    "    out_img[nonzeroy[left_lane_inds], nonzerox[left_lane_inds]] = [255,0,0]\n",
    "    out_img[nonzeroy[right_lane_inds], nonzerox[right_lane_inds]] = [0,0,255]\n",
    "\n",
    "    #Generate a polygon to illustrate the search window area\n",
    "    #Recast the x and y points into usable format for cv2.fillpoly()\n",
    "    left_line_window1 = np.array([np.transpose(np.vstack([left_fitx-margin, ploty]))])\n",
    "    left_line_window2 = np.array([np.flipud(np.transpose(np.vstack([left_fitx+margin, ploty])))])\n",
    "    left_line_pts = np.hstack((left_line_window1, left_line_window2))\n",
    "\n",
    "    right_line_window1 = np.array([np.transpose(np.vstack([right_fitx-margin, ploty]))])\n",
    "    right_line_window2 = np.array([np.flipud(np.transpose(np.vstack([right_fitx+margin, ploty])))])\n",
    "    right_line_pts = np.hstack((right_line_window1, right_line_window2))\n",
    "\n",
    "    #Draw the lane onto the warped blank image\n",
    "    cv2.fillPoly(window_img, np.int_([left_line_pts]), (0,255,0))\n",
    "    cv2.fillPoly(window_img, np.int_([right_line_pts]), (0,255,0))\n",
    "    result = cv2.addWeighted(out_img, 1, window_img, 0.3, 0)\n",
    "\n",
    "    left_line_picture = drawLines(out_img, left_fit, (100,100,0))\n",
    "    both_line_picture = drawLines(left_line_picture, right_fit, (100,0,100))\n",
    "    Frame.both_lines = both_line_picture\n",
    "\n",
    "\n",
    "    #######################################\n",
    "    #   Update Left and Right lanes\n",
    "    ########################################\n",
    "    leftLine.updateLine(left_fit, left_fitx, left_fit_worldSpace, leftx, lefty)\n",
    "    rightLine.updateLine(right_fit, right_fitx, right_fit_worldSpace, rightx, righty)\n",
    "    findDistFromCenter(Frame)\n",
    "\n",
    "    \n",
    "def findDistFromCenter(Frame):\n",
    "    leftLine = Frame.leftLine\n",
    "    rightLine = Frame.rightLine\n",
    "\n",
    "    img_height, img_width = Frame.original.shape[:2]\n",
    "    \n",
    "    xm_per_pix = 3.7/700 # meters per pixel in x dimension\n",
    "    carPosition = img_width //2\n",
    "    #check for current fits, if none then do nothing\n",
    "    try:\n",
    "        l_fit = leftLine.current_fit[-1]\n",
    "        r_fit = rightLine.current_fit[-1]\n",
    "        leftLineXint = l_fit[0]*img_height**2 + l_fit[1]*img_height + l_fit[2]\n",
    "        rightLineXint = r_fit[0]*img_height**2 + r_fit[1]*img_height + r_fit[2]\n",
    "        laneCenter = (leftLineXint + rightLineXint)//2\n",
    "        center_dist = (carPosition - laneCenter) * xm_per_pix\n",
    "\n",
    "        Frame.line_base_pos = center_dist\n",
    "    except:\n",
    "        print('index out of range, skipping')\n",
    "\n",
    "\n",
    "#Filling in area on image\n",
    "def draw(Frame):\n",
    "    '''\n",
    "    draws the lines and area onto the original image\n",
    "    takes in the original image and the binary warped image\n",
    "    Also takes in the left and right polyfit array\n",
    "    '''\n",
    "    leftLine = Frame.leftLine\n",
    "    rightLine = Frame.rightLine\n",
    "    img = Frame.undst\n",
    "    warped_img = Frame.combined_binary\n",
    "    Minv = Frame.Minv\n",
    "\n",
    "    #Fix the average!!\n",
    "    left_fit = leftLine.best_fit\n",
    "    right_fit = rightLine.best_fit\n",
    "    \n",
    "    warp_zero = np.zeros_like(warped_img).astype(np.uint8)\n",
    "    color_warp = np.dstack((warp_zero, warp_zero,  warp_zero))\n",
    "\n",
    "    #Generate x and y values for plotting\n",
    "    ploty = np.linspace(0, img.shape[0]-1, img.shape[0])\n",
    "    left_fitx = left_fit[0]*ploty**2 + left_fit[1]*ploty + left_fit[2]\n",
    "    right_fitx = right_fit[0]*ploty**2 + right_fit[1]*ploty + right_fit[2]\n",
    "    \n",
    "    #Recast the x and y ponts into usable format for cv2.fillPoly()\n",
    "    pts_left = np.array([np.transpose(np.vstack([left_fitx, ploty]))])\n",
    "    pts_right = np.array([np.flipud(np.transpose(np.vstack([right_fitx, ploty])))])\n",
    "    pts = np.hstack((pts_left, pts_right))\n",
    "\n",
    "    #Draw the lane onto the warped blank image\n",
    "    cv2.fillPoly(color_warp, np.int_([pts]), (0, 255, 0))\n",
    "\n",
    "    #Warp the blank back to original image space using inverse perspective matrix (Minv)\n",
    "    newwarp = cv2.warpPerspective(color_warp, Minv, (img.shape[1], img.shape[0]))\n",
    "    #Combine the result with the original image\n",
    "    result = cv2.addWeighted(img, 1, newwarp, 0.3, 0)\n",
    "\n",
    "    #draw text on the image\n",
    "    result = drawText(result, Frame)\n",
    "    #visualizeImage('Final image', result)\n",
    "    Frame.finalImage = result\n",
    "\n",
    "\n",
    "def drawLines(img, fit, color):\n",
    "    if fit is None:\n",
    "        return img\n",
    "    editImg = np.copy(img)\n",
    "    ploty = np.linspace(0, img.shape[0]-1,  img.shape[0])\n",
    "    plotx = fit[0]*ploty**2 + fit[1]*ploty + fit[2]\n",
    "    pts = np.array([np.transpose(np.vstack([plotx, ploty]))])\n",
    "    cv2.polylines(editImg, np.int32([pts]), isClosed = False, color = color, thickness = 5)\n",
    "    return editImg\n",
    "\n",
    "def drawText(img, Frame):\n",
    "    leftLine = Frame.leftLine\n",
    "    rightLine = Frame.rightLine\n",
    "    new_img = np.copy(img)\n",
    "    h = new_img.shape[0]\n",
    "    #writing down curve radius\n",
    "    text = 'Curve radius :' + '{:04.2f}'.format((leftLine.radius_of_curvature + rightLine.radius_of_curvature)/2) + 'm'\n",
    "    cv2.putText(new_img, text, (40,70), cv2.FONT_HERSHEY_SIMPLEX, 1.5, (255,255,255), 2, cv2.LINE_AA)\n",
    "\n",
    "    #writing down center of lane\n",
    "    center_dist = Frame.line_base_pos\n",
    "    if center_dist > 0:\n",
    "        direction = 'right'\n",
    "    else:\n",
    "        direction = 'left'\n",
    "\n",
    "    abs_center_dist = abs(center_dist)\n",
    "    text = '{:04.3f}'.format(abs_center_dist) + 'm ' + direction + ' of center'\n",
    "    cv2.putText(new_img, text, (40, 120), cv2.FONT_HERSHEY_SIMPLEX, 1.5, (255,255,255), 2, cv2.LINE_AA)\n",
    "\n",
    "    return new_img\n",
    "\n",
    "def visualizeAll(Frame):\n",
    "    visualizeImage('original',Frame.original)\n",
    "    visualizeImage('undst', Frame.undst)\n",
    "    visualizeImage('gray', Frame.gray)\n",
    "    visualizeImage('warp', Frame.warp)\n",
    "    visualizeImage('color binary', Frame.color_binary)\n",
    "    visualizeImage('both lines', Frame.both_lines)\n",
    "    visualizeImage('final image', Frame.finalImage)\n",
    "    visualizeImage('h channel', Frame.h_channel)\n",
    "    visualizeImage('l channel', Frame.l_channel)\n",
    "    visualizeImage('s channel', Frame.s_channel)\n",
    "    visualizeImage('sobel', Frame.sxbinary)\n",
    "    visualizeImage('s channel binary', Frame.s_binary)\n",
    "    visualizeImage('mesh', Frame.mesh)\n",
    "\n",
    "def createMesh(Frame):\n",
    "    names = ['border', 'warp', 'gray', 'sobelx', 's_channel', 'sobelx_s_channel_binary', 'color_binary', 'both_lines', 'Final Image']\n",
    "    display = {'undst':Frame.undst, 'gray':Frame.gray, 'warp':Frame.warp,\n",
    "               'h_channel':Frame.h_channel, 'l_channel':Frame.l_channel, 's_channel':Frame.s_channel,\n",
    "               'color_binary':Frame.color_binary, 'both_lines':Frame.both_lines, 'Final Image':Frame.finalImage,\n",
    "               'sobelx':Frame.sxbinary, 'border':Frame.border, 'sobelx_s_channel_binary':Frame.sx_s_channel_binary}\n",
    "    height, width = Frame.original.shape[:2]\n",
    "    Frame.mesh = np.copy(Frame.original)\n",
    "    offset_x = 0\n",
    "    offset_y = 0\n",
    "    i = 0\n",
    "    for name in names:\n",
    "        text = name\n",
    "        img = np.copy(display[name])\n",
    "\n",
    "        #Check and convert from grayscale to BGR\n",
    "        if len(img.shape) < 3:\n",
    "            try:\n",
    "                #try to convert to grayscale\n",
    "                img = cv2.cvtColor(img, cv2.COLOR_GRAY2RGB)\n",
    "            except:\n",
    "                img = np.dstack(( img, img, img)) * 255\n",
    "        \n",
    "        res = cv2.resize(img, (width//3, height //3), interpolation = cv2.INTER_LINEAR)\n",
    "        #put name in the bottom middle of the image, resize it and put it on the mesh image\n",
    "        cv2.putText(res,text, (res.shape[1] //2 - 50, res.shape[0] - 20), cv2.FONT_HERSHEY_SIMPLEX, .75, (255,255,255), 1, cv2.LINE_AA)\n",
    "\n",
    "        Frame.mesh[offset_y:offset_y + res.shape[0], offset_x:offset_x + res.shape[1]] = res\n",
    "        \n",
    "        #update i and offset values\n",
    "        i += 1\n",
    "        if i % 3 == 0:\n",
    "            #next row\n",
    "            offset_x = 0\n",
    "            offset_y += height // 3\n",
    "        else:\n",
    "            offset_x += width // 3 \n",
    "\n",
    "    "
   ]
  },
  {
   "cell_type": "code",
   "execution_count": 5,
   "metadata": {
    "collapsed": true
   },
   "outputs": [],
   "source": [
    "##############################################\n",
    "#   Main Code\n",
    "##############################################"
   ]
  },
  {
   "cell_type": "code",
   "execution_count": 6,
   "metadata": {},
   "outputs": [],
   "source": [
    "#####################################################\n",
    "#   Initialize global objects\n",
    "#####################################################\n",
    "\n",
    "Frame = Frame()\n",
    "\n",
    "##############################################\n",
    "#   Calibrate Camera\n",
    "##############################################\n",
    "\n",
    "#prepare object points\n",
    "objp = np.zeros((6*9,3), np.float32)\n",
    "objp[:,:2] = np.mgrid[0:9,0:6].T.reshape(-1,2)\n",
    "\n",
    "#Arrays to store object points and image points from all the images\n",
    "Frame.objpoints = [] #3d points in real world space\n",
    "Frame.imgpoints = [] # 2d points in image plane\n",
    "\n",
    "#Make a list of calibration images\n",
    "images = glob.glob('camera_cal/calibration*.jpg')\n",
    "\n",
    "#Step through the lsit and search for chessboard corners\n",
    "for idx, fname in enumerate(images):\n",
    "    img = cv2.imread(fname)\n",
    "    gray = cv2.cvtColor(img, cv2.COLOR_BGR2GRAY)\n",
    "\n",
    "    #find corners\n",
    "    ret, corners = cv2.findChessboardCorners(gray, (9,6), None)\n",
    "\n",
    "    #If found, add object points, image points\n",
    "    if ret == True:\n",
    "        Frame.objpoints.append(objp)\n",
    "        Frame.imgpoints.append(corners)\n",
    "\n",
    "        #Draw and display the corners\n",
    "\n",
    "        cv2.drawChessboardCorners(img, (9,6), corners, ret)\n",
    "        cv2.imshow('img', img)\n",
    "        cv2.waitKey(1)\n",
    "\n",
    "#cv2.destroyAllWindows()\n",
    "\n",
    "\n"
   ]
  },
  {
   "cell_type": "code",
   "execution_count": 7,
   "metadata": {},
   "outputs": [],
   "source": [
    "########################################################\n",
    "#   Import Test Image\n",
    "########################################################\n",
    "#Import test images or video file, make into for loop later\n",
    "\n",
    "def processImage(img):\n",
    "\n",
    "    ########################################################\n",
    "    #   Process Image\n",
    "    ########################################################\n",
    "    #   Use functions to process image to find curves\n",
    "\n",
    "    #Undistort original image\n",
    "    Frame.original = img\n",
    "    undistort(Frame)\n",
    "\n",
    "    #Change to bird's eye view\n",
    "    perspectiveTransform(Frame)\n",
    "    #Sobel and Sat thresh\n",
    "    thresholding(Frame, sobel_t_min = 20, sobel_t_max = 255, s_t_min = 200, s_t_max = 255)\n",
    "\n",
    "    #If we already have left and right lines, we can do ezFind. Otherwise, use sliding window method\n",
    "    if (Frame.leftLine.isLineDetected() and Frame.rightLine.isLineDetected()):\n",
    "        ezFind(Frame)\n",
    "    else:\n",
    "        #Use sliding window method if we haven't found anything in the last 5 checks\n",
    "        slidingWindow(Frame)\n",
    "        \n",
    "    draw(Frame)\n",
    "    #Needs to return an image for it to work\n",
    "    createMesh(Frame)\n",
    "    #visualizeAll(Frame)\n",
    "   \n",
    "    visualizeImage('mesh',Frame.mesh)\n",
    "\n",
    "    #Change retrun statement to Frame.mesh if you want to create a mesh video\n",
    "    #return Frame.finalImage\n",
    "    return Frame.mesh\n"
   ]
  },
  {
   "cell_type": "code",
   "execution_count": 8,
   "metadata": {
    "collapsed": true
   },
   "outputs": [],
   "source": [
    "def testImage(filename):\n",
    "    #Run code for just one image\n",
    "    name = filename.split('/')[-1]\n",
    "    img = cv2.imread(filename)\n",
    "    processImage(img)\n",
    "    cv2.imwrite('output_images/'+name, Frame.finalImage)\n",
    "    "
   ]
  },
  {
   "cell_type": "code",
   "execution_count": null,
   "metadata": {},
   "outputs": [],
   "source": [
    "#testImage('test_images/straight_lines1.jpg')\n",
    "testImage('test_images/test4.jpg')"
   ]
  },
  {
   "cell_type": "code",
   "execution_count": null,
   "metadata": {},
   "outputs": [],
   "source": [
    "#Video\n",
    "output_file = 'video_output.mp4'\n",
    "input_file = VideoFileClip('project_video.mp4')\n",
    "processedClip = input_file.fl_image(processImage)\n",
    "#processedClip.write_videofile(processedClip, audio = False)\n",
    "%time processedClip.write_videofile(output_file, audio=False)"
   ]
  },
  {
   "cell_type": "code",
   "execution_count": 9,
   "metadata": {},
   "outputs": [
    {
     "name": "stdout",
     "output_type": "stream",
     "text": [
      "s_channel shape (720, 1280)\n",
      "curverad 1022.87395237\n",
      "curverad 572.802961316\n",
      "[MoviePy] >>>> Building video challenge_video_output.mp4\n",
      "[MoviePy] Writing video challenge_video_output.mp4\n"
     ]
    },
    {
     "name": "stderr",
     "output_type": "stream",
     "text": [
      "\r",
      "  0%|          | 0/485 [00:00<?, ?it/s]"
     ]
    },
    {
     "name": "stdout",
     "output_type": "stream",
     "text": [
      "s_channel shape (720, 1280)\n",
      "curverad 720.808110219\n",
      "curverad 572.121179595\n"
     ]
    },
    {
     "name": "stderr",
     "output_type": "stream",
     "text": [
      "\r",
      "  0%|          | 1/485 [00:00<07:41,  1.05it/s]"
     ]
    },
    {
     "name": "stdout",
     "output_type": "stream",
     "text": [
      "s_channel shape (720, 1280)\n",
      "curverad 698.039354543\n",
      "curverad 487.471900637\n"
     ]
    },
    {
     "name": "stderr",
     "output_type": "stream",
     "text": [
      "\r",
      "  0%|          | 2/485 [00:02<07:55,  1.02it/s]"
     ]
    },
    {
     "name": "stdout",
     "output_type": "stream",
     "text": [
      "s_channel shape (720, 1280)\n",
      "curverad 606.668293118\n",
      "curverad 441.171387134\n"
     ]
    },
    {
     "name": "stderr",
     "output_type": "stream",
     "text": [
      "\r",
      "  1%|          | 3/485 [00:02<07:47,  1.03it/s]"
     ]
    },
    {
     "name": "stdout",
     "output_type": "stream",
     "text": [
      "s_channel shape (720, 1280)\n",
      "curverad 627.517150696\n",
      "curverad 410.510186799\n"
     ]
    },
    {
     "name": "stderr",
     "output_type": "stream",
     "text": [
      "\r",
      "  1%|          | 4/485 [00:03<07:49,  1.02it/s]"
     ]
    },
    {
     "name": "stdout",
     "output_type": "stream",
     "text": [
      "s_channel shape (720, 1280)\n",
      "curverad 589.136438723\n",
      "curverad 363.84157249\n"
     ]
    },
    {
     "name": "stderr",
     "output_type": "stream",
     "text": [
      "\r",
      "  1%|          | 5/485 [00:04<07:41,  1.04it/s]"
     ]
    },
    {
     "name": "stdout",
     "output_type": "stream",
     "text": [
      "s_channel shape (720, 1280)\n",
      "curverad 517.448225619\n",
      "curverad 359.325820051\n"
     ]
    },
    {
     "name": "stderr",
     "output_type": "stream",
     "text": [
      "\r",
      "  1%|          | 6/485 [00:05<07:37,  1.05it/s]"
     ]
    },
    {
     "name": "stdout",
     "output_type": "stream",
     "text": [
      "s_channel shape (720, 1280)\n",
      "curverad 475.298457081\n",
      "curverad 393.827164046\n"
     ]
    },
    {
     "name": "stderr",
     "output_type": "stream",
     "text": [
      "\r",
      "  1%|▏         | 7/485 [00:06<07:30,  1.06it/s]"
     ]
    },
    {
     "name": "stdout",
     "output_type": "stream",
     "text": [
      "s_channel shape (720, 1280)\n",
      "curverad 486.561603238\n",
      "curverad 453.02354819\n"
     ]
    },
    {
     "name": "stderr",
     "output_type": "stream",
     "text": [
      "\r",
      "  2%|▏         | 8/485 [00:07<07:28,  1.06it/s]"
     ]
    },
    {
     "name": "stdout",
     "output_type": "stream",
     "text": [
      "s_channel shape (720, 1280)\n",
      "curverad 438.408228567\n",
      "curverad 582.095783917\n"
     ]
    },
    {
     "name": "stderr",
     "output_type": "stream",
     "text": [
      "\r",
      "  2%|▏         | 9/485 [00:08<07:23,  1.07it/s]"
     ]
    },
    {
     "name": "stdout",
     "output_type": "stream",
     "text": [
      "s_channel shape (720, 1280)\n",
      "curverad 430.435991398\n",
      "curverad 805.671417903\n"
     ]
    },
    {
     "name": "stderr",
     "output_type": "stream",
     "text": [
      "\r",
      "  2%|▏         | 10/485 [00:09<07:19,  1.08it/s]"
     ]
    },
    {
     "name": "stdout",
     "output_type": "stream",
     "text": [
      "s_channel shape (720, 1280)\n",
      "curverad 502.530144525\n",
      "curverad 778.827463362\n"
     ]
    },
    {
     "name": "stderr",
     "output_type": "stream",
     "text": [
      "\r",
      "  2%|▏         | 11/485 [00:10<07:16,  1.09it/s]"
     ]
    },
    {
     "name": "stdout",
     "output_type": "stream",
     "text": [
      "s_channel shape (720, 1280)\n",
      "curverad 564.695794703\n",
      "curverad 766.448591657\n"
     ]
    },
    {
     "name": "stderr",
     "output_type": "stream",
     "text": [
      "\r",
      "  2%|▏         | 12/485 [00:11<07:16,  1.08it/s]"
     ]
    },
    {
     "name": "stdout",
     "output_type": "stream",
     "text": [
      "s_channel shape (720, 1280)\n",
      "curverad 682.341919627\n",
      "curverad 859.927613455\n"
     ]
    },
    {
     "name": "stderr",
     "output_type": "stream",
     "text": [
      "\r",
      "  3%|▎         | 13/485 [00:12<07:14,  1.09it/s]"
     ]
    },
    {
     "name": "stdout",
     "output_type": "stream",
     "text": [
      "s_channel shape (720, 1280)\n",
      "curverad 929.252520282\n",
      "curverad 1004.17323904\n"
     ]
    },
    {
     "name": "stderr",
     "output_type": "stream",
     "text": [
      "\r",
      "  3%|▎         | 14/485 [00:13<07:16,  1.08it/s]"
     ]
    },
    {
     "name": "stdout",
     "output_type": "stream",
     "text": [
      "s_channel shape (720, 1280)\n",
      "curverad 1024.72009884\n",
      "curverad 1300.20150212\n"
     ]
    },
    {
     "name": "stderr",
     "output_type": "stream",
     "text": [
      "\r",
      "  3%|▎         | 15/485 [00:14<07:15,  1.08it/s]"
     ]
    },
    {
     "name": "stdout",
     "output_type": "stream",
     "text": [
      "s_channel shape (720, 1280)\n",
      "curverad 1082.43677663\n",
      "curverad 4761.48547135\n"
     ]
    },
    {
     "name": "stderr",
     "output_type": "stream",
     "text": [
      "\r",
      "  3%|▎         | 16/485 [00:15<07:17,  1.07it/s]"
     ]
    },
    {
     "name": "stdout",
     "output_type": "stream",
     "text": [
      "s_channel shape (720, 1280)\n",
      "curverad 1113.76506384\n",
      "curverad 4485.96208718\n"
     ]
    },
    {
     "name": "stderr",
     "output_type": "stream",
     "text": [
      "\r",
      "  4%|▎         | 17/485 [00:15<07:17,  1.07it/s]"
     ]
    },
    {
     "name": "stdout",
     "output_type": "stream",
     "text": [
      "s_channel shape (720, 1280)\n",
      "curverad 958.165944084\n",
      "curverad 2231.98906746\n"
     ]
    },
    {
     "name": "stderr",
     "output_type": "stream",
     "text": [
      "\r",
      "  4%|▎         | 18/485 [00:16<07:20,  1.06it/s]"
     ]
    },
    {
     "name": "stdout",
     "output_type": "stream",
     "text": [
      "s_channel shape (720, 1280)\n",
      "curverad 899.354384335\n",
      "curverad 1674.44425845\n"
     ]
    },
    {
     "name": "stderr",
     "output_type": "stream",
     "text": [
      "\r",
      "  4%|▍         | 19/485 [00:17<07:19,  1.06it/s]"
     ]
    },
    {
     "name": "stdout",
     "output_type": "stream",
     "text": [
      "s_channel shape (720, 1280)\n",
      "curverad 835.635316949\n",
      "curverad 1391.11216698\n"
     ]
    },
    {
     "name": "stderr",
     "output_type": "stream",
     "text": [
      "\r",
      "  4%|▍         | 20/485 [00:18<07:17,  1.06it/s]"
     ]
    },
    {
     "name": "stdout",
     "output_type": "stream",
     "text": [
      "s_channel shape (720, 1280)\n",
      "curverad 804.449851263\n",
      "curverad 1519.9305821\n"
     ]
    },
    {
     "name": "stderr",
     "output_type": "stream",
     "text": [
      "\r",
      "  4%|▍         | 21/485 [00:19<07:12,  1.07it/s]"
     ]
    },
    {
     "name": "stdout",
     "output_type": "stream",
     "text": [
      "s_channel shape (720, 1280)\n",
      "curverad 798.776672436\n",
      "curverad 1572.97060232\n"
     ]
    },
    {
     "name": "stderr",
     "output_type": "stream",
     "text": [
      "\r",
      "  5%|▍         | 22/485 [00:20<07:10,  1.08it/s]"
     ]
    },
    {
     "name": "stdout",
     "output_type": "stream",
     "text": [
      "s_channel shape (720, 1280)\n",
      "curverad 799.525873211\n",
      "curverad 1481.98465213\n"
     ]
    },
    {
     "name": "stderr",
     "output_type": "stream",
     "text": [
      "\r",
      "  5%|▍         | 23/485 [00:21<07:10,  1.07it/s]"
     ]
    },
    {
     "name": "stdout",
     "output_type": "stream",
     "text": [
      "s_channel shape (720, 1280)\n",
      "curverad 826.05316427\n",
      "curverad 1489.37577071\n"
     ]
    },
    {
     "name": "stderr",
     "output_type": "stream",
     "text": [
      "\r",
      "  5%|▍         | 24/485 [00:22<07:08,  1.08it/s]"
     ]
    },
    {
     "name": "stdout",
     "output_type": "stream",
     "text": [
      "s_channel shape (720, 1280)\n",
      "curverad 1375.60487351\n",
      "curverad 1682.78021929\n"
     ]
    },
    {
     "name": "stderr",
     "output_type": "stream",
     "text": [
      "\r",
      "  5%|▌         | 25/485 [00:23<07:08,  1.07it/s]"
     ]
    },
    {
     "name": "stdout",
     "output_type": "stream",
     "text": [
      "s_channel shape (720, 1280)\n",
      "curverad 5313.05609651\n",
      "curverad 1573.10543725\n"
     ]
    },
    {
     "name": "stderr",
     "output_type": "stream",
     "text": [
      "\r",
      "  5%|▌         | 26/485 [00:24<07:06,  1.08it/s]"
     ]
    },
    {
     "name": "stdout",
     "output_type": "stream",
     "text": [
      "s_channel shape (720, 1280)\n",
      "curverad 2530.35376638\n",
      "curverad 1401.77946746\n"
     ]
    },
    {
     "name": "stderr",
     "output_type": "stream",
     "text": [
      "\r",
      "  6%|▌         | 27/485 [00:25<07:04,  1.08it/s]"
     ]
    },
    {
     "name": "stdout",
     "output_type": "stream",
     "text": [
      "s_channel shape (720, 1280)\n",
      "curverad 925.878587293\n",
      "curverad 1194.19297017\n"
     ]
    },
    {
     "name": "stderr",
     "output_type": "stream",
     "text": [
      "\r",
      "  6%|▌         | 28/485 [00:26<07:02,  1.08it/s]"
     ]
    },
    {
     "name": "stdout",
     "output_type": "stream",
     "text": [
      "s_channel shape (720, 1280)\n",
      "curverad 662.701198173\n",
      "curverad 886.737546753\n"
     ]
    },
    {
     "name": "stderr",
     "output_type": "stream",
     "text": [
      "\r",
      "  6%|▌         | 29/485 [00:27<07:02,  1.08it/s]"
     ]
    },
    {
     "name": "stdout",
     "output_type": "stream",
     "text": [
      "s_channel shape (720, 1280)\n",
      "curverad 569.131468222\n",
      "curverad 548.261616995\n"
     ]
    },
    {
     "name": "stderr",
     "output_type": "stream",
     "text": [
      "\r",
      "  6%|▌         | 30/485 [00:28<06:59,  1.08it/s]"
     ]
    },
    {
     "name": "stdout",
     "output_type": "stream",
     "text": [
      "s_channel shape (720, 1280)\n",
      "curverad 539.066879373\n",
      "curverad 453.130953737\n"
     ]
    },
    {
     "name": "stderr",
     "output_type": "stream",
     "text": [
      "\r",
      "  6%|▋         | 31/485 [00:29<07:02,  1.07it/s]"
     ]
    },
    {
     "name": "stdout",
     "output_type": "stream",
     "text": [
      "s_channel shape (720, 1280)\n",
      "curverad 517.712576367\n",
      "curverad 391.612135129\n"
     ]
    },
    {
     "name": "stderr",
     "output_type": "stream",
     "text": [
      "\r",
      "  7%|▋         | 32/485 [00:29<07:02,  1.07it/s]"
     ]
    },
    {
     "name": "stdout",
     "output_type": "stream",
     "text": [
      "s_channel shape (720, 1280)\n",
      "curverad 532.972041234\n",
      "curverad 375.382548192\n"
     ]
    },
    {
     "name": "stderr",
     "output_type": "stream",
     "text": [
      "\r",
      "  7%|▋         | 33/485 [00:30<06:58,  1.08it/s]"
     ]
    },
    {
     "name": "stdout",
     "output_type": "stream",
     "text": [
      "s_channel shape (720, 1280)\n",
      "curverad 566.216813432\n",
      "curverad 386.951436261\n"
     ]
    },
    {
     "name": "stderr",
     "output_type": "stream",
     "text": [
      "\r",
      "  7%|▋         | 34/485 [00:31<06:58,  1.08it/s]"
     ]
    },
    {
     "name": "stdout",
     "output_type": "stream",
     "text": [
      "s_channel shape (720, 1280)\n",
      "curverad 683.55701454\n",
      "curverad 543.184429251\n"
     ]
    },
    {
     "name": "stderr",
     "output_type": "stream",
     "text": [
      "\r",
      "  7%|▋         | 35/485 [00:32<06:58,  1.07it/s]"
     ]
    },
    {
     "name": "stdout",
     "output_type": "stream",
     "text": [
      "s_channel shape (720, 1280)\n",
      "curverad 924.946280375\n",
      "curverad 789.784822913\n"
     ]
    },
    {
     "name": "stderr",
     "output_type": "stream",
     "text": [
      "\r",
      "  7%|▋         | 36/485 [00:33<06:57,  1.08it/s]"
     ]
    },
    {
     "name": "stdout",
     "output_type": "stream",
     "text": [
      "s_channel shape (720, 1280)\n",
      "curverad 1800.09175423\n",
      "curverad 2271.07414631\n"
     ]
    },
    {
     "name": "stderr",
     "output_type": "stream",
     "text": [
      "\r",
      "  8%|▊         | 37/485 [00:34<06:53,  1.08it/s]"
     ]
    },
    {
     "name": "stdout",
     "output_type": "stream",
     "text": [
      "s_channel shape (720, 1280)\n",
      "curverad 18761.7647423\n",
      "curverad 4330.28242509\n"
     ]
    },
    {
     "name": "stderr",
     "output_type": "stream",
     "text": [
      "\r",
      "  8%|▊         | 38/485 [00:35<06:51,  1.09it/s]"
     ]
    },
    {
     "name": "stdout",
     "output_type": "stream",
     "text": [
      "s_channel shape (720, 1280)\n",
      "curverad 2259.4240038\n",
      "curverad 1241.55004509\n"
     ]
    },
    {
     "name": "stderr",
     "output_type": "stream",
     "text": [
      "\r",
      "  8%|▊         | 39/485 [00:36<06:51,  1.08it/s]"
     ]
    },
    {
     "name": "stdout",
     "output_type": "stream",
     "text": [
      "s_channel shape (720, 1280)\n",
      "curverad 1496.95872664\n",
      "curverad 1260.88518868\n"
     ]
    },
    {
     "name": "stderr",
     "output_type": "stream",
     "text": [
      "\r",
      "  8%|▊         | 40/485 [00:37<06:50,  1.08it/s]"
     ]
    },
    {
     "name": "stdout",
     "output_type": "stream",
     "text": [
      "s_channel shape (720, 1280)\n",
      "curverad 1287.1109328\n",
      "curverad 2328.23360192\n"
     ]
    },
    {
     "name": "stderr",
     "output_type": "stream",
     "text": [
      "\r",
      "  8%|▊         | 41/485 [00:38<06:51,  1.08it/s]"
     ]
    },
    {
     "name": "stdout",
     "output_type": "stream",
     "text": [
      "s_channel shape (720, 1280)\n",
      "curverad 1179.51774627\n",
      "curverad 1957.84290878\n"
     ]
    },
    {
     "name": "stderr",
     "output_type": "stream",
     "text": [
      "\r",
      "  9%|▊         | 42/485 [00:39<06:49,  1.08it/s]"
     ]
    },
    {
     "name": "stdout",
     "output_type": "stream",
     "text": [
      "s_channel shape (720, 1280)\n",
      "curverad 1073.56570838\n",
      "curverad 558.520649869\n"
     ]
    },
    {
     "name": "stderr",
     "output_type": "stream",
     "text": [
      "\r",
      "  9%|▉         | 43/485 [00:40<06:49,  1.08it/s]"
     ]
    },
    {
     "name": "stdout",
     "output_type": "stream",
     "text": [
      "s_channel shape (720, 1280)\n",
      "curverad 1084.15334579\n",
      "curverad 281.241171427\n"
     ]
    },
    {
     "name": "stderr",
     "output_type": "stream",
     "text": [
      "\r",
      "  9%|▉         | 44/485 [00:41<06:45,  1.09it/s]"
     ]
    },
    {
     "name": "stdout",
     "output_type": "stream",
     "text": [
      "s_channel shape (720, 1280)\n",
      "curverad 950.659089523\n",
      "curverad 178.41027738\n"
     ]
    },
    {
     "name": "stderr",
     "output_type": "stream",
     "text": [
      "\r",
      "  9%|▉         | 45/485 [00:41<06:43,  1.09it/s]"
     ]
    },
    {
     "name": "stdout",
     "output_type": "stream",
     "text": [
      "s_channel shape (720, 1280)\n",
      "curverad 998.013245784\n",
      "curverad 128.362820366\n"
     ]
    },
    {
     "name": "stderr",
     "output_type": "stream",
     "text": [
      "\r",
      "  9%|▉         | 46/485 [00:42<06:42,  1.09it/s]"
     ]
    },
    {
     "name": "stdout",
     "output_type": "stream",
     "text": [
      "s_channel shape (720, 1280)\n",
      "curverad 1230.61289798\n",
      "curverad 101.68743841\n"
     ]
    },
    {
     "name": "stderr",
     "output_type": "stream",
     "text": [
      "\r",
      " 10%|▉         | 47/485 [00:43<06:39,  1.10it/s]"
     ]
    },
    {
     "name": "stdout",
     "output_type": "stream",
     "text": [
      "s_channel shape (720, 1280)\n",
      "curverad 1915.51658316\n",
      "curverad 86.9946831537\n"
     ]
    },
    {
     "name": "stderr",
     "output_type": "stream",
     "text": [
      "\r",
      " 10%|▉         | 48/485 [00:44<06:39,  1.09it/s]"
     ]
    },
    {
     "name": "stdout",
     "output_type": "stream",
     "text": [
      "s_channel shape (720, 1280)\n",
      "curverad 3419.19967061\n",
      "curverad 80.127325888\n"
     ]
    },
    {
     "name": "stderr",
     "output_type": "stream",
     "text": [
      "\r",
      " 10%|█         | 49/485 [00:45<06:38,  1.09it/s]"
     ]
    },
    {
     "name": "stdout",
     "output_type": "stream",
     "text": [
      "s_channel shape (720, 1280)\n",
      "curverad 116806.599937\n",
      "curverad 76.657159311\n"
     ]
    },
    {
     "name": "stderr",
     "output_type": "stream",
     "text": [
      "\r",
      " 10%|█         | 50/485 [00:46<06:39,  1.09it/s]"
     ]
    },
    {
     "name": "stdout",
     "output_type": "stream",
     "text": [
      "s_channel shape (720, 1280)\n",
      "curverad 5306.77235754\n",
      "curverad 75.5443838584\n"
     ]
    },
    {
     "name": "stderr",
     "output_type": "stream",
     "text": [
      "\r",
      " 11%|█         | 51/485 [00:47<06:37,  1.09it/s]"
     ]
    },
    {
     "name": "stdout",
     "output_type": "stream",
     "text": [
      "s_channel shape (720, 1280)\n",
      "curverad 5423.24711403\n",
      "curverad 75.9633588077\n"
     ]
    },
    {
     "name": "stderr",
     "output_type": "stream",
     "text": [
      "\r",
      " 11%|█         | 52/485 [00:48<06:36,  1.09it/s]"
     ]
    },
    {
     "name": "stdout",
     "output_type": "stream",
     "text": [
      "s_channel shape (720, 1280)\n",
      "curverad 6700.51038726\n",
      "curverad 75.9157695595\n"
     ]
    },
    {
     "name": "stderr",
     "output_type": "stream",
     "text": [
      "\r",
      " 11%|█         | 53/485 [00:49<06:35,  1.09it/s]"
     ]
    },
    {
     "name": "stdout",
     "output_type": "stream",
     "text": [
      "s_channel shape (720, 1280)\n",
      "curverad 65959.8266992\n",
      "curverad 74.9843658328\n"
     ]
    },
    {
     "name": "stderr",
     "output_type": "stream",
     "text": [
      "\r",
      " 11%|█         | 54/485 [00:50<06:34,  1.09it/s]"
     ]
    },
    {
     "name": "stdout",
     "output_type": "stream",
     "text": [
      "s_channel shape (720, 1280)\n",
      "curverad 6779.35257242\n",
      "curverad 74.5171542217\n"
     ]
    },
    {
     "name": "stderr",
     "output_type": "stream",
     "text": [
      "\r",
      " 11%|█▏        | 55/485 [00:51<06:34,  1.09it/s]"
     ]
    },
    {
     "name": "stdout",
     "output_type": "stream",
     "text": [
      "s_channel shape (720, 1280)\n",
      "curverad 2178.61120298\n",
      "curverad 74.2839650089\n"
     ]
    },
    {
     "name": "stderr",
     "output_type": "stream",
     "text": [
      "\r",
      " 12%|█▏        | 56/485 [00:52<06:34,  1.09it/s]"
     ]
    },
    {
     "name": "stdout",
     "output_type": "stream",
     "text": [
      "s_channel shape (720, 1280)\n",
      "curverad 1073.41626184\n",
      "curverad 73.4491112153\n"
     ]
    },
    {
     "name": "stderr",
     "output_type": "stream",
     "text": [
      "\r",
      " 12%|█▏        | 57/485 [00:52<06:32,  1.09it/s]"
     ]
    },
    {
     "name": "stdout",
     "output_type": "stream",
     "text": [
      "s_channel shape (720, 1280)\n",
      "curverad 693.31357933\n",
      "curverad 72.7735675487\n"
     ]
    },
    {
     "name": "stderr",
     "output_type": "stream",
     "text": [
      "\r",
      " 12%|█▏        | 58/485 [00:53<06:31,  1.09it/s]"
     ]
    },
    {
     "name": "stdout",
     "output_type": "stream",
     "text": [
      "s_channel shape (720, 1280)\n",
      "curverad 508.064740355\n",
      "curverad 71.5719039523\n"
     ]
    },
    {
     "name": "stderr",
     "output_type": "stream",
     "text": [
      "\r",
      " 12%|█▏        | 59/485 [00:54<06:30,  1.09it/s]"
     ]
    },
    {
     "name": "stdout",
     "output_type": "stream",
     "text": [
      "s_channel shape (720, 1280)\n",
      "curverad 402.802296209\n",
      "curverad 67.9830143088\n"
     ]
    },
    {
     "name": "stderr",
     "output_type": "stream",
     "text": [
      "\r",
      " 12%|█▏        | 60/485 [00:55<06:31,  1.09it/s]"
     ]
    },
    {
     "name": "stdout",
     "output_type": "stream",
     "text": [
      "s_channel shape (720, 1280)\n",
      "curverad 322.766972909\n",
      "curverad 63.9800887549\n"
     ]
    },
    {
     "name": "stderr",
     "output_type": "stream",
     "text": [
      "\r",
      " 13%|█▎        | 61/485 [00:56<06:29,  1.09it/s]"
     ]
    },
    {
     "name": "stdout",
     "output_type": "stream",
     "text": [
      "s_channel shape (720, 1280)\n",
      "curverad 296.144225468\n",
      "curverad 60.8988808709\n"
     ]
    },
    {
     "name": "stderr",
     "output_type": "stream",
     "text": [
      "\r",
      " 13%|█▎        | 62/485 [00:57<06:28,  1.09it/s]"
     ]
    },
    {
     "name": "stdout",
     "output_type": "stream",
     "text": [
      "s_channel shape (720, 1280)\n",
      "curverad 264.520289863\n",
      "curverad 58.7992980239\n"
     ]
    },
    {
     "name": "stderr",
     "output_type": "stream",
     "text": [
      "\r",
      " 13%|█▎        | 63/485 [00:58<06:26,  1.09it/s]"
     ]
    },
    {
     "name": "stdout",
     "output_type": "stream",
     "text": [
      "s_channel shape (720, 1280)\n",
      "curverad 238.66522479\n",
      "curverad 57.4533101082\n"
     ]
    },
    {
     "name": "stderr",
     "output_type": "stream",
     "text": [
      "\r",
      " 13%|█▎        | 64/485 [00:59<06:26,  1.09it/s]"
     ]
    },
    {
     "name": "stdout",
     "output_type": "stream",
     "text": [
      "s_channel shape (720, 1280)\n",
      "curverad 216.689056995\n",
      "curverad 58.4531882105\n"
     ]
    },
    {
     "name": "stderr",
     "output_type": "stream",
     "text": [
      "\r",
      " 13%|█▎        | 65/485 [01:00<06:25,  1.09it/s]"
     ]
    },
    {
     "name": "stdout",
     "output_type": "stream",
     "text": [
      "s_channel shape (720, 1280)\n",
      "curverad 201.132924374\n",
      "curverad 59.5374601712\n"
     ]
    },
    {
     "name": "stderr",
     "output_type": "stream",
     "text": [
      "\r",
      " 14%|█▎        | 66/485 [01:01<06:24,  1.09it/s]"
     ]
    },
    {
     "name": "stdout",
     "output_type": "stream",
     "text": [
      "s_channel shape (720, 1280)\n",
      "curverad 182.293171987\n",
      "curverad 60.2075261043\n"
     ]
    },
    {
     "name": "stderr",
     "output_type": "stream",
     "text": [
      "\r",
      " 14%|█▍        | 67/485 [01:02<06:27,  1.08it/s]"
     ]
    },
    {
     "name": "stdout",
     "output_type": "stream",
     "text": [
      "s_channel shape (720, 1280)\n",
      "curverad 171.417005377\n",
      "curverad 59.2693379619\n"
     ]
    },
    {
     "name": "stderr",
     "output_type": "stream",
     "text": [
      "\r",
      " 14%|█▍        | 68/485 [01:03<06:25,  1.08it/s]"
     ]
    },
    {
     "name": "stdout",
     "output_type": "stream",
     "text": [
      "s_channel shape (720, 1280)\n",
      "curverad 162.991773091\n",
      "curverad 58.2282152702\n"
     ]
    },
    {
     "name": "stderr",
     "output_type": "stream",
     "text": [
      "\r",
      " 14%|█▍        | 69/485 [01:03<06:24,  1.08it/s]"
     ]
    },
    {
     "name": "stdout",
     "output_type": "stream",
     "text": [
      "s_channel shape (720, 1280)\n",
      "curverad 156.095604371\n",
      "curverad 56.2460144432\n"
     ]
    },
    {
     "name": "stderr",
     "output_type": "stream",
     "text": [
      "\r",
      " 14%|█▍        | 70/485 [01:04<06:24,  1.08it/s]"
     ]
    },
    {
     "name": "stdout",
     "output_type": "stream",
     "text": [
      "s_channel shape (720, 1280)\n",
      "curverad 149.861962755\n",
      "curverad 55.1500866241\n"
     ]
    },
    {
     "name": "stderr",
     "output_type": "stream",
     "text": [
      "\r",
      " 15%|█▍        | 71/485 [01:05<06:22,  1.08it/s]"
     ]
    },
    {
     "name": "stdout",
     "output_type": "stream",
     "text": [
      "s_channel shape (720, 1280)\n",
      "curverad 147.691439071\n",
      "curverad 55.8436768358\n"
     ]
    },
    {
     "name": "stderr",
     "output_type": "stream",
     "text": [
      "\r",
      " 15%|█▍        | 72/485 [01:06<06:24,  1.07it/s]"
     ]
    },
    {
     "name": "stdout",
     "output_type": "stream",
     "text": [
      "s_channel shape (720, 1280)\n",
      "curverad 147.449107658\n",
      "curverad 59.1404907944\n"
     ]
    },
    {
     "name": "stderr",
     "output_type": "stream",
     "text": [
      "\r",
      " 15%|█▌        | 73/485 [01:07<06:23,  1.08it/s]"
     ]
    },
    {
     "name": "stdout",
     "output_type": "stream",
     "text": [
      "s_channel shape (720, 1280)\n",
      "curverad 144.673308943\n",
      "curverad 66.9502359085\n"
     ]
    },
    {
     "name": "stderr",
     "output_type": "stream",
     "text": [
      "\r",
      " 15%|█▌        | 74/485 [01:08<06:21,  1.08it/s]"
     ]
    },
    {
     "name": "stdout",
     "output_type": "stream",
     "text": [
      "s_channel shape (720, 1280)\n",
      "curverad 142.073575688\n",
      "curverad 81.1773647918\n"
     ]
    },
    {
     "name": "stderr",
     "output_type": "stream",
     "text": [
      "\r",
      " 15%|█▌        | 75/485 [01:09<06:18,  1.08it/s]"
     ]
    },
    {
     "name": "stdout",
     "output_type": "stream",
     "text": [
      "s_channel shape (720, 1280)\n",
      "curverad 140.380659351\n",
      "curverad 103.405872706\n"
     ]
    },
    {
     "name": "stderr",
     "output_type": "stream",
     "text": [
      "\r",
      " 16%|█▌        | 76/485 [01:10<06:16,  1.09it/s]"
     ]
    },
    {
     "name": "stdout",
     "output_type": "stream",
     "text": [
      "s_channel shape (720, 1280)\n",
      "curverad 136.970182739\n",
      "curverad 136.602845363\n"
     ]
    },
    {
     "name": "stderr",
     "output_type": "stream",
     "text": [
      "\r",
      " 16%|█▌        | 77/485 [01:11<06:14,  1.09it/s]"
     ]
    },
    {
     "name": "stdout",
     "output_type": "stream",
     "text": [
      "s_channel shape (720, 1280)\n",
      "curverad 132.424553269\n",
      "curverad 193.571022048\n"
     ]
    },
    {
     "name": "stderr",
     "output_type": "stream",
     "text": [
      "\r",
      " 16%|█▌        | 78/485 [01:12<06:12,  1.09it/s]"
     ]
    },
    {
     "name": "stdout",
     "output_type": "stream",
     "text": [
      "s_channel shape (720, 1280)\n",
      "curverad 131.508717722\n",
      "curverad 269.951121506\n"
     ]
    },
    {
     "name": "stderr",
     "output_type": "stream",
     "text": [
      "\r",
      " 16%|█▋        | 79/485 [01:13<06:11,  1.09it/s]"
     ]
    },
    {
     "name": "stdout",
     "output_type": "stream",
     "text": [
      "s_channel shape (720, 1280)\n",
      "curverad 132.060385843\n",
      "curverad 433.576627334\n"
     ]
    },
    {
     "name": "stderr",
     "output_type": "stream",
     "text": [
      "\r",
      " 16%|█▋        | 80/485 [01:14<06:12,  1.09it/s]"
     ]
    },
    {
     "name": "stdout",
     "output_type": "stream",
     "text": [
      "s_channel shape (720, 1280)\n",
      "curverad 133.653900285\n",
      "curverad 2530.85267438\n"
     ]
    },
    {
     "name": "stderr",
     "output_type": "stream",
     "text": [
      "\r",
      " 17%|█▋        | 81/485 [01:15<06:11,  1.09it/s]"
     ]
    },
    {
     "name": "stdout",
     "output_type": "stream",
     "text": [
      "s_channel shape (720, 1280)\n",
      "curverad 137.993158182\n",
      "curverad 591.284238423\n"
     ]
    },
    {
     "name": "stderr",
     "output_type": "stream",
     "text": [
      "\r",
      " 17%|█▋        | 82/485 [01:15<06:10,  1.09it/s]"
     ]
    },
    {
     "name": "stdout",
     "output_type": "stream",
     "text": [
      "s_channel shape (720, 1280)\n",
      "curverad 144.641801584\n",
      "curverad 256.364756692\n"
     ]
    },
    {
     "name": "stderr",
     "output_type": "stream",
     "text": [
      "\r",
      " 17%|█▋        | 83/485 [01:16<06:09,  1.09it/s]"
     ]
    },
    {
     "name": "stdout",
     "output_type": "stream",
     "text": [
      "s_channel shape (720, 1280)\n",
      "curverad 150.819066539\n",
      "curverad 163.754577247\n"
     ]
    },
    {
     "name": "stderr",
     "output_type": "stream",
     "text": [
      "\r",
      " 17%|█▋        | 84/485 [01:17<06:10,  1.08it/s]"
     ]
    },
    {
     "name": "stdout",
     "output_type": "stream",
     "text": [
      "s_channel shape (720, 1280)\n",
      "curverad 155.65720162\n",
      "curverad 121.238601893\n"
     ]
    },
    {
     "name": "stderr",
     "output_type": "stream",
     "text": [
      "\r",
      " 18%|█▊        | 85/485 [01:18<06:09,  1.08it/s]"
     ]
    },
    {
     "name": "stdout",
     "output_type": "stream",
     "text": [
      "s_channel shape (720, 1280)\n",
      "curverad 163.367652096\n",
      "curverad 96.9906940786\n"
     ]
    },
    {
     "name": "stderr",
     "output_type": "stream",
     "text": [
      "\r",
      " 18%|█▊        | 86/485 [01:19<06:08,  1.08it/s]"
     ]
    },
    {
     "name": "stdout",
     "output_type": "stream",
     "text": [
      "s_channel shape (720, 1280)\n",
      "curverad 174.191431591\n",
      "curverad 81.8067585654\n"
     ]
    },
    {
     "name": "stderr",
     "output_type": "stream",
     "text": [
      "\r",
      " 18%|█▊        | 87/485 [01:20<06:08,  1.08it/s]"
     ]
    },
    {
     "name": "stdout",
     "output_type": "stream",
     "text": [
      "s_channel shape (720, 1280)\n",
      "curverad 190.595693034\n",
      "curverad 71.6358720446\n"
     ]
    },
    {
     "name": "stderr",
     "output_type": "stream",
     "text": [
      "\r",
      " 18%|█▊        | 88/485 [01:21<06:09,  1.07it/s]"
     ]
    },
    {
     "name": "stdout",
     "output_type": "stream",
     "text": [
      "s_channel shape (720, 1280)\n",
      "curverad 206.922384717\n",
      "curverad 64.1651630105\n"
     ]
    },
    {
     "name": "stderr",
     "output_type": "stream",
     "text": [
      "\r",
      " 18%|█▊        | 89/485 [01:22<06:07,  1.08it/s]"
     ]
    },
    {
     "name": "stdout",
     "output_type": "stream",
     "text": [
      "s_channel shape (720, 1280)\n",
      "curverad 227.659373095\n",
      "curverad 59.6126060987\n"
     ]
    },
    {
     "name": "stderr",
     "output_type": "stream",
     "text": [
      "\r",
      " 19%|█▊        | 90/485 [01:23<06:06,  1.08it/s]"
     ]
    },
    {
     "name": "stdout",
     "output_type": "stream",
     "text": [
      "s_channel shape (720, 1280)\n",
      "curverad 238.107264706\n",
      "curverad 56.010093214\n"
     ]
    },
    {
     "name": "stderr",
     "output_type": "stream",
     "text": [
      "\r",
      " 19%|█▉        | 91/485 [01:24<06:04,  1.08it/s]"
     ]
    },
    {
     "name": "stdout",
     "output_type": "stream",
     "text": [
      "s_channel shape (720, 1280)\n",
      "curverad 248.546964414\n",
      "curverad 53.6718815862\n"
     ]
    },
    {
     "name": "stderr",
     "output_type": "stream",
     "text": [
      "\r",
      " 19%|█▉        | 92/485 [01:25<06:03,  1.08it/s]"
     ]
    },
    {
     "name": "stdout",
     "output_type": "stream",
     "text": [
      "s_channel shape (720, 1280)\n",
      "curverad 251.877113061\n",
      "curverad 52.157076634\n"
     ]
    },
    {
     "name": "stderr",
     "output_type": "stream",
     "text": [
      "\r",
      " 19%|█▉        | 93/485 [01:26<06:02,  1.08it/s]"
     ]
    },
    {
     "name": "stdout",
     "output_type": "stream",
     "text": [
      "s_channel shape (720, 1280)\n",
      "curverad 260.270052527\n",
      "curverad 51.1487604195\n"
     ]
    },
    {
     "name": "stderr",
     "output_type": "stream",
     "text": [
      "\r",
      " 19%|█▉        | 94/485 [01:27<06:00,  1.08it/s]"
     ]
    },
    {
     "name": "stdout",
     "output_type": "stream",
     "text": [
      "s_channel shape (720, 1280)\n",
      "curverad 270.902132824\n",
      "curverad 50.3252261593\n"
     ]
    },
    {
     "name": "stderr",
     "output_type": "stream",
     "text": [
      "\r",
      " 20%|█▉        | 95/485 [01:28<06:01,  1.08it/s]"
     ]
    },
    {
     "name": "stdout",
     "output_type": "stream",
     "text": [
      "s_channel shape (720, 1280)\n",
      "curverad 302.968323313\n",
      "curverad 50.3431961221\n"
     ]
    },
    {
     "name": "stderr",
     "output_type": "stream",
     "text": [
      "\r",
      " 20%|█▉        | 96/485 [01:28<06:01,  1.08it/s]"
     ]
    },
    {
     "name": "stdout",
     "output_type": "stream",
     "text": [
      "s_channel shape (720, 1280)\n",
      "curverad 342.570437127\n",
      "curverad 50.6063597603\n"
     ]
    },
    {
     "name": "stderr",
     "output_type": "stream",
     "text": [
      "\r",
      " 20%|██        | 97/485 [01:29<06:02,  1.07it/s]"
     ]
    },
    {
     "name": "stdout",
     "output_type": "stream",
     "text": [
      "s_channel shape (720, 1280)\n",
      "curverad 383.514939885\n",
      "curverad 51.5518562608\n"
     ]
    },
    {
     "name": "stderr",
     "output_type": "stream",
     "text": [
      "\r",
      " 20%|██        | 98/485 [01:30<06:00,  1.07it/s]"
     ]
    },
    {
     "name": "stdout",
     "output_type": "stream",
     "text": [
      "s_channel shape (720, 1280)\n",
      "curverad 475.911523073\n",
      "curverad 54.0122109359\n"
     ]
    },
    {
     "name": "stderr",
     "output_type": "stream",
     "text": [
      "\r",
      " 20%|██        | 99/485 [01:31<05:58,  1.08it/s]"
     ]
    },
    {
     "name": "stdout",
     "output_type": "stream",
     "text": [
      "s_channel shape (720, 1280)\n",
      "curverad 655.827420814\n",
      "curverad 57.898060573\n"
     ]
    },
    {
     "name": "stderr",
     "output_type": "stream",
     "text": [
      "\r",
      " 21%|██        | 100/485 [01:32<06:01,  1.06it/s]"
     ]
    },
    {
     "name": "stdout",
     "output_type": "stream",
     "text": [
      "s_channel shape (720, 1280)\n",
      "curverad 1037.8063466\n",
      "curverad 63.5570289165\n"
     ]
    },
    {
     "name": "stderr",
     "output_type": "stream",
     "text": [
      "\r",
      " 21%|██        | 101/485 [01:33<05:59,  1.07it/s]"
     ]
    },
    {
     "name": "stdout",
     "output_type": "stream",
     "text": [
      "s_channel shape (720, 1280)\n",
      "curverad 1794.8822274\n",
      "curverad 69.9973665018\n"
     ]
    },
    {
     "name": "stderr",
     "output_type": "stream",
     "text": [
      "\r",
      " 21%|██        | 102/485 [01:34<06:00,  1.06it/s]"
     ]
    },
    {
     "name": "stdout",
     "output_type": "stream",
     "text": [
      "s_channel shape (720, 1280)\n",
      "curverad 6221.58019479\n",
      "curverad 74.3204344308\n"
     ]
    },
    {
     "name": "stderr",
     "output_type": "stream",
     "text": [
      "\r",
      " 21%|██        | 103/485 [01:35<05:58,  1.07it/s]"
     ]
    },
    {
     "name": "stdout",
     "output_type": "stream",
     "text": [
      "s_channel shape (720, 1280)\n",
      "curverad 6590.65443259\n",
      "curverad 73.4221418766\n"
     ]
    },
    {
     "name": "stderr",
     "output_type": "stream",
     "text": [
      "\r",
      " 21%|██▏       | 104/485 [01:36<05:57,  1.07it/s]"
     ]
    },
    {
     "name": "stdout",
     "output_type": "stream",
     "text": [
      "s_channel shape (720, 1280)\n",
      "curverad 2939.12180567\n",
      "curverad 69.1854469789\n"
     ]
    },
    {
     "name": "stderr",
     "output_type": "stream",
     "text": [
      "\r",
      " 22%|██▏       | 105/485 [01:37<05:55,  1.07it/s]"
     ]
    },
    {
     "name": "stdout",
     "output_type": "stream",
     "text": [
      "s_channel shape (720, 1280)\n",
      "curverad 3136.849115\n",
      "curverad 65.8474706672\n"
     ]
    },
    {
     "name": "stderr",
     "output_type": "stream",
     "text": [
      "\r",
      " 22%|██▏       | 106/485 [01:38<05:53,  1.07it/s]"
     ]
    },
    {
     "name": "stdout",
     "output_type": "stream",
     "text": [
      "s_channel shape (720, 1280)\n",
      "curverad 20300.4170702\n",
      "curverad 64.1715757252\n"
     ]
    },
    {
     "name": "stderr",
     "output_type": "stream",
     "text": [
      "\r",
      " 22%|██▏       | 107/485 [01:39<05:50,  1.08it/s]"
     ]
    },
    {
     "name": "stdout",
     "output_type": "stream",
     "text": [
      "s_channel shape (720, 1280)\n",
      "curverad 1469.46438296\n",
      "curverad 64.8152949654\n"
     ]
    },
    {
     "name": "stderr",
     "output_type": "stream",
     "text": [
      "\r",
      " 22%|██▏       | 108/485 [01:40<05:49,  1.08it/s]"
     ]
    },
    {
     "name": "stdout",
     "output_type": "stream",
     "text": [
      "s_channel shape (720, 1280)\n",
      "curverad 583.110776031\n"
     ]
    },
    {
     "name": "stderr",
     "output_type": "stream",
     "text": [
      "\r",
      " 22%|██▏       | 109/485 [01:41<05:48,  1.08it/s]"
     ]
    },
    {
     "name": "stdout",
     "output_type": "stream",
     "text": [
      "s_channel shape (720, 1280)\n",
      "curverad 348.822147732\n",
      "curverad 71.5959901652\n"
     ]
    },
    {
     "name": "stderr",
     "output_type": "stream",
     "text": [
      "\r",
      " 23%|██▎       | 110/485 [01:42<05:47,  1.08it/s]"
     ]
    },
    {
     "name": "stdout",
     "output_type": "stream",
     "text": [
      "s_channel shape (720, 1280)\n",
      "curverad 276.02983015\n"
     ]
    },
    {
     "name": "stderr",
     "output_type": "stream",
     "text": [
      "\r",
      " 23%|██▎       | 111/485 [01:42<05:47,  1.08it/s]"
     ]
    },
    {
     "name": "stdout",
     "output_type": "stream",
     "text": [
      "s_channel shape (720, 1280)\n",
      "curverad 249.023376885\n",
      "curverad 90.1220698161\n"
     ]
    },
    {
     "name": "stderr",
     "output_type": "stream",
     "text": [
      "\r",
      " 23%|██▎       | 112/485 [01:43<05:47,  1.07it/s]"
     ]
    },
    {
     "name": "stdout",
     "output_type": "stream",
     "text": [
      "s_channel shape (720, 1280)\n",
      "curverad 228.669872244\n",
      "curverad 127.232104019\n"
     ]
    },
    {
     "name": "stderr",
     "output_type": "stream",
     "text": [
      "\r",
      " 23%|██▎       | 113/485 [01:44<05:48,  1.07it/s]"
     ]
    },
    {
     "name": "stdout",
     "output_type": "stream",
     "text": [
      "s_channel shape (720, 1280)\n",
      "curverad 217.25444419\n",
      "curverad 209.576609627\n"
     ]
    },
    {
     "name": "stderr",
     "output_type": "stream",
     "text": [
      "\r",
      " 24%|██▎       | 114/485 [01:45<05:47,  1.07it/s]"
     ]
    },
    {
     "name": "stdout",
     "output_type": "stream",
     "text": [
      "s_channel shape (720, 1280)\n",
      "curverad 208.953812756\n",
      "curverad 479.031919412\n"
     ]
    },
    {
     "name": "stderr",
     "output_type": "stream",
     "text": [
      "\r",
      " 24%|██▎       | 115/485 [01:46<05:47,  1.06it/s]"
     ]
    },
    {
     "name": "stdout",
     "output_type": "stream",
     "text": [
      "s_channel shape (720, 1280)\n",
      "curverad 196.760596898\n",
      "curverad 2566.7984852\n"
     ]
    },
    {
     "name": "stderr",
     "output_type": "stream",
     "text": [
      "\r",
      " 24%|██▍       | 116/485 [01:47<05:46,  1.07it/s]"
     ]
    },
    {
     "name": "stdout",
     "output_type": "stream",
     "text": [
      "s_channel shape (720, 1280)\n",
      "curverad 188.881389026\n",
      "curverad 2387.32552835\n"
     ]
    },
    {
     "name": "stderr",
     "output_type": "stream",
     "text": [
      "\r",
      " 24%|██▍       | 117/485 [01:48<05:44,  1.07it/s]"
     ]
    },
    {
     "name": "stdout",
     "output_type": "stream",
     "text": [
      "s_channel shape (720, 1280)\n",
      "curverad 187.066114752\n",
      "curverad 1296.4299009\n"
     ]
    },
    {
     "name": "stderr",
     "output_type": "stream",
     "text": [
      "\r",
      " 24%|██▍       | 118/485 [01:49<05:42,  1.07it/s]"
     ]
    },
    {
     "name": "stdout",
     "output_type": "stream",
     "text": [
      "s_channel shape (720, 1280)\n",
      "curverad 188.168448029\n",
      "curverad 781.452500075\n"
     ]
    },
    {
     "name": "stderr",
     "output_type": "stream",
     "text": [
      "\r",
      " 25%|██▍       | 119/485 [01:50<05:42,  1.07it/s]"
     ]
    },
    {
     "name": "stdout",
     "output_type": "stream",
     "text": [
      "s_channel shape (720, 1280)\n",
      "curverad 187.845627628\n",
      "curverad 573.591847115\n"
     ]
    },
    {
     "name": "stderr",
     "output_type": "stream",
     "text": [
      "\r",
      " 25%|██▍       | 120/485 [01:51<05:40,  1.07it/s]"
     ]
    },
    {
     "name": "stdout",
     "output_type": "stream",
     "text": [
      "s_channel shape (720, 1280)\n",
      "curverad 182.626152902\n",
      "curverad 482.599276183\n"
     ]
    },
    {
     "name": "stderr",
     "output_type": "stream",
     "text": [
      "\r",
      " 25%|██▍       | 121/485 [01:52<05:40,  1.07it/s]"
     ]
    },
    {
     "name": "stdout",
     "output_type": "stream",
     "text": [
      "s_channel shape (720, 1280)\n",
      "curverad 171.254315442\n",
      "curverad 432.992289278\n"
     ]
    },
    {
     "name": "stderr",
     "output_type": "stream",
     "text": [
      "\r",
      " 25%|██▌       | 122/485 [01:53<05:39,  1.07it/s]"
     ]
    },
    {
     "name": "stdout",
     "output_type": "stream",
     "text": [
      "s_channel shape (720, 1280)\n",
      "curverad 158.922452633\n",
      "curverad 365.003208814\n"
     ]
    },
    {
     "name": "stderr",
     "output_type": "stream",
     "text": [
      "\r",
      " 25%|██▌       | 123/485 [01:54<05:39,  1.07it/s]"
     ]
    },
    {
     "name": "stdout",
     "output_type": "stream",
     "text": [
      "s_channel shape (720, 1280)\n",
      "curverad 145.824553251\n",
      "curverad 330.880499435\n"
     ]
    },
    {
     "name": "stderr",
     "output_type": "stream",
     "text": [
      "\r",
      " 26%|██▌       | 124/485 [01:55<05:36,  1.07it/s]"
     ]
    },
    {
     "name": "stdout",
     "output_type": "stream",
     "text": [
      "s_channel shape (720, 1280)\n",
      "curverad 132.557079004\n",
      "curverad 281.682316768\n"
     ]
    },
    {
     "name": "stderr",
     "output_type": "stream",
     "text": [
      "\r",
      " 26%|██▌       | 125/485 [01:56<05:33,  1.08it/s]"
     ]
    },
    {
     "name": "stdout",
     "output_type": "stream",
     "text": [
      "s_channel shape (720, 1280)\n",
      "curverad 120.927380449\n",
      "curverad 231.009535517\n"
     ]
    },
    {
     "name": "stderr",
     "output_type": "stream",
     "text": [
      "\r",
      " 26%|██▌       | 126/485 [01:56<05:32,  1.08it/s]"
     ]
    },
    {
     "name": "stdout",
     "output_type": "stream",
     "text": [
      "s_channel shape (720, 1280)\n",
      "curverad 111.300556458\n",
      "curverad 183.191768844\n"
     ]
    },
    {
     "name": "stderr",
     "output_type": "stream",
     "text": [
      "\r",
      " 26%|██▌       | 127/485 [01:57<05:32,  1.08it/s]"
     ]
    },
    {
     "name": "stdout",
     "output_type": "stream",
     "text": [
      "s_channel shape (720, 1280)\n",
      "curverad 103.882404319\n",
      "curverad 149.283733698\n"
     ]
    },
    {
     "name": "stderr",
     "output_type": "stream",
     "text": [
      "\r",
      " 26%|██▋       | 128/485 [01:58<05:29,  1.08it/s]"
     ]
    },
    {
     "name": "stdout",
     "output_type": "stream",
     "text": [
      "s_channel shape (720, 1280)\n",
      "curverad 98.1532561923\n",
      "curverad 124.212935093\n"
     ]
    },
    {
     "name": "stderr",
     "output_type": "stream",
     "text": [
      "\r",
      " 27%|██▋       | 129/485 [01:59<05:27,  1.09it/s]"
     ]
    },
    {
     "name": "stdout",
     "output_type": "stream",
     "text": [
      "s_channel shape (720, 1280)\n",
      "curverad 96.2368865067\n",
      "curverad 110.649174705\n"
     ]
    },
    {
     "name": "stderr",
     "output_type": "stream",
     "text": [
      "\r",
      " 27%|██▋       | 130/485 [02:00<05:24,  1.09it/s]"
     ]
    },
    {
     "name": "stdout",
     "output_type": "stream",
     "text": [
      "s_channel shape (720, 1280)\n",
      "curverad 98.4046777535\n",
      "curverad 104.859730667\n"
     ]
    },
    {
     "name": "stderr",
     "output_type": "stream",
     "text": [
      "\r",
      " 27%|██▋       | 131/485 [02:01<05:22,  1.10it/s]"
     ]
    },
    {
     "name": "stdout",
     "output_type": "stream",
     "text": [
      "s_channel shape (720, 1280)\n",
      "curverad 100.95059757\n",
      "curverad 102.860158322\n"
     ]
    },
    {
     "name": "stderr",
     "output_type": "stream",
     "text": [
      "\r",
      " 27%|██▋       | 132/485 [02:02<05:24,  1.09it/s]"
     ]
    },
    {
     "name": "stdout",
     "output_type": "stream",
     "text": [
      "s_channel shape (720, 1280)\n"
     ]
    },
    {
     "name": "stderr",
     "output_type": "stream",
     "text": [
      "\r",
      " 27%|██▋       | 133/485 [02:03<05:31,  1.06it/s]"
     ]
    },
    {
     "name": "stdout",
     "output_type": "stream",
     "text": [
      "s_channel shape (720, 1280)\n"
     ]
    },
    {
     "name": "stderr",
     "output_type": "stream",
     "text": [
      "\r",
      " 28%|██▊       | 134/485 [02:04<05:26,  1.08it/s]"
     ]
    },
    {
     "name": "stdout",
     "output_type": "stream",
     "text": [
      "s_channel shape (720, 1280)\n"
     ]
    },
    {
     "name": "stderr",
     "output_type": "stream",
     "text": [
      "\r",
      " 28%|██▊       | 135/485 [02:05<05:25,  1.08it/s]"
     ]
    },
    {
     "name": "stdout",
     "output_type": "stream",
     "text": [
      "s_channel shape (720, 1280)\n"
     ]
    },
    {
     "name": "stderr",
     "output_type": "stream",
     "text": [
      "\r",
      " 28%|██▊       | 136/485 [02:06<05:23,  1.08it/s]"
     ]
    },
    {
     "name": "stdout",
     "output_type": "stream",
     "text": [
      "s_channel shape (720, 1280)\n",
      "index out of range, skipping\n"
     ]
    },
    {
     "name": "stderr",
     "output_type": "stream",
     "text": [
      "\r",
      " 28%|██▊       | 137/485 [02:07<05:21,  1.08it/s]"
     ]
    },
    {
     "name": "stdout",
     "output_type": "stream",
     "text": [
      "s_channel shape (720, 1280)\n",
      "curverad 857.647233205\n",
      "curverad 293.345219254\n"
     ]
    },
    {
     "name": "stderr",
     "output_type": "stream",
     "text": [
      "\r",
      " 28%|██▊       | 138/485 [02:08<05:17,  1.09it/s]"
     ]
    },
    {
     "name": "stdout",
     "output_type": "stream",
     "text": [
      "s_channel shape (720, 1280)\n",
      "curverad 716.199011245\n",
      "curverad 292.135952387\n"
     ]
    },
    {
     "name": "stderr",
     "output_type": "stream",
     "text": [
      "\r",
      " 29%|██▊       | 139/485 [02:08<05:19,  1.08it/s]"
     ]
    },
    {
     "name": "stdout",
     "output_type": "stream",
     "text": [
      "s_channel shape (720, 1280)\n",
      "curverad 382.432817388\n",
      "curverad 270.375512257\n"
     ]
    },
    {
     "name": "stderr",
     "output_type": "stream",
     "text": [
      "\r",
      " 29%|██▉       | 140/485 [02:09<05:18,  1.08it/s]"
     ]
    },
    {
     "name": "stdout",
     "output_type": "stream",
     "text": [
      "s_channel shape (720, 1280)\n",
      "curverad 308.68015687\n",
      "curverad 260.520991688\n"
     ]
    },
    {
     "name": "stderr",
     "output_type": "stream",
     "text": [
      "\r",
      " 29%|██▉       | 141/485 [02:10<05:17,  1.08it/s]"
     ]
    },
    {
     "name": "stdout",
     "output_type": "stream",
     "text": [
      "s_channel shape (720, 1280)\n",
      "curverad 269.359948312\n",
      "curverad 260.668697693\n"
     ]
    },
    {
     "name": "stderr",
     "output_type": "stream",
     "text": [
      "\r",
      " 29%|██▉       | 142/485 [02:11<05:16,  1.08it/s]"
     ]
    },
    {
     "name": "stdout",
     "output_type": "stream",
     "text": [
      "s_channel shape (720, 1280)\n",
      "curverad 220.413248778\n",
      "curverad 256.752157725\n"
     ]
    },
    {
     "name": "stderr",
     "output_type": "stream",
     "text": [
      "\r",
      " 29%|██▉       | 143/485 [02:12<05:15,  1.08it/s]"
     ]
    },
    {
     "name": "stdout",
     "output_type": "stream",
     "text": [
      "s_channel shape (720, 1280)\n",
      "curverad 192.801568511\n",
      "curverad 256.482389561\n"
     ]
    },
    {
     "name": "stderr",
     "output_type": "stream",
     "text": [
      "\r",
      " 30%|██▉       | 144/485 [02:13<05:16,  1.08it/s]"
     ]
    },
    {
     "name": "stdout",
     "output_type": "stream",
     "text": [
      "s_channel shape (720, 1280)\n",
      "curverad 192.687931591\n",
      "curverad 265.59738152\n"
     ]
    },
    {
     "name": "stderr",
     "output_type": "stream",
     "text": [
      "\r",
      " 30%|██▉       | 145/485 [02:14<05:16,  1.07it/s]"
     ]
    },
    {
     "name": "stdout",
     "output_type": "stream",
     "text": [
      "s_channel shape (720, 1280)\n",
      "curverad 197.740044493\n",
      "curverad 279.20462312\n"
     ]
    },
    {
     "name": "stderr",
     "output_type": "stream",
     "text": [
      "\r",
      " 30%|███       | 146/485 [02:15<05:15,  1.07it/s]"
     ]
    },
    {
     "name": "stdout",
     "output_type": "stream",
     "text": [
      "s_channel shape (720, 1280)\n",
      "curverad 207.322725016\n",
      "curverad 277.049644522\n"
     ]
    },
    {
     "name": "stderr",
     "output_type": "stream",
     "text": [
      "\r",
      " 30%|███       | 147/485 [02:16<05:14,  1.08it/s]"
     ]
    },
    {
     "name": "stdout",
     "output_type": "stream",
     "text": [
      "s_channel shape (720, 1280)\n",
      "curverad 214.1770096\n",
      "curverad 270.11034039\n"
     ]
    },
    {
     "name": "stderr",
     "output_type": "stream",
     "text": [
      "\r",
      " 31%|███       | 148/485 [02:17<05:16,  1.07it/s]"
     ]
    },
    {
     "name": "stdout",
     "output_type": "stream",
     "text": [
      "s_channel shape (720, 1280)\n",
      "curverad 209.295977501\n",
      "curverad 254.348243461\n"
     ]
    },
    {
     "name": "stderr",
     "output_type": "stream",
     "text": [
      "\r",
      " 31%|███       | 149/485 [02:18<05:12,  1.07it/s]"
     ]
    },
    {
     "name": "stdout",
     "output_type": "stream",
     "text": [
      "s_channel shape (720, 1280)\n",
      "curverad 215.506540862\n",
      "curverad 240.805085598\n"
     ]
    },
    {
     "name": "stderr",
     "output_type": "stream",
     "text": [
      "\r",
      " 31%|███       | 150/485 [02:19<05:12,  1.07it/s]"
     ]
    },
    {
     "name": "stdout",
     "output_type": "stream",
     "text": [
      "s_channel shape (720, 1280)\n",
      "curverad 233.376952118\n",
      "curverad 220.953091508\n"
     ]
    },
    {
     "name": "stderr",
     "output_type": "stream",
     "text": [
      "\r",
      " 31%|███       | 151/485 [02:20<05:10,  1.07it/s]"
     ]
    },
    {
     "name": "stdout",
     "output_type": "stream",
     "text": [
      "s_channel shape (720, 1280)\n",
      "curverad 262.498321134\n",
      "curverad 210.402265135\n"
     ]
    },
    {
     "name": "stderr",
     "output_type": "stream",
     "text": [
      "\r",
      " 31%|███▏      | 152/485 [02:21<05:09,  1.08it/s]"
     ]
    },
    {
     "name": "stdout",
     "output_type": "stream",
     "text": [
      "s_channel shape (720, 1280)\n",
      "curverad 299.705294991\n",
      "curverad 200.089217696\n"
     ]
    },
    {
     "name": "stderr",
     "output_type": "stream",
     "text": [
      "\r",
      " 32%|███▏      | 153/485 [02:21<05:10,  1.07it/s]"
     ]
    },
    {
     "name": "stdout",
     "output_type": "stream",
     "text": [
      "s_channel shape (720, 1280)\n",
      "curverad 380.591896147\n",
      "curverad 197.627700342\n"
     ]
    },
    {
     "name": "stderr",
     "output_type": "stream",
     "text": [
      "\r",
      " 32%|███▏      | 154/485 [02:22<05:08,  1.07it/s]"
     ]
    },
    {
     "name": "stdout",
     "output_type": "stream",
     "text": [
      "s_channel shape (720, 1280)\n",
      "curverad 457.416998402\n",
      "curverad 204.369782046\n"
     ]
    },
    {
     "name": "stderr",
     "output_type": "stream",
     "text": [
      "\r",
      " 32%|███▏      | 155/485 [02:23<05:06,  1.08it/s]"
     ]
    },
    {
     "name": "stdout",
     "output_type": "stream",
     "text": [
      "s_channel shape (720, 1280)\n",
      "curverad 460.190239294\n",
      "curverad 223.15313011\n"
     ]
    },
    {
     "name": "stderr",
     "output_type": "stream",
     "text": [
      "\r",
      " 32%|███▏      | 156/485 [02:24<05:05,  1.08it/s]"
     ]
    },
    {
     "name": "stdout",
     "output_type": "stream",
     "text": [
      "s_channel shape (720, 1280)\n",
      "curverad 437.309027154\n",
      "curverad 252.168083882\n"
     ]
    },
    {
     "name": "stderr",
     "output_type": "stream",
     "text": [
      "\r",
      " 32%|███▏      | 157/485 [02:25<05:06,  1.07it/s]"
     ]
    },
    {
     "name": "stdout",
     "output_type": "stream",
     "text": [
      "s_channel shape (720, 1280)\n",
      "curverad 444.194541864\n",
      "curverad 291.305693337\n"
     ]
    },
    {
     "name": "stderr",
     "output_type": "stream",
     "text": [
      "\r",
      " 33%|███▎      | 158/485 [02:26<05:03,  1.08it/s]"
     ]
    },
    {
     "name": "stdout",
     "output_type": "stream",
     "text": [
      "s_channel shape (720, 1280)\n",
      "curverad 357.900740365\n",
      "curverad 334.287230119\n"
     ]
    },
    {
     "name": "stderr",
     "output_type": "stream",
     "text": [
      "\r",
      " 33%|███▎      | 159/485 [02:27<05:02,  1.08it/s]"
     ]
    },
    {
     "name": "stdout",
     "output_type": "stream",
     "text": [
      "s_channel shape (720, 1280)\n",
      "curverad 347.056034125\n",
      "curverad 353.980200371\n"
     ]
    },
    {
     "name": "stderr",
     "output_type": "stream",
     "text": [
      "\r",
      " 33%|███▎      | 160/485 [02:28<05:01,  1.08it/s]"
     ]
    },
    {
     "name": "stdout",
     "output_type": "stream",
     "text": [
      "s_channel shape (720, 1280)\n",
      "curverad 369.031108614\n",
      "curverad 331.273561725\n"
     ]
    },
    {
     "name": "stderr",
     "output_type": "stream",
     "text": [
      "\r",
      " 33%|███▎      | 161/485 [02:29<05:01,  1.07it/s]"
     ]
    },
    {
     "name": "stdout",
     "output_type": "stream",
     "text": [
      "s_channel shape (720, 1280)\n",
      "curverad 393.673890574\n",
      "curverad 268.340114875\n"
     ]
    },
    {
     "name": "stderr",
     "output_type": "stream",
     "text": [
      "\r",
      " 33%|███▎      | 162/485 [02:30<04:59,  1.08it/s]"
     ]
    },
    {
     "name": "stdout",
     "output_type": "stream",
     "text": [
      "s_channel shape (720, 1280)\n",
      "curverad 424.136125241\n",
      "curverad 230.772411163\n"
     ]
    },
    {
     "name": "stderr",
     "output_type": "stream",
     "text": [
      "\r",
      " 34%|███▎      | 163/485 [02:31<04:57,  1.08it/s]"
     ]
    },
    {
     "name": "stdout",
     "output_type": "stream",
     "text": [
      "s_channel shape (720, 1280)\n",
      "curverad 644.301819852\n",
      "curverad 203.300692274\n"
     ]
    },
    {
     "name": "stderr",
     "output_type": "stream",
     "text": [
      "\r",
      " 34%|███▍      | 164/485 [02:32<04:57,  1.08it/s]"
     ]
    },
    {
     "name": "stdout",
     "output_type": "stream",
     "text": [
      "s_channel shape (720, 1280)\n",
      "curverad 881.119993907\n",
      "curverad 189.692006176\n"
     ]
    },
    {
     "name": "stderr",
     "output_type": "stream",
     "text": [
      "\r",
      " 34%|███▍      | 165/485 [02:33<04:57,  1.08it/s]"
     ]
    },
    {
     "name": "stdout",
     "output_type": "stream",
     "text": [
      "s_channel shape (720, 1280)\n",
      "curverad 1077.36554543\n",
      "curverad 188.742023493\n"
     ]
    },
    {
     "name": "stderr",
     "output_type": "stream",
     "text": [
      "\r",
      " 34%|███▍      | 166/485 [02:34<04:59,  1.06it/s]"
     ]
    },
    {
     "name": "stdout",
     "output_type": "stream",
     "text": [
      "s_channel shape (720, 1280)\n",
      "curverad 1650.18929167\n",
      "curverad 204.92292377\n"
     ]
    },
    {
     "name": "stderr",
     "output_type": "stream",
     "text": [
      "\r",
      " 34%|███▍      | 167/485 [02:35<04:57,  1.07it/s]"
     ]
    },
    {
     "name": "stdout",
     "output_type": "stream",
     "text": [
      "s_channel shape (720, 1280)\n",
      "curverad 2094.37876374\n",
      "curverad 218.628551151\n"
     ]
    },
    {
     "name": "stderr",
     "output_type": "stream",
     "text": [
      "\r",
      " 35%|███▍      | 168/485 [02:35<04:53,  1.08it/s]"
     ]
    },
    {
     "name": "stdout",
     "output_type": "stream",
     "text": [
      "s_channel shape (720, 1280)\n",
      "curverad 2182.93919462\n",
      "curverad 232.295955182\n"
     ]
    },
    {
     "name": "stderr",
     "output_type": "stream",
     "text": [
      "\r",
      " 35%|███▍      | 169/485 [02:36<04:52,  1.08it/s]"
     ]
    },
    {
     "name": "stdout",
     "output_type": "stream",
     "text": [
      "s_channel shape (720, 1280)\n",
      "curverad 1635.51970052\n",
      "curverad 250.706110059\n"
     ]
    },
    {
     "name": "stderr",
     "output_type": "stream",
     "text": [
      "\r",
      " 35%|███▌      | 170/485 [02:37<04:52,  1.08it/s]"
     ]
    },
    {
     "name": "stdout",
     "output_type": "stream",
     "text": [
      "s_channel shape (720, 1280)\n",
      "curverad 1558.08615259\n",
      "curverad 265.532960489\n"
     ]
    },
    {
     "name": "stderr",
     "output_type": "stream",
     "text": [
      "\r",
      " 35%|███▌      | 171/485 [02:38<04:50,  1.08it/s]"
     ]
    },
    {
     "name": "stdout",
     "output_type": "stream",
     "text": [
      "s_channel shape (720, 1280)\n",
      "curverad 1322.05975042\n",
      "curverad 271.107455876\n"
     ]
    },
    {
     "name": "stderr",
     "output_type": "stream",
     "text": [
      "\r",
      " 35%|███▌      | 172/485 [02:39<04:49,  1.08it/s]"
     ]
    },
    {
     "name": "stdout",
     "output_type": "stream",
     "text": [
      "s_channel shape (720, 1280)\n",
      "curverad 1081.98945862\n",
      "curverad 290.511737828\n"
     ]
    },
    {
     "name": "stderr",
     "output_type": "stream",
     "text": [
      "\r",
      " 36%|███▌      | 173/485 [02:40<04:46,  1.09it/s]"
     ]
    },
    {
     "name": "stdout",
     "output_type": "stream",
     "text": [
      "s_channel shape (720, 1280)\n",
      "curverad 894.471702958\n",
      "curverad 315.329623682\n"
     ]
    },
    {
     "name": "stderr",
     "output_type": "stream",
     "text": [
      "\r",
      " 36%|███▌      | 174/485 [02:41<04:46,  1.08it/s]"
     ]
    },
    {
     "name": "stdout",
     "output_type": "stream",
     "text": [
      "s_channel shape (720, 1280)\n",
      "curverad 895.199519426\n",
      "curverad 331.71078449\n"
     ]
    },
    {
     "name": "stderr",
     "output_type": "stream",
     "text": [
      "\r",
      " 36%|███▌      | 175/485 [02:42<04:47,  1.08it/s]"
     ]
    },
    {
     "name": "stdout",
     "output_type": "stream",
     "text": [
      "s_channel shape (720, 1280)\n",
      "curverad 858.540325385\n",
      "curverad 328.800775534\n"
     ]
    },
    {
     "name": "stderr",
     "output_type": "stream",
     "text": [
      "\r",
      " 36%|███▋      | 176/485 [02:43<04:55,  1.05it/s]"
     ]
    },
    {
     "name": "stdout",
     "output_type": "stream",
     "text": [
      "s_channel shape (720, 1280)\n"
     ]
    },
    {
     "name": "stderr",
     "output_type": "stream",
     "text": [
      "\r",
      " 36%|███▋      | 177/485 [02:44<05:17,  1.03s/it]"
     ]
    },
    {
     "name": "stdout",
     "output_type": "stream",
     "text": [
      "curverad 860.116213498\n",
      "curverad 331.89282003\n",
      "s_channel shape (720, 1280)\n",
      "curverad 1008.42695037\n",
      "curverad 336.479937624\n"
     ]
    },
    {
     "name": "stderr",
     "output_type": "stream",
     "text": [
      "\r",
      " 37%|███▋      | 178/485 [02:45<05:19,  1.04s/it]"
     ]
    },
    {
     "name": "stdout",
     "output_type": "stream",
     "text": [
      "s_channel shape (720, 1280)\n",
      "curverad 1381.73217683\n",
      "curverad 355.717023411\n"
     ]
    },
    {
     "name": "stderr",
     "output_type": "stream",
     "text": [
      "\r",
      " 37%|███▋      | 179/485 [02:46<05:33,  1.09s/it]"
     ]
    },
    {
     "name": "stdout",
     "output_type": "stream",
     "text": [
      "s_channel shape (720, 1280)\n",
      "curverad 2465.10694227\n",
      "curverad 366.858291499\n"
     ]
    },
    {
     "name": "stderr",
     "output_type": "stream",
     "text": [
      "\r",
      " 37%|███▋      | 180/485 [02:47<05:33,  1.09s/it]"
     ]
    },
    {
     "name": "stdout",
     "output_type": "stream",
     "text": [
      "s_channel shape (720, 1280)\n",
      "curverad"
     ]
    },
    {
     "name": "stderr",
     "output_type": "stream",
     "text": [
      "\r",
      " 37%|███▋      | 181/485 [02:49<05:33,  1.10s/it]"
     ]
    },
    {
     "name": "stdout",
     "output_type": "stream",
     "text": [
      " 3718.02501645\n",
      "curverad 398.718490439\n",
      "s_channel shape (720, 1280)\n",
      "curverad 2999.84967924\n",
      "curverad 441.92389864\n"
     ]
    },
    {
     "name": "stderr",
     "output_type": "stream",
     "text": [
      "\r",
      " 38%|███▊      | 182/485 [02:50<05:22,  1.06s/it]"
     ]
    },
    {
     "name": "stdout",
     "output_type": "stream",
     "text": [
      "s_channel shape (720, 1280)\n",
      "curverad 2073.79842515\n",
      "curverad 465.860882016\n"
     ]
    },
    {
     "name": "stderr",
     "output_type": "stream",
     "text": [
      "\r",
      " 38%|███▊      | 183/485 [02:51<05:13,  1.04s/it]"
     ]
    },
    {
     "name": "stdout",
     "output_type": "stream",
     "text": [
      "s_channel shape (720, 1280)\n",
      "curverad"
     ]
    },
    {
     "name": "stderr",
     "output_type": "stream",
     "text": [
      "\r",
      " 38%|███▊      | 184/485 [02:52<05:30,  1.10s/it]"
     ]
    },
    {
     "name": "stdout",
     "output_type": "stream",
     "text": [
      " 1658.3837669\n",
      "curverad 470.343118711\n",
      "s_channel shape (720, 1280)\n",
      "curverad 1283.23643212\n",
      "curverad 458.030681973\n"
     ]
    },
    {
     "name": "stderr",
     "output_type": "stream",
     "text": [
      "\r",
      " 38%|███▊      | 185/485 [02:53<05:28,  1.09s/it]"
     ]
    },
    {
     "name": "stdout",
     "output_type": "stream",
     "text": [
      "s_channel shape (720, 1280)\n",
      "curverad 1131.9061829\n",
      "curverad 454.540344547\n"
     ]
    },
    {
     "name": "stderr",
     "output_type": "stream",
     "text": [
      "\r",
      " 38%|███▊      | 186/485 [02:54<05:15,  1.05s/it]"
     ]
    },
    {
     "name": "stdout",
     "output_type": "stream",
     "text": [
      "s_channel shape (720, 1280)\n",
      "curverad 1071.31467097\n",
      "curverad 443.537295112\n"
     ]
    },
    {
     "name": "stderr",
     "output_type": "stream",
     "text": [
      "\r",
      " 39%|███▊      | 187/485 [02:55<05:05,  1.02s/it]"
     ]
    },
    {
     "name": "stdout",
     "output_type": "stream",
     "text": [
      "s_channel shape (720, 1280)\n",
      "curverad 973.110356694\n",
      "curverad 394.201599182\n"
     ]
    },
    {
     "name": "stderr",
     "output_type": "stream",
     "text": [
      "\r",
      " 39%|███▉      | 188/485 [02:56<04:56,  1.00it/s]"
     ]
    },
    {
     "name": "stdout",
     "output_type": "stream",
     "text": [
      "s_channel shape (720, 1280)\n",
      "curverad 836.519972319\n",
      "curverad 320.568138913\n"
     ]
    },
    {
     "name": "stderr",
     "output_type": "stream",
     "text": [
      "\r",
      " 39%|███▉      | 189/485 [02:57<04:53,  1.01it/s]"
     ]
    },
    {
     "name": "stdout",
     "output_type": "stream",
     "text": [
      "s_channel shape (720, 1280)\n",
      "curverad 689.809651302\n",
      "curverad 257.578847112\n"
     ]
    },
    {
     "name": "stderr",
     "output_type": "stream",
     "text": [
      "\r",
      " 39%|███▉      | 190/485 [02:58<04:48,  1.02it/s]"
     ]
    },
    {
     "name": "stdout",
     "output_type": "stream",
     "text": [
      "s_channel shape (720, 1280)\n",
      "curverad 632.795707851\n",
      "curverad 222.430674005\n"
     ]
    },
    {
     "name": "stderr",
     "output_type": "stream",
     "text": [
      "\r",
      " 39%|███▉      | 191/485 [02:59<04:45,  1.03it/s]"
     ]
    },
    {
     "name": "stdout",
     "output_type": "stream",
     "text": [
      "s_channel shape (720, 1280)\n",
      "curverad 598.554546024\n",
      "curverad 198.711960783\n"
     ]
    },
    {
     "name": "stderr",
     "output_type": "stream",
     "text": [
      "\r",
      " 40%|███▉      | 192/485 [03:00<04:48,  1.01it/s]"
     ]
    },
    {
     "name": "stdout",
     "output_type": "stream",
     "text": [
      "s_channel shape (720, 1280)\n",
      "curverad 584.421178816\n",
      "curverad 193.74095669\n"
     ]
    },
    {
     "name": "stderr",
     "output_type": "stream",
     "text": [
      "\r",
      " 40%|███▉      | 193/485 [03:01<05:16,  1.08s/it]"
     ]
    },
    {
     "name": "stdout",
     "output_type": "stream",
     "text": [
      "s_channel shape (720, 1280)\n",
      "curverad 528.829712557\n",
      "curverad 205.839969231\n"
     ]
    },
    {
     "name": "stderr",
     "output_type": "stream",
     "text": [
      "\r",
      " 40%|████      | 194/485 [03:02<05:29,  1.13s/it]"
     ]
    },
    {
     "name": "stdout",
     "output_type": "stream",
     "text": [
      "s_channel shape (720, 1280)\n",
      "curverad 489.739697314\n",
      "curverad 230.528787324\n"
     ]
    },
    {
     "name": "stderr",
     "output_type": "stream",
     "text": [
      "\r",
      " 40%|████      | 195/485 [03:03<05:33,  1.15s/it]"
     ]
    },
    {
     "name": "stdout",
     "output_type": "stream",
     "text": [
      "s_channel shape (720, 1280)\n",
      "curverad 441.84341935\n",
      "curverad 254.460283209\n"
     ]
    },
    {
     "name": "stderr",
     "output_type": "stream",
     "text": [
      "\r",
      " 40%|████      | 196/485 [03:05<05:40,  1.18s/it]"
     ]
    },
    {
     "name": "stdout",
     "output_type": "stream",
     "text": [
      "s_channel shape (720, 1280)\n",
      "curverad"
     ]
    },
    {
     "name": "stderr",
     "output_type": "stream",
     "text": [
      "\r",
      " 41%|████      | 197/485 [03:06<05:41,  1.19s/it]"
     ]
    },
    {
     "name": "stdout",
     "output_type": "stream",
     "text": [
      " 417.432304046\n",
      "curverad 275.088262541\n",
      "s_channel shape (720, 1280)\n",
      "curverad"
     ]
    },
    {
     "name": "stderr",
     "output_type": "stream",
     "text": [
      "\r",
      " 41%|████      | 198/485 [03:07<05:41,  1.19s/it]"
     ]
    },
    {
     "name": "stdout",
     "output_type": "stream",
     "text": [
      " 393.400193641\n",
      "curverad 287.284449143\n",
      "s_channel shape (720, 1280)\n",
      "curverad 387.564600621\n",
      "curverad 286.074958119\n"
     ]
    },
    {
     "name": "stderr",
     "output_type": "stream",
     "text": [
      "\r",
      " 41%|████      | 199/485 [03:08<05:32,  1.16s/it]"
     ]
    },
    {
     "name": "stdout",
     "output_type": "stream",
     "text": [
      "s_channel shape (720, 1280)\n",
      "curverad 387.160736586\n",
      "curverad 294.100051266\n"
     ]
    },
    {
     "name": "stderr",
     "output_type": "stream",
     "text": [
      "\r",
      " 41%|████      | 200/485 [03:09<05:35,  1.18s/it]"
     ]
    },
    {
     "name": "stdout",
     "output_type": "stream",
     "text": [
      "s_channel shape (720, 1280)\n",
      "curverad 353.313255034\n",
      "curverad 290.456420684\n"
     ]
    },
    {
     "name": "stderr",
     "output_type": "stream",
     "text": [
      "\r",
      " 41%|████▏     | 201/485 [03:11<05:37,  1.19s/it]"
     ]
    },
    {
     "name": "stdout",
     "output_type": "stream",
     "text": [
      "s_channel shape (720, 1280)\n",
      "curverad"
     ]
    },
    {
     "name": "stderr",
     "output_type": "stream",
     "text": [
      "\r",
      " 42%|████▏     | 202/485 [03:12<05:42,  1.21s/it]"
     ]
    },
    {
     "name": "stdout",
     "output_type": "stream",
     "text": [
      " 338.790509745\n",
      "curverad 277.451402152\n",
      "s_channel shape (720, 1280)\n",
      "curverad 322.39992488\n",
      "curverad 258.505718434\n"
     ]
    },
    {
     "name": "stderr",
     "output_type": "stream",
     "text": [
      "\r",
      " 42%|████▏     | 203/485 [03:13<05:40,  1.21s/it]"
     ]
    },
    {
     "name": "stdout",
     "output_type": "stream",
     "text": [
      "s_channel shape (720, 1280)\n",
      "curverad 301.038551421\n",
      "curverad 247.261525729\n"
     ]
    },
    {
     "name": "stderr",
     "output_type": "stream",
     "text": [
      "\r",
      " 42%|████▏     | 204/485 [03:14<05:23,  1.15s/it]"
     ]
    },
    {
     "name": "stdout",
     "output_type": "stream",
     "text": [
      "s_channel shape (720, 1280)\n",
      "curverad 288.7240843\n",
      "curverad 233.716073975\n"
     ]
    },
    {
     "name": "stderr",
     "output_type": "stream",
     "text": [
      "\r",
      " 42%|████▏     | 205/485 [03:15<05:15,  1.13s/it]"
     ]
    },
    {
     "name": "stdout",
     "output_type": "stream",
     "text": [
      "s_channel shape (720, 1280)\n",
      "curverad"
     ]
    },
    {
     "name": "stderr",
     "output_type": "stream",
     "text": [
      "\r",
      " 42%|████▏     | 206/485 [03:16<05:20,  1.15s/it]"
     ]
    },
    {
     "name": "stdout",
     "output_type": "stream",
     "text": [
      " 299.198850795\n",
      "curverad 222.745852161\n",
      "s_channel shape (720, 1280)\n",
      "curverad 293.804078496\n",
      "curverad 227.441978592\n"
     ]
    },
    {
     "name": "stderr",
     "output_type": "stream",
     "text": [
      "\r",
      " 43%|████▎     | 207/485 [03:18<05:28,  1.18s/it]"
     ]
    },
    {
     "name": "stdout",
     "output_type": "stream",
     "text": [
      "s_channel shape (720, 1280)\n",
      "curverad"
     ]
    },
    {
     "name": "stderr",
     "output_type": "stream",
     "text": [
      "\r",
      " 43%|████▎     | 208/485 [03:19<05:31,  1.20s/it]"
     ]
    },
    {
     "name": "stdout",
     "output_type": "stream",
     "text": [
      " 291.807125611\n",
      "curverad 236.568634012\n",
      "s_channel shape (720, 1280)\n",
      "curverad 301.753647617\n",
      "curverad 246.980723153\n"
     ]
    },
    {
     "name": "stderr",
     "output_type": "stream",
     "text": [
      "\r",
      " 43%|████▎     | 209/485 [03:20<05:16,  1.15s/it]"
     ]
    },
    {
     "name": "stdout",
     "output_type": "stream",
     "text": [
      "s_channel shape (720, 1280)\n",
      "curverad 306.34995274\n",
      "curverad 258.52044093\n"
     ]
    },
    {
     "name": "stderr",
     "output_type": "stream",
     "text": [
      "\r",
      " 43%|████▎     | 210/485 [03:21<05:20,  1.16s/it]"
     ]
    },
    {
     "name": "stdout",
     "output_type": "stream",
     "text": [
      "s_channel shape (720, 1280)\n",
      "curverad 300.421814931\n",
      "curverad 278.116869153\n"
     ]
    },
    {
     "name": "stderr",
     "output_type": "stream",
     "text": [
      "\r",
      " 44%|████▎     | 211/485 [03:22<05:17,  1.16s/it]"
     ]
    },
    {
     "name": "stdout",
     "output_type": "stream",
     "text": [
      "s_channel shape (720, 1280)\n",
      "curverad 282.019092237\n",
      "curverad 286.031780461\n"
     ]
    },
    {
     "name": "stderr",
     "output_type": "stream",
     "text": [
      "\r",
      " 44%|████▎     | 212/485 [03:23<05:14,  1.15s/it]"
     ]
    },
    {
     "name": "stdout",
     "output_type": "stream",
     "text": [
      "s_channel shape (720, 1280)\n",
      "curverad 259.345426131\n",
      "curverad 297.39240205\n"
     ]
    },
    {
     "name": "stderr",
     "output_type": "stream",
     "text": [
      "\r",
      " 44%|████▍     | 213/485 [03:24<04:58,  1.10s/it]"
     ]
    },
    {
     "name": "stdout",
     "output_type": "stream",
     "text": [
      "s_channel shape (720, 1280)\n",
      "curverad 237.462062484\n",
      "curverad 300.748657481\n"
     ]
    },
    {
     "name": "stderr",
     "output_type": "stream",
     "text": [
      "\r",
      " 44%|████▍     | 214/485 [03:25<04:50,  1.07s/it]"
     ]
    },
    {
     "name": "stdout",
     "output_type": "stream",
     "text": [
      "s_channel shape (720, 1280)\n",
      "curverad 220.385166619\n",
      "curverad 292.959461539\n"
     ]
    },
    {
     "name": "stderr",
     "output_type": "stream",
     "text": [
      "\r",
      " 44%|████▍     | 215/485 [03:26<04:39,  1.04s/it]"
     ]
    },
    {
     "name": "stdout",
     "output_type": "stream",
     "text": [
      "s_channel shape (720, 1280)\n",
      "curverad 213.391162564\n",
      "curverad 275.083097071\n"
     ]
    },
    {
     "name": "stderr",
     "output_type": "stream",
     "text": [
      "\r",
      " 45%|████▍     | 216/485 [03:27<04:31,  1.01s/it]"
     ]
    },
    {
     "name": "stdout",
     "output_type": "stream",
     "text": [
      "s_channel shape (720, 1280)\n",
      "curverad 209.74376666\n",
      "curverad 277.5324135\n"
     ]
    },
    {
     "name": "stderr",
     "output_type": "stream",
     "text": [
      "\r",
      " 45%|████▍     | 217/485 [03:28<04:26,  1.01it/s]"
     ]
    },
    {
     "name": "stdout",
     "output_type": "stream",
     "text": [
      "s_channel shape (720, 1280)\n",
      "curverad 217.524545043\n",
      "curverad 277.873453293\n"
     ]
    },
    {
     "name": "stderr",
     "output_type": "stream",
     "text": [
      "\r",
      " 45%|████▍     | 218/485 [03:29<04:24,  1.01it/s]"
     ]
    },
    {
     "name": "stdout",
     "output_type": "stream",
     "text": [
      "s_channel shape (720, 1280)\n",
      "curverad 220.911321931\n",
      "curverad 280.987282125\n"
     ]
    },
    {
     "name": "stderr",
     "output_type": "stream",
     "text": [
      "\r",
      " 45%|████▌     | 219/485 [03:30<04:37,  1.04s/it]"
     ]
    },
    {
     "name": "stdout",
     "output_type": "stream",
     "text": [
      "s_channel shape (720, 1280)\n",
      "curverad"
     ]
    },
    {
     "name": "stderr",
     "output_type": "stream",
     "text": [
      "\r",
      " 45%|████▌     | 220/485 [03:32<04:57,  1.12s/it]"
     ]
    },
    {
     "name": "stdout",
     "output_type": "stream",
     "text": [
      " 223.658170278\n",
      "curverad 296.636294499\n",
      "s_channel shape (720, 1280)\n",
      "curverad 228.419594299\n",
      "curverad 326.35441965\n"
     ]
    },
    {
     "name": "stderr",
     "output_type": "stream",
     "text": [
      "\r",
      " 46%|████▌     | 221/485 [03:33<04:51,  1.10s/it]"
     ]
    },
    {
     "name": "stdout",
     "output_type": "stream",
     "text": [
      "s_channel shape (720, 1280)\n",
      "curverad 239.965448812\n",
      "curverad 337.35517241\n"
     ]
    },
    {
     "name": "stderr",
     "output_type": "stream",
     "text": [
      "\r",
      " 46%|████▌     | 222/485 [03:34<04:44,  1.08s/it]"
     ]
    },
    {
     "name": "stdout",
     "output_type": "stream",
     "text": [
      "s_channel shape (720, 1280)\n",
      "curverad 248.667167975\n",
      "curverad 351.558160562\n"
     ]
    },
    {
     "name": "stderr",
     "output_type": "stream",
     "text": [
      "\r",
      " 46%|████▌     | 223/485 [03:35<04:40,  1.07s/it]"
     ]
    },
    {
     "name": "stdout",
     "output_type": "stream",
     "text": [
      "s_channel shape (720, 1280)\n",
      "curverad 266.373941448\n",
      "curverad 362.496681967\n"
     ]
    },
    {
     "name": "stderr",
     "output_type": "stream",
     "text": [
      "\r",
      " 46%|████▌     | 224/485 [03:36<04:30,  1.04s/it]"
     ]
    },
    {
     "name": "stdout",
     "output_type": "stream",
     "text": [
      "s_channel shape (720, 1280)\n",
      "curverad 278.546783392\n",
      "curverad 353.031310741\n"
     ]
    },
    {
     "name": "stderr",
     "output_type": "stream",
     "text": [
      "\r",
      " 46%|████▋     | 225/485 [03:37<04:22,  1.01s/it]"
     ]
    },
    {
     "name": "stdout",
     "output_type": "stream",
     "text": [
      "s_channel shape (720, 1280)\n",
      "curverad"
     ]
    },
    {
     "name": "stderr",
     "output_type": "stream",
     "text": [
      "\r",
      " 47%|████▋     | 226/485 [03:38<04:27,  1.03s/it]"
     ]
    },
    {
     "name": "stdout",
     "output_type": "stream",
     "text": [
      " 279.785889641\n",
      "curverad 349.348206603\n",
      "s_channel shape (720, 1280)\n",
      "curverad 280.277068236\n",
      "curverad 348.237093501\n"
     ]
    },
    {
     "name": "stderr",
     "output_type": "stream",
     "text": [
      "\r",
      " 47%|████▋     | 227/485 [03:39<04:24,  1.02s/it]"
     ]
    },
    {
     "name": "stdout",
     "output_type": "stream",
     "text": [
      "s_channel shape (720, 1280)\n",
      "curverad 272.544019215\n",
      "curverad 333.460076016\n"
     ]
    },
    {
     "name": "stderr",
     "output_type": "stream",
     "text": [
      "\r",
      " 47%|████▋     | 228/485 [03:40<04:30,  1.05s/it]"
     ]
    },
    {
     "name": "stdout",
     "output_type": "stream",
     "text": [
      "s_channel shape (720, 1280)\n",
      "curverad 264.181341654\n",
      "curverad 306.206510544\n"
     ]
    },
    {
     "name": "stderr",
     "output_type": "stream",
     "text": [
      "\r",
      " 47%|████▋     | 229/485 [03:41<04:45,  1.12s/it]"
     ]
    },
    {
     "name": "stdout",
     "output_type": "stream",
     "text": [
      "s_channel shape (720, 1280)\n",
      "curverad 258.058070863\n",
      "curverad 318.38627727\n"
     ]
    },
    {
     "name": "stderr",
     "output_type": "stream",
     "text": [
      "\r",
      " 47%|████▋     | 230/485 [03:42<04:43,  1.11s/it]"
     ]
    },
    {
     "name": "stdout",
     "output_type": "stream",
     "text": [
      "s_channel shape (720, 1280)\n",
      "curverad 263.566747077\n",
      "curverad 331.990235742\n"
     ]
    },
    {
     "name": "stderr",
     "output_type": "stream",
     "text": [
      "\r",
      " 48%|████▊     | 231/485 [03:43<04:36,  1.09s/it]"
     ]
    },
    {
     "name": "stdout",
     "output_type": "stream",
     "text": [
      "s_channel shape (720, 1280)\n",
      "curverad 270.401580396\n",
      "curverad 355.054280841\n"
     ]
    },
    {
     "name": "stderr",
     "output_type": "stream",
     "text": [
      "\r",
      " 48%|████▊     | 232/485 [03:44<04:33,  1.08s/it]"
     ]
    },
    {
     "name": "stdout",
     "output_type": "stream",
     "text": [
      "s_channel shape (720, 1280)\n",
      "curverad"
     ]
    },
    {
     "name": "stderr",
     "output_type": "stream",
     "text": [
      "\r",
      " 48%|████▊     | 233/485 [03:45<04:30,  1.07s/it]"
     ]
    },
    {
     "name": "stdout",
     "output_type": "stream",
     "text": [
      " 283.261461632\n",
      "curverad 373.595703358\n",
      "s_channel shape (720, 1280)\n",
      "curverad 296.990650318\n",
      "curverad 402.420576176\n"
     ]
    },
    {
     "name": "stderr",
     "output_type": "stream",
     "text": [
      "\r",
      " 48%|████▊     | 234/485 [03:46<04:24,  1.05s/it]"
     ]
    },
    {
     "name": "stdout",
     "output_type": "stream",
     "text": [
      "s_channel shape (720, 1280)\n",
      "curverad 314.13988939\n",
      "curverad 364.78253902\n"
     ]
    },
    {
     "name": "stderr",
     "output_type": "stream",
     "text": [
      "\r",
      " 48%|████▊     | 235/485 [03:47<04:13,  1.01s/it]"
     ]
    },
    {
     "name": "stdout",
     "output_type": "stream",
     "text": [
      "s_channel shape (720, 1280)\n",
      "curverad 316.825520403\n",
      "curverad 337.132210002\n"
     ]
    },
    {
     "name": "stderr",
     "output_type": "stream",
     "text": [
      "\r",
      " 49%|████▊     | 236/485 [03:48<04:05,  1.01it/s]"
     ]
    },
    {
     "name": "stdout",
     "output_type": "stream",
     "text": [
      "s_channel shape (720, 1280)\n",
      "curverad 315.978586147\n",
      "curverad 305.032451891\n"
     ]
    },
    {
     "name": "stderr",
     "output_type": "stream",
     "text": [
      "\r",
      " 49%|████▉     | 237/485 [03:49<03:59,  1.03it/s]"
     ]
    },
    {
     "name": "stdout",
     "output_type": "stream",
     "text": [
      "s_channel shape (720, 1280)\n",
      "curverad 306.444582335\n",
      "curverad 292.859336258\n"
     ]
    },
    {
     "name": "stderr",
     "output_type": "stream",
     "text": [
      "\r",
      " 49%|████▉     | 238/485 [03:50<03:55,  1.05it/s]"
     ]
    },
    {
     "name": "stdout",
     "output_type": "stream",
     "text": [
      "s_channel shape (720, 1280)\n",
      "curverad 300.593048544\n",
      "curverad 291.457476369\n"
     ]
    },
    {
     "name": "stderr",
     "output_type": "stream",
     "text": [
      "\r",
      " 49%|████▉     | 239/485 [03:51<03:55,  1.04it/s]"
     ]
    },
    {
     "name": "stdout",
     "output_type": "stream",
     "text": [
      "s_channel shape (720, 1280)\n",
      "curverad 302.823981826\n",
      "curverad 304.142039281\n"
     ]
    },
    {
     "name": "stderr",
     "output_type": "stream",
     "text": [
      "\r",
      " 49%|████▉     | 240/485 [03:52<03:58,  1.03it/s]"
     ]
    },
    {
     "name": "stdout",
     "output_type": "stream",
     "text": [
      "s_channel shape (720, 1280)\n",
      "curverad 308.478271249\n",
      "curverad 308.661068718\n"
     ]
    },
    {
     "name": "stderr",
     "output_type": "stream",
     "text": [
      "\r",
      " 50%|████▉     | 241/485 [03:53<03:53,  1.05it/s]"
     ]
    },
    {
     "name": "stdout",
     "output_type": "stream",
     "text": [
      "s_channel shape (720, 1280)\n",
      "curverad 278.051195008\n",
      "curverad 317.15146748\n"
     ]
    },
    {
     "name": "stderr",
     "output_type": "stream",
     "text": [
      "\r",
      " 50%|████▉     | 242/485 [03:54<03:49,  1.06it/s]"
     ]
    },
    {
     "name": "stdout",
     "output_type": "stream",
     "text": [
      "s_channel shape (720, 1280)\n",
      "curverad 289.945756596\n",
      "curverad 308.045880724\n"
     ]
    },
    {
     "name": "stderr",
     "output_type": "stream",
     "text": [
      "\r",
      " 50%|█████     | 243/485 [03:55<03:49,  1.06it/s]"
     ]
    },
    {
     "name": "stdout",
     "output_type": "stream",
     "text": [
      "s_channel shape (720, 1280)\n",
      "curverad 312.838223685\n",
      "curverad 333.26590614\n"
     ]
    },
    {
     "name": "stderr",
     "output_type": "stream",
     "text": [
      "\r",
      " 50%|█████     | 244/485 [03:56<03:49,  1.05it/s]"
     ]
    },
    {
     "name": "stdout",
     "output_type": "stream",
     "text": [
      "s_channel shape (720, 1280)\n",
      "curverad 331.577984085\n",
      "curverad 364.343749327\n"
     ]
    },
    {
     "name": "stderr",
     "output_type": "stream",
     "text": [
      "\r",
      " 51%|█████     | 245/485 [03:57<03:48,  1.05it/s]"
     ]
    },
    {
     "name": "stdout",
     "output_type": "stream",
     "text": [
      "s_channel shape (720, 1280)\n",
      "curverad 346.038960517\n",
      "curverad 423.653438381\n"
     ]
    },
    {
     "name": "stderr",
     "output_type": "stream",
     "text": [
      "\r",
      " 51%|█████     | 246/485 [03:58<03:48,  1.05it/s]"
     ]
    },
    {
     "name": "stdout",
     "output_type": "stream",
     "text": [
      "s_channel shape (720, 1280)\n",
      "curverad 431.472688657\n",
      "curverad 522.207249243\n"
     ]
    },
    {
     "name": "stderr",
     "output_type": "stream",
     "text": [
      "\r",
      " 51%|█████     | 247/485 [03:59<03:48,  1.04it/s]"
     ]
    },
    {
     "name": "stdout",
     "output_type": "stream",
     "text": [
      "s_channel shape (720, 1280)\n",
      "curverad 461.025338309\n",
      "curverad 781.953036839\n"
     ]
    },
    {
     "name": "stderr",
     "output_type": "stream",
     "text": [
      "\r",
      " 51%|█████     | 248/485 [04:00<03:46,  1.05it/s]"
     ]
    },
    {
     "name": "stdout",
     "output_type": "stream",
     "text": [
      "s_channel shape (720, 1280)\n",
      "curverad 459.070178325\n",
      "curverad 675.024247562\n"
     ]
    },
    {
     "name": "stderr",
     "output_type": "stream",
     "text": [
      "\r",
      " 51%|█████▏    | 249/485 [04:01<03:45,  1.05it/s]"
     ]
    },
    {
     "name": "stdout",
     "output_type": "stream",
     "text": [
      "s_channel shape (720, 1280)\n",
      "curverad 482.476781506\n",
      "curverad 765.243730053\n"
     ]
    },
    {
     "name": "stderr",
     "output_type": "stream",
     "text": [
      "\r",
      " 52%|█████▏    | 250/485 [04:02<03:46,  1.04it/s]"
     ]
    },
    {
     "name": "stdout",
     "output_type": "stream",
     "text": [
      "s_channel shape (720, 1280)\n",
      "curverad 542.771291598\n",
      "curverad 760.28390907\n"
     ]
    },
    {
     "name": "stderr",
     "output_type": "stream",
     "text": [
      "\r",
      " 52%|█████▏    | 251/485 [04:03<03:45,  1.04it/s]"
     ]
    },
    {
     "name": "stdout",
     "output_type": "stream",
     "text": [
      "s_channel shape (720, 1280)\n",
      "curverad 638.415609645\n",
      "curverad 654.514225005\n"
     ]
    },
    {
     "name": "stderr",
     "output_type": "stream",
     "text": [
      "\r",
      " 52%|█████▏    | 252/485 [04:03<03:44,  1.04it/s]"
     ]
    },
    {
     "name": "stdout",
     "output_type": "stream",
     "text": [
      "s_channel shape (720, 1280)\n",
      "curverad 812.197178235\n",
      "curverad 570.610115473\n"
     ]
    },
    {
     "name": "stderr",
     "output_type": "stream",
     "text": [
      "\r",
      " 52%|█████▏    | 253/485 [04:04<03:42,  1.04it/s]"
     ]
    },
    {
     "name": "stdout",
     "output_type": "stream",
     "text": [
      "s_channel shape (720, 1280)\n",
      "curverad 1112.81105691\n",
      "curverad 611.844719906\n"
     ]
    },
    {
     "name": "stderr",
     "output_type": "stream",
     "text": [
      "\r",
      " 52%|█████▏    | 254/485 [04:05<03:38,  1.05it/s]"
     ]
    },
    {
     "name": "stdout",
     "output_type": "stream",
     "text": [
      "s_channel shape (720, 1280)\n",
      "curverad 1169.27446051\n",
      "curverad 509.026144094\n"
     ]
    },
    {
     "name": "stderr",
     "output_type": "stream",
     "text": [
      "\r",
      " 53%|█████▎    | 255/485 [04:06<03:35,  1.07it/s]"
     ]
    },
    {
     "name": "stdout",
     "output_type": "stream",
     "text": [
      "s_channel shape (720, 1280)\n",
      "curverad 1200.5941634\n",
      "curverad 454.77032563\n"
     ]
    },
    {
     "name": "stderr",
     "output_type": "stream",
     "text": [
      "\r",
      " 53%|█████▎    | 256/485 [04:07<03:32,  1.08it/s]"
     ]
    },
    {
     "name": "stdout",
     "output_type": "stream",
     "text": [
      "s_channel shape (720, 1280)\n",
      "curverad 1221.49429383\n",
      "curverad 490.999721175\n"
     ]
    },
    {
     "name": "stderr",
     "output_type": "stream",
     "text": [
      "\r",
      " 53%|█████▎    | 257/485 [04:08<03:30,  1.08it/s]"
     ]
    },
    {
     "name": "stdout",
     "output_type": "stream",
     "text": [
      "s_channel shape (720, 1280)\n",
      "curverad 1200.97708563\n",
      "curverad 493.144889751\n"
     ]
    },
    {
     "name": "stderr",
     "output_type": "stream",
     "text": [
      "\r",
      " 53%|█████▎    | 258/485 [04:09<03:29,  1.08it/s]"
     ]
    },
    {
     "name": "stdout",
     "output_type": "stream",
     "text": [
      "s_channel shape (720, 1280)\n",
      "curverad 1166.10271614\n",
      "curverad 528.314269345\n"
     ]
    },
    {
     "name": "stderr",
     "output_type": "stream",
     "text": [
      "\r",
      " 53%|█████▎    | 259/485 [04:10<03:27,  1.09it/s]"
     ]
    },
    {
     "name": "stdout",
     "output_type": "stream",
     "text": [
      "s_channel shape (720, 1280)\n",
      "curverad 1431.3273227\n",
      "curverad 584.559987995\n"
     ]
    },
    {
     "name": "stderr",
     "output_type": "stream",
     "text": [
      "\r",
      " 54%|█████▎    | 260/485 [04:11<03:25,  1.09it/s]"
     ]
    },
    {
     "name": "stdout",
     "output_type": "stream",
     "text": [
      "s_channel shape (720, 1280)\n",
      "curverad 1662.43004292\n",
      "curverad 591.950965277\n"
     ]
    },
    {
     "name": "stderr",
     "output_type": "stream",
     "text": [
      "\r",
      " 54%|█████▍    | 261/485 [04:12<03:24,  1.09it/s]"
     ]
    },
    {
     "name": "stdout",
     "output_type": "stream",
     "text": [
      "s_channel shape (720, 1280)\n",
      "curverad 1460.25902451\n",
      "curverad 488.407172815\n"
     ]
    },
    {
     "name": "stderr",
     "output_type": "stream",
     "text": [
      "\r",
      " 54%|█████▍    | 262/485 [04:13<03:24,  1.09it/s]"
     ]
    },
    {
     "name": "stdout",
     "output_type": "stream",
     "text": [
      "s_channel shape (720, 1280)\n",
      "curverad 1262.09684678\n",
      "curverad 426.897172703\n"
     ]
    },
    {
     "name": "stderr",
     "output_type": "stream",
     "text": [
      "\r",
      " 54%|█████▍    | 263/485 [04:14<03:23,  1.09it/s]"
     ]
    },
    {
     "name": "stdout",
     "output_type": "stream",
     "text": [
      "s_channel shape (720, 1280)\n",
      "curverad 1157.28621464\n",
      "curverad 379.611772586\n"
     ]
    },
    {
     "name": "stderr",
     "output_type": "stream",
     "text": [
      "\r",
      " 54%|█████▍    | 264/485 [04:15<03:28,  1.06it/s]"
     ]
    },
    {
     "name": "stdout",
     "output_type": "stream",
     "text": [
      "s_channel shape (720, 1280)\n",
      "curverad 942.63949111\n",
      "curverad 330.443755994\n"
     ]
    },
    {
     "name": "stderr",
     "output_type": "stream",
     "text": [
      "\r",
      " 55%|█████▍    | 265/485 [04:16<03:29,  1.05it/s]"
     ]
    },
    {
     "name": "stdout",
     "output_type": "stream",
     "text": [
      "s_channel shape (720, 1280)\n",
      "curverad 760.841536824\n",
      "curverad 308.077539208\n"
     ]
    },
    {
     "name": "stderr",
     "output_type": "stream",
     "text": [
      "\r",
      " 55%|█████▍    | 266/485 [04:17<03:29,  1.04it/s]"
     ]
    },
    {
     "name": "stdout",
     "output_type": "stream",
     "text": [
      "s_channel shape (720, 1280)\n",
      "curverad 701.246793667\n",
      "curverad 302.711081606\n"
     ]
    },
    {
     "name": "stderr",
     "output_type": "stream",
     "text": [
      "\r",
      " 55%|█████▌    | 267/485 [04:17<03:26,  1.05it/s]"
     ]
    },
    {
     "name": "stdout",
     "output_type": "stream",
     "text": [
      "s_channel shape (720, 1280)\n",
      "curverad 612.977839761\n",
      "curverad 304.307192932\n"
     ]
    },
    {
     "name": "stderr",
     "output_type": "stream",
     "text": [
      "\r",
      " 55%|█████▌    | 268/485 [04:18<03:25,  1.06it/s]"
     ]
    },
    {
     "name": "stdout",
     "output_type": "stream",
     "text": [
      "s_channel shape (720, 1280)\n",
      "curverad 536.718267928\n",
      "curverad 307.671877707\n"
     ]
    },
    {
     "name": "stderr",
     "output_type": "stream",
     "text": [
      "\r",
      " 55%|█████▌    | 269/485 [04:19<03:24,  1.06it/s]"
     ]
    },
    {
     "name": "stdout",
     "output_type": "stream",
     "text": [
      "s_channel shape (720, 1280)\n",
      "curverad 490.514529188\n",
      "curverad 317.833775302\n"
     ]
    },
    {
     "name": "stderr",
     "output_type": "stream",
     "text": [
      "\r",
      " 56%|█████▌    | 270/485 [04:20<03:23,  1.06it/s]"
     ]
    },
    {
     "name": "stdout",
     "output_type": "stream",
     "text": [
      "s_channel shape (720, 1280)\n",
      "curverad 489.151510074\n",
      "curverad 332.340403984\n"
     ]
    },
    {
     "name": "stderr",
     "output_type": "stream",
     "text": [
      "\r",
      " 56%|█████▌    | 271/485 [04:21<03:21,  1.06it/s]"
     ]
    },
    {
     "name": "stdout",
     "output_type": "stream",
     "text": [
      "s_channel shape (720, 1280)\n",
      "curverad 480.360318101\n",
      "curverad 348.196517561\n"
     ]
    },
    {
     "name": "stderr",
     "output_type": "stream",
     "text": [
      "\r",
      " 56%|█████▌    | 272/485 [04:22<03:19,  1.07it/s]"
     ]
    },
    {
     "name": "stdout",
     "output_type": "stream",
     "text": [
      "s_channel shape (720, 1280)\n",
      "curverad 481.123965626\n",
      "curverad 367.285838869\n"
     ]
    },
    {
     "name": "stderr",
     "output_type": "stream",
     "text": [
      "\r",
      " 56%|█████▋    | 273/485 [04:23<03:18,  1.07it/s]"
     ]
    },
    {
     "name": "stdout",
     "output_type": "stream",
     "text": [
      "s_channel shape (720, 1280)\n",
      "curverad 473.204143562\n",
      "curverad 388.047736136\n"
     ]
    },
    {
     "name": "stderr",
     "output_type": "stream",
     "text": [
      "\r",
      " 56%|█████▋    | 274/485 [04:24<03:16,  1.07it/s]"
     ]
    },
    {
     "name": "stdout",
     "output_type": "stream",
     "text": [
      "s_channel shape (720, 1280)\n",
      "curverad 476.901432046\n",
      "curverad 396.760918702\n"
     ]
    },
    {
     "name": "stderr",
     "output_type": "stream",
     "text": [
      "\r",
      " 57%|█████▋    | 275/485 [04:25<03:14,  1.08it/s]"
     ]
    },
    {
     "name": "stdout",
     "output_type": "stream",
     "text": [
      "s_channel shape (720, 1280)\n",
      "curverad 469.949417164\n",
      "curverad 371.859076268\n"
     ]
    },
    {
     "name": "stderr",
     "output_type": "stream",
     "text": [
      "\r",
      " 57%|█████▋    | 276/485 [04:26<03:20,  1.04it/s]"
     ]
    },
    {
     "name": "stdout",
     "output_type": "stream",
     "text": [
      "s_channel shape (720, 1280)\n",
      "curverad 481.741164248\n",
      "curverad 353.745224471\n"
     ]
    },
    {
     "name": "stderr",
     "output_type": "stream",
     "text": [
      "\r",
      " 57%|█████▋    | 277/485 [04:27<03:25,  1.01it/s]"
     ]
    },
    {
     "name": "stdout",
     "output_type": "stream",
     "text": [
      "s_channel shape (720, 1280)\n",
      "curverad 520.574143269\n",
      "curverad 319.732663563\n"
     ]
    },
    {
     "name": "stderr",
     "output_type": "stream",
     "text": [
      "\r",
      " 57%|█████▋    | 278/485 [04:28<03:28,  1.01s/it]"
     ]
    },
    {
     "name": "stdout",
     "output_type": "stream",
     "text": [
      "s_channel shape (720, 1280)\n",
      "curverad 563.424553871\n",
      "curverad 295.566512923\n"
     ]
    },
    {
     "name": "stderr",
     "output_type": "stream",
     "text": [
      "\r",
      " 58%|█████▊    | 279/485 [04:29<03:30,  1.02s/it]"
     ]
    },
    {
     "name": "stdout",
     "output_type": "stream",
     "text": [
      "s_channel shape (720, 1280)\n",
      "curverad 599.536510307\n",
      "curverad 292.538115534\n"
     ]
    },
    {
     "name": "stderr",
     "output_type": "stream",
     "text": [
      "\r",
      " 58%|█████▊    | 280/485 [04:30<03:31,  1.03s/it]"
     ]
    },
    {
     "name": "stdout",
     "output_type": "stream",
     "text": [
      "s_channel shape (720, 1280)\n",
      "curverad 591.243991874\n",
      "curverad 303.109622211\n"
     ]
    },
    {
     "name": "stderr",
     "output_type": "stream",
     "text": [
      "\r",
      " 58%|█████▊    | 281/485 [04:31<03:32,  1.04s/it]"
     ]
    },
    {
     "name": "stdout",
     "output_type": "stream",
     "text": [
      "s_channel shape (720, 1280)\n",
      "curverad 545.685084363\n",
      "curverad 308.649356046\n"
     ]
    },
    {
     "name": "stderr",
     "output_type": "stream",
     "text": [
      "\r",
      " 58%|█████▊    | 282/485 [04:32<03:34,  1.06s/it]"
     ]
    },
    {
     "name": "stdout",
     "output_type": "stream",
     "text": [
      "s_channel shape (720, 1280)\n",
      "curverad 467.117428105\n",
      "curverad 321.605582599\n"
     ]
    },
    {
     "name": "stderr",
     "output_type": "stream",
     "text": [
      "\r",
      " 58%|█████▊    | 283/485 [04:33<03:38,  1.08s/it]"
     ]
    },
    {
     "name": "stdout",
     "output_type": "stream",
     "text": [
      "s_channel shape (720, 1280)\n",
      "curverad 459.53558555\n",
      "curverad 334.149022132\n"
     ]
    },
    {
     "name": "stderr",
     "output_type": "stream",
     "text": [
      "\r",
      " 59%|█████▊    | 284/485 [04:35<03:52,  1.16s/it]"
     ]
    },
    {
     "name": "stdout",
     "output_type": "stream",
     "text": [
      "s_channel shape (720, 1280)\n",
      "curverad 463.573769574\n",
      "curverad 349.600410789\n"
     ]
    },
    {
     "name": "stderr",
     "output_type": "stream",
     "text": [
      "\r",
      " 59%|█████▉    | 285/485 [04:36<03:52,  1.16s/it]"
     ]
    },
    {
     "name": "stdout",
     "output_type": "stream",
     "text": [
      "s_channel shape (720, 1280)\n",
      "curverad 472.274391579\n",
      "curverad 358.579061354\n"
     ]
    },
    {
     "name": "stderr",
     "output_type": "stream",
     "text": [
      "\r",
      " 59%|█████▉    | 286/485 [04:37<03:39,  1.10s/it]"
     ]
    },
    {
     "name": "stdout",
     "output_type": "stream",
     "text": [
      "s_channel shape (720, 1280)\n",
      "curverad 554.28801825\n",
      "curverad 387.212078726\n"
     ]
    },
    {
     "name": "stderr",
     "output_type": "stream",
     "text": [
      "\r",
      " 59%|█████▉    | 287/485 [04:38<03:30,  1.06s/it]"
     ]
    },
    {
     "name": "stdout",
     "output_type": "stream",
     "text": [
      "s_channel shape (720, 1280)\n",
      "curverad 767.606961907\n",
      "curverad 426.41384461\n"
     ]
    },
    {
     "name": "stderr",
     "output_type": "stream",
     "text": [
      "\r",
      " 59%|█████▉    | 288/485 [04:39<03:26,  1.05s/it]"
     ]
    },
    {
     "name": "stdout",
     "output_type": "stream",
     "text": [
      "s_channel shape (720, 1280)\n",
      "curverad 997.905064607\n",
      "curverad 461.248649545\n"
     ]
    },
    {
     "name": "stderr",
     "output_type": "stream",
     "text": [
      "\r",
      " 60%|█████▉    | 289/485 [04:40<03:26,  1.05s/it]"
     ]
    },
    {
     "name": "stdout",
     "output_type": "stream",
     "text": [
      "s_channel shape (720, 1280)\n",
      "curverad 1423.19503786\n",
      "curverad 445.65339726\n"
     ]
    },
    {
     "name": "stderr",
     "output_type": "stream",
     "text": [
      "\r",
      " 60%|█████▉    | 290/485 [04:41<03:22,  1.04s/it]"
     ]
    },
    {
     "name": "stdout",
     "output_type": "stream",
     "text": [
      "s_channel shape (720, 1280)\n",
      "curverad 3181.70474327\n",
      "curverad 421.787173698\n"
     ]
    },
    {
     "name": "stderr",
     "output_type": "stream",
     "text": [
      "\r",
      " 60%|██████    | 291/485 [04:42<03:15,  1.01s/it]"
     ]
    },
    {
     "name": "stdout",
     "output_type": "stream",
     "text": [
      "s_channel shape (720, 1280)\n",
      "curverad 4456.3898477\n",
      "curverad 380.611908232\n"
     ]
    },
    {
     "name": "stderr",
     "output_type": "stream",
     "text": [
      "\r",
      " 60%|██████    | 292/485 [04:43<03:12,  1.00it/s]"
     ]
    },
    {
     "name": "stdout",
     "output_type": "stream",
     "text": [
      "s_channel shape (720, 1280)\n",
      "curverad 3997.13793006\n",
      "curverad 349.844119308\n"
     ]
    },
    {
     "name": "stderr",
     "output_type": "stream",
     "text": [
      "\r",
      " 60%|██████    | 293/485 [04:44<03:10,  1.01it/s]"
     ]
    },
    {
     "name": "stdout",
     "output_type": "stream",
     "text": [
      "s_channel shape (720, 1280)\n",
      "curverad 3174.869924\n",
      "curverad 325.279255169\n"
     ]
    },
    {
     "name": "stderr",
     "output_type": "stream",
     "text": [
      "\r",
      " 61%|██████    | 294/485 [04:45<03:10,  1.00it/s]"
     ]
    },
    {
     "name": "stdout",
     "output_type": "stream",
     "text": [
      "s_channel shape (720, 1280)\n",
      "curverad 1867.78258465\n",
      "curverad 328.99350616\n"
     ]
    },
    {
     "name": "stderr",
     "output_type": "stream",
     "text": [
      "\r",
      " 61%|██████    | 295/485 [04:46<03:28,  1.10s/it]"
     ]
    },
    {
     "name": "stdout",
     "output_type": "stream",
     "text": [
      "s_channel shape (720, 1280)\n",
      "curverad 984.345924303\n",
      "curverad 352.112068654\n"
     ]
    },
    {
     "name": "stderr",
     "output_type": "stream",
     "text": [
      "\r",
      " 61%|██████    | 296/485 [04:47<03:23,  1.08s/it]"
     ]
    },
    {
     "name": "stdout",
     "output_type": "stream",
     "text": [
      "s_channel shape (720, 1280)\n",
      "curverad 732.244425115\n",
      "curverad 366.248901746\n"
     ]
    },
    {
     "name": "stderr",
     "output_type": "stream",
     "text": [
      "\r",
      " 61%|██████    | 297/485 [04:48<03:17,  1.05s/it]"
     ]
    },
    {
     "name": "stdout",
     "output_type": "stream",
     "text": [
      "s_channel shape (720, 1280)\n",
      "curverad 688.62947486\n",
      "curverad 393.165308117\n"
     ]
    },
    {
     "name": "stderr",
     "output_type": "stream",
     "text": [
      "\r",
      " 61%|██████▏   | 298/485 [04:49<03:10,  1.02s/it]"
     ]
    },
    {
     "name": "stdout",
     "output_type": "stream",
     "text": [
      "s_channel shape (720, 1280)\n",
      "curverad 700.233040365\n",
      "curverad 414.839562159\n"
     ]
    },
    {
     "name": "stderr",
     "output_type": "stream",
     "text": [
      "\r",
      " 62%|██████▏   | 299/485 [04:50<03:07,  1.01s/it]"
     ]
    },
    {
     "name": "stdout",
     "output_type": "stream",
     "text": [
      "s_channel shape (720, 1280)\n",
      "curverad 870.239415989\n",
      "curverad 432.964065379\n"
     ]
    },
    {
     "name": "stderr",
     "output_type": "stream",
     "text": [
      "\r",
      " 62%|██████▏   | 300/485 [04:51<03:04,  1.00it/s]"
     ]
    },
    {
     "name": "stdout",
     "output_type": "stream",
     "text": [
      "s_channel shape (720, 1280)\n",
      "curverad 1265.1595735\n",
      "curverad 433.069707651\n"
     ]
    },
    {
     "name": "stderr",
     "output_type": "stream",
     "text": [
      "\r",
      " 62%|██████▏   | 301/485 [04:52<03:02,  1.01it/s]"
     ]
    },
    {
     "name": "stdout",
     "output_type": "stream",
     "text": [
      "s_channel shape (720, 1280)\n",
      "curverad 1935.65395388\n",
      "curverad 455.799441284\n"
     ]
    },
    {
     "name": "stderr",
     "output_type": "stream",
     "text": [
      "\r",
      " 62%|██████▏   | 302/485 [04:53<03:00,  1.01it/s]"
     ]
    },
    {
     "name": "stdout",
     "output_type": "stream",
     "text": [
      "s_channel shape (720, 1280)\n",
      "curverad 2095.97556865\n",
      "curverad 456.293077189\n"
     ]
    },
    {
     "name": "stderr",
     "output_type": "stream",
     "text": [
      "\r",
      " 62%|██████▏   | 303/485 [04:54<02:59,  1.02it/s]"
     ]
    },
    {
     "name": "stdout",
     "output_type": "stream",
     "text": [
      "s_channel shape (720, 1280)\n",
      "curverad 1884.13465024\n",
      "curverad 469.081235147\n"
     ]
    },
    {
     "name": "stderr",
     "output_type": "stream",
     "text": [
      "\r",
      " 63%|██████▎   | 304/485 [04:55<02:57,  1.02it/s]"
     ]
    },
    {
     "name": "stdout",
     "output_type": "stream",
     "text": [
      "s_channel shape (720, 1280)\n",
      "curverad 1324.60386316\n",
      "curverad 468.888021722\n"
     ]
    },
    {
     "name": "stderr",
     "output_type": "stream",
     "text": [
      "\r",
      " 63%|██████▎   | 305/485 [04:56<02:56,  1.02it/s]"
     ]
    },
    {
     "name": "stdout",
     "output_type": "stream",
     "text": [
      "s_channel shape (720, 1280)\n",
      "curverad 1002.19474136\n",
      "curverad 480.763058921\n"
     ]
    },
    {
     "name": "stderr",
     "output_type": "stream",
     "text": [
      "\r",
      " 63%|██████▎   | 306/485 [04:57<02:54,  1.02it/s]"
     ]
    },
    {
     "name": "stdout",
     "output_type": "stream",
     "text": [
      "s_channel shape (720, 1280)\n",
      "curverad 891.030223678\n",
      "curverad 497.697950275\n"
     ]
    },
    {
     "name": "stderr",
     "output_type": "stream",
     "text": [
      "\r",
      " 63%|██████▎   | 307/485 [04:58<02:56,  1.01it/s]"
     ]
    },
    {
     "name": "stdout",
     "output_type": "stream",
     "text": [
      "s_channel shape (720, 1280)\n",
      "curverad 805.98796483\n",
      "curverad 508.110519223\n"
     ]
    },
    {
     "name": "stderr",
     "output_type": "stream",
     "text": [
      "\r",
      " 64%|██████▎   | 308/485 [04:59<02:58,  1.01s/it]"
     ]
    },
    {
     "name": "stdout",
     "output_type": "stream",
     "text": [
      "s_channel shape (720, 1280)\n",
      "curverad 718.306986081\n",
      "curverad 510.371367658\n"
     ]
    },
    {
     "name": "stderr",
     "output_type": "stream",
     "text": [
      "\r",
      " 64%|██████▎   | 309/485 [05:00<02:55,  1.01it/s]"
     ]
    },
    {
     "name": "stdout",
     "output_type": "stream",
     "text": [
      "s_channel shape (720, 1280)\n",
      "curverad 630.010090219\n",
      "curverad 515.83195105\n"
     ]
    },
    {
     "name": "stderr",
     "output_type": "stream",
     "text": [
      "\r",
      " 64%|██████▍   | 310/485 [05:01<02:51,  1.02it/s]"
     ]
    },
    {
     "name": "stdout",
     "output_type": "stream",
     "text": [
      "s_channel shape (720, 1280)\n",
      "curverad 601.770612101\n",
      "curverad 520.659693202\n"
     ]
    },
    {
     "name": "stderr",
     "output_type": "stream",
     "text": [
      "\r",
      " 64%|██████▍   | 311/485 [05:02<02:50,  1.02it/s]"
     ]
    },
    {
     "name": "stdout",
     "output_type": "stream",
     "text": [
      "s_channel shape (720, 1280)\n",
      "curverad 634.348568483\n",
      "curverad 539.387348503\n"
     ]
    },
    {
     "name": "stderr",
     "output_type": "stream",
     "text": [
      "\r",
      " 64%|██████▍   | 312/485 [05:03<02:48,  1.03it/s]"
     ]
    },
    {
     "name": "stdout",
     "output_type": "stream",
     "text": [
      "s_channel shape (720, 1280)\n",
      "curverad 703.847289788\n",
      "curverad 641.015982827\n"
     ]
    },
    {
     "name": "stderr",
     "output_type": "stream",
     "text": [
      "\r",
      " 65%|██████▍   | 313/485 [05:04<02:47,  1.02it/s]"
     ]
    },
    {
     "name": "stdout",
     "output_type": "stream",
     "text": [
      "s_channel shape (720, 1280)\n",
      "curverad 857.285790862\n",
      "curverad 864.836897912\n"
     ]
    },
    {
     "name": "stderr",
     "output_type": "stream",
     "text": [
      "\r",
      " 65%|██████▍   | 314/485 [05:05<02:48,  1.02it/s]"
     ]
    },
    {
     "name": "stdout",
     "output_type": "stream",
     "text": [
      "s_channel shape (720, 1280)\n",
      "curverad 1266.88761702\n",
      "curverad 1084.70917195\n"
     ]
    },
    {
     "name": "stderr",
     "output_type": "stream",
     "text": [
      "\r",
      " 65%|██████▍   | 315/485 [05:06<02:47,  1.01it/s]"
     ]
    },
    {
     "name": "stdout",
     "output_type": "stream",
     "text": [
      "s_channel shape (720, 1280)\n",
      "curverad 3428.84953462\n",
      "curverad 1675.56849189\n"
     ]
    },
    {
     "name": "stderr",
     "output_type": "stream",
     "text": [
      "\r",
      " 65%|██████▌   | 316/485 [05:07<02:49,  1.00s/it]"
     ]
    },
    {
     "name": "stdout",
     "output_type": "stream",
     "text": [
      "s_channel shape (720, 1280)\n",
      "curverad 24618.7241049\n",
      "curverad 2495.37902033\n"
     ]
    },
    {
     "name": "stderr",
     "output_type": "stream",
     "text": [
      "\r",
      " 65%|██████▌   | 317/485 [05:08<02:47,  1.00it/s]"
     ]
    },
    {
     "name": "stdout",
     "output_type": "stream",
     "text": [
      "s_channel shape (720, 1280)\n",
      "curverad 7640.64506884\n",
      "curverad 2156.99365348\n"
     ]
    },
    {
     "name": "stderr",
     "output_type": "stream",
     "text": [
      "\r",
      " 66%|██████▌   | 318/485 [05:09<02:46,  1.00it/s]"
     ]
    },
    {
     "name": "stdout",
     "output_type": "stream",
     "text": [
      "s_channel shape (720, 1280)\n",
      "curverad 3295.96587211\n",
      "curverad 2033.65028478\n"
     ]
    },
    {
     "name": "stderr",
     "output_type": "stream",
     "text": [
      "\r",
      " 66%|██████▌   | 319/485 [05:10<02:45,  1.00it/s]"
     ]
    },
    {
     "name": "stdout",
     "output_type": "stream",
     "text": [
      "s_channel shape (720, 1280)\n",
      "curverad 2079.66933495\n",
      "curverad 2381.68214532\n"
     ]
    },
    {
     "name": "stderr",
     "output_type": "stream",
     "text": [
      "\r",
      " 66%|██████▌   | 320/485 [05:11<02:44,  1.00it/s]"
     ]
    },
    {
     "name": "stdout",
     "output_type": "stream",
     "text": [
      "s_channel shape (720, 1280)\n",
      "curverad 1632.66297045\n",
      "curverad 1713.9649972\n"
     ]
    },
    {
     "name": "stderr",
     "output_type": "stream",
     "text": [
      "\r",
      " 66%|██████▌   | 321/485 [05:12<02:43,  1.00it/s]"
     ]
    },
    {
     "name": "stdout",
     "output_type": "stream",
     "text": [
      "s_channel shape (720, 1280)\n",
      "curverad 1413.38657373\n",
      "curverad 1334.44044264\n"
     ]
    },
    {
     "name": "stderr",
     "output_type": "stream",
     "text": [
      "\r",
      " 66%|██████▋   | 322/485 [05:13<02:42,  1.00it/s]"
     ]
    },
    {
     "name": "stdout",
     "output_type": "stream",
     "text": [
      "s_channel shape (720, 1280)\n",
      "curverad 1465.55296615\n",
      "curverad 1292.35509346\n"
     ]
    },
    {
     "name": "stderr",
     "output_type": "stream",
     "text": [
      "\r",
      " 67%|██████▋   | 323/485 [05:14<02:40,  1.01it/s]"
     ]
    },
    {
     "name": "stdout",
     "output_type": "stream",
     "text": [
      "s_channel shape (720, 1280)\n",
      "curverad 1964.29410371\n",
      "curverad 1108.93295097\n"
     ]
    },
    {
     "name": "stderr",
     "output_type": "stream",
     "text": [
      "\r",
      " 67%|██████▋   | 324/485 [05:15<02:38,  1.01it/s]"
     ]
    },
    {
     "name": "stdout",
     "output_type": "stream",
     "text": [
      "s_channel shape (720, 1280)\n",
      "curverad 7105.57689787\n",
      "curverad 1017.01127039\n"
     ]
    },
    {
     "name": "stderr",
     "output_type": "stream",
     "text": [
      "\r",
      " 67%|██████▋   | 325/485 [05:16<02:39,  1.01it/s]"
     ]
    },
    {
     "name": "stdout",
     "output_type": "stream",
     "text": [
      "s_channel shape (720, 1280)\n",
      "curverad 24779.5458434\n",
      "curverad 911.969110012\n"
     ]
    },
    {
     "name": "stderr",
     "output_type": "stream",
     "text": [
      "\r",
      " 67%|██████▋   | 326/485 [05:17<02:37,  1.01it/s]"
     ]
    },
    {
     "name": "stdout",
     "output_type": "stream",
     "text": [
      "s_channel shape (720, 1280)\n",
      "curverad 11313.2986344\n",
      "curverad 869.268506783\n"
     ]
    },
    {
     "name": "stderr",
     "output_type": "stream",
     "text": [
      "\r",
      " 67%|██████▋   | 327/485 [05:18<02:35,  1.02it/s]"
     ]
    },
    {
     "name": "stdout",
     "output_type": "stream",
     "text": [
      "s_channel shape (720, 1280)\n",
      "curverad 3233.61723341\n",
      "curverad 938.140367424\n"
     ]
    },
    {
     "name": "stderr",
     "output_type": "stream",
     "text": [
      "\r",
      " 68%|██████▊   | 328/485 [05:19<02:36,  1.01it/s]"
     ]
    },
    {
     "name": "stdout",
     "output_type": "stream",
     "text": [
      "s_channel shape (720, 1280)\n",
      "curverad 1912.11750219\n",
      "curverad 966.619212178\n"
     ]
    },
    {
     "name": "stderr",
     "output_type": "stream",
     "text": [
      "\r",
      " 68%|██████▊   | 329/485 [05:20<02:38,  1.02s/it]"
     ]
    },
    {
     "name": "stdout",
     "output_type": "stream",
     "text": [
      "s_channel shape (720, 1280)\n",
      "curverad 1040.06197859\n",
      "curverad 1004.77654311\n"
     ]
    },
    {
     "name": "stderr",
     "output_type": "stream",
     "text": [
      "\r",
      " 68%|██████▊   | 330/485 [05:21<02:36,  1.01s/it]"
     ]
    },
    {
     "name": "stdout",
     "output_type": "stream",
     "text": [
      "s_channel shape (720, 1280)\n"
     ]
    },
    {
     "name": "stderr",
     "output_type": "stream",
     "text": [
      "\r",
      " 68%|██████▊   | 331/485 [05:22<02:45,  1.08s/it]"
     ]
    },
    {
     "name": "stdout",
     "output_type": "stream",
     "text": [
      "curverad 945.891400005\n",
      "curverad 1440.54204974\n",
      "s_channel shape (720, 1280)\n",
      "curverad 956.813450399\n",
      "curverad 3163.30860727\n"
     ]
    },
    {
     "name": "stderr",
     "output_type": "stream",
     "text": [
      "\r",
      " 68%|██████▊   | 332/485 [05:23<02:48,  1.10s/it]"
     ]
    },
    {
     "name": "stdout",
     "output_type": "stream",
     "text": [
      "s_channel shape (720, 1280)\n",
      "curverad 1046.95132707\n",
      "curverad 11057.0717716\n"
     ]
    },
    {
     "name": "stderr",
     "output_type": "stream",
     "text": [
      "\r",
      " 69%|██████▊   | 333/485 [05:24<02:44,  1.08s/it]"
     ]
    },
    {
     "name": "stdout",
     "output_type": "stream",
     "text": [
      "s_channel shape (720, 1280)\n",
      "curverad 1031.55676356\n",
      "curverad 107417.391757\n"
     ]
    },
    {
     "name": "stderr",
     "output_type": "stream",
     "text": [
      "\r",
      " 69%|██████▉   | 334/485 [05:25<02:39,  1.05s/it]"
     ]
    },
    {
     "name": "stdout",
     "output_type": "stream",
     "text": [
      "s_channel shape (720, 1280)\n",
      "curverad 1140.00174938\n",
      "curverad 32282.577147\n"
     ]
    },
    {
     "name": "stderr",
     "output_type": "stream",
     "text": [
      "\r",
      " 69%|██████▉   | 335/485 [05:26<02:42,  1.09s/it]"
     ]
    },
    {
     "name": "stdout",
     "output_type": "stream",
     "text": [
      "s_channel shape (720, 1280)\n",
      "curverad 1234.62962993\n",
      "curverad 109657.744238\n"
     ]
    },
    {
     "name": "stderr",
     "output_type": "stream",
     "text": [
      "\r",
      " 69%|██████▉   | 336/485 [05:28<02:44,  1.11s/it]"
     ]
    },
    {
     "name": "stdout",
     "output_type": "stream",
     "text": [
      "s_channel shape (720, 1280)\n",
      "curverad 1311.71472157\n",
      "curverad 4476.37643805\n"
     ]
    },
    {
     "name": "stderr",
     "output_type": "stream",
     "text": [
      "\r",
      " 69%|██████▉   | 337/485 [05:29<02:48,  1.14s/it]"
     ]
    },
    {
     "name": "stdout",
     "output_type": "stream",
     "text": [
      "s_channel shape (720, 1280)\n",
      "curverad 1504.37958473\n",
      "curverad 2010.49925367\n"
     ]
    },
    {
     "name": "stderr",
     "output_type": "stream",
     "text": [
      "\r",
      " 70%|██████▉   | 338/485 [05:30<02:54,  1.19s/it]"
     ]
    },
    {
     "name": "stdout",
     "output_type": "stream",
     "text": [
      "s_channel shape (720, 1280)\n",
      "curverad 1598.51698645\n",
      "curverad 1769.03597842\n"
     ]
    },
    {
     "name": "stderr",
     "output_type": "stream",
     "text": [
      "\r",
      " 70%|██████▉   | 339/485 [05:31<02:58,  1.22s/it]"
     ]
    },
    {
     "name": "stdout",
     "output_type": "stream",
     "text": [
      "s_channel shape (720, 1280)\n",
      "curverad 1448.93124752\n",
      "curverad 3041.32865888\n"
     ]
    },
    {
     "name": "stderr",
     "output_type": "stream",
     "text": [
      "\r",
      " 70%|███████   | 340/485 [05:33<03:01,  1.25s/it]"
     ]
    },
    {
     "name": "stdout",
     "output_type": "stream",
     "text": [
      "s_channel shape (720, 1280)\n",
      "curverad 1239.92538532\n",
      "curverad 39184.9796848\n"
     ]
    },
    {
     "name": "stderr",
     "output_type": "stream",
     "text": [
      "\r",
      " 70%|███████   | 341/485 [05:34<03:02,  1.27s/it]"
     ]
    },
    {
     "name": "stdout",
     "output_type": "stream",
     "text": [
      "s_channel shape (720, 1280)\n",
      "curverad 1047.49843646\n",
      "curverad 1088.40221109\n"
     ]
    },
    {
     "name": "stderr",
     "output_type": "stream",
     "text": [
      "\r",
      " 71%|███████   | 342/485 [05:35<03:02,  1.28s/it]"
     ]
    },
    {
     "name": "stdout",
     "output_type": "stream",
     "text": [
      "s_channel shape (720, 1280)\n",
      "curverad 866.12288356\n",
      "curverad 789.499510613\n"
     ]
    },
    {
     "name": "stderr",
     "output_type": "stream",
     "text": [
      "\r",
      " 71%|███████   | 343/485 [05:37<03:03,  1.29s/it]"
     ]
    },
    {
     "name": "stdout",
     "output_type": "stream",
     "text": [
      "s_channel shape (720, 1280)\n",
      "curverad 750.946431033\n",
      "curverad 587.361727654\n"
     ]
    },
    {
     "name": "stderr",
     "output_type": "stream",
     "text": [
      "\r",
      " 71%|███████   | 344/485 [05:38<02:59,  1.27s/it]"
     ]
    },
    {
     "name": "stdout",
     "output_type": "stream",
     "text": [
      "s_channel shape (720, 1280)\n",
      "curverad 649.35678633\n",
      "curverad 498.007811455\n"
     ]
    },
    {
     "name": "stderr",
     "output_type": "stream",
     "text": [
      "\r",
      " 71%|███████   | 345/485 [05:39<02:59,  1.28s/it]"
     ]
    },
    {
     "name": "stdout",
     "output_type": "stream",
     "text": [
      "s_channel shape (720, 1280)\n",
      "curverad 598.892023278\n",
      "curverad 441.414108547\n"
     ]
    },
    {
     "name": "stderr",
     "output_type": "stream",
     "text": [
      "\r",
      " 71%|███████▏  | 346/485 [05:40<02:54,  1.26s/it]"
     ]
    },
    {
     "name": "stdout",
     "output_type": "stream",
     "text": [
      "s_channel shape (720, 1280)\n",
      "curverad 593.355235599\n",
      "curverad 502.062338016\n"
     ]
    },
    {
     "name": "stderr",
     "output_type": "stream",
     "text": [
      "\r",
      " 72%|███████▏  | 347/485 [05:41<02:44,  1.19s/it]"
     ]
    },
    {
     "name": "stdout",
     "output_type": "stream",
     "text": [
      "s_channel shape (720, 1280)\n",
      "curverad 600.637012433\n",
      "curverad 523.283364239\n"
     ]
    },
    {
     "name": "stderr",
     "output_type": "stream",
     "text": [
      "\r",
      " 72%|███████▏  | 348/485 [05:43<02:44,  1.20s/it]"
     ]
    },
    {
     "name": "stdout",
     "output_type": "stream",
     "text": [
      "s_channel shape (720, 1280)\n",
      "curverad 632.917874381\n",
      "curverad 645.952673471\n"
     ]
    },
    {
     "name": "stderr",
     "output_type": "stream",
     "text": [
      "\r",
      " 72%|███████▏  | 349/485 [05:44<02:47,  1.23s/it]"
     ]
    },
    {
     "name": "stdout",
     "output_type": "stream",
     "text": [
      "s_channel shape (720, 1280)\n",
      "curverad 712.839027629\n",
      "curverad 1021.81301351\n"
     ]
    },
    {
     "name": "stderr",
     "output_type": "stream",
     "text": [
      "\r",
      " 72%|███████▏  | 350/485 [05:45<02:47,  1.24s/it]"
     ]
    },
    {
     "name": "stdout",
     "output_type": "stream",
     "text": [
      "s_channel shape (720, 1280)\n",
      "curverad 1006.29804291\n",
      "curverad 2946.45998965\n"
     ]
    },
    {
     "name": "stderr",
     "output_type": "stream",
     "text": [
      "\r",
      " 72%|███████▏  | 351/485 [05:47<02:47,  1.25s/it]"
     ]
    },
    {
     "name": "stdout",
     "output_type": "stream",
     "text": [
      "s_channel shape (720, 1280)\n",
      "curverad"
     ]
    },
    {
     "name": "stderr",
     "output_type": "stream",
     "text": [
      "\r",
      " 73%|███████▎  | 352/485 [05:48<02:47,  1.26s/it]"
     ]
    },
    {
     "name": "stdout",
     "output_type": "stream",
     "text": [
      " 1862.35227246\n",
      "curverad 4760.34796993\n",
      "s_channel shape (720, 1280)\n",
      "curverad 4893.80024803\n",
      "curverad 2100.76846131\n"
     ]
    },
    {
     "name": "stderr",
     "output_type": "stream",
     "text": [
      "\r",
      " 73%|███████▎  | 353/485 [05:49<02:36,  1.19s/it]"
     ]
    },
    {
     "name": "stdout",
     "output_type": "stream",
     "text": [
      "s_channel shape (720, 1280)\n",
      "curverad 19218.0965015\n",
      "curverad 3587.48914898\n"
     ]
    },
    {
     "name": "stderr",
     "output_type": "stream",
     "text": [
      "\r",
      " 73%|███████▎  | 354/485 [05:50<02:39,  1.22s/it]"
     ]
    },
    {
     "name": "stdout",
     "output_type": "stream",
     "text": [
      "s_channel shape (720, 1280)\n",
      "curverad 29188.091896\n",
      "curverad 2019.70282875\n"
     ]
    },
    {
     "name": "stderr",
     "output_type": "stream",
     "text": [
      "\r",
      " 73%|███████▎  | 355/485 [05:51<02:41,  1.24s/it]"
     ]
    },
    {
     "name": "stdout",
     "output_type": "stream",
     "text": [
      "s_channel shape (720, 1280)\n",
      "curverad 3087.32013404\n",
      "curverad 1210.36937038\n"
     ]
    },
    {
     "name": "stderr",
     "output_type": "stream",
     "text": [
      "\r",
      " 73%|███████▎  | 356/485 [05:53<02:41,  1.25s/it]"
     ]
    },
    {
     "name": "stdout",
     "output_type": "stream",
     "text": [
      "s_channel shape (720, 1280)\n",
      "curverad 1468.86919107\n",
      "curverad 974.390680593\n"
     ]
    },
    {
     "name": "stderr",
     "output_type": "stream",
     "text": [
      "\r",
      " 74%|███████▎  | 357/485 [05:54<02:42,  1.27s/it]"
     ]
    },
    {
     "name": "stdout",
     "output_type": "stream",
     "text": [
      "s_channel shape (720, 1280)\n",
      "curverad 958.15988512\n",
      "curverad 797.845403919\n"
     ]
    },
    {
     "name": "stderr",
     "output_type": "stream",
     "text": [
      "\r",
      " 74%|███████▍  | 358/485 [05:55<02:41,  1.27s/it]"
     ]
    },
    {
     "name": "stdout",
     "output_type": "stream",
     "text": [
      "s_channel shape (720, 1280)\n",
      "curverad"
     ]
    },
    {
     "name": "stderr",
     "output_type": "stream",
     "text": [
      "\r",
      " 74%|███████▍  | 359/485 [05:56<02:34,  1.23s/it]"
     ]
    },
    {
     "name": "stdout",
     "output_type": "stream",
     "text": [
      " 815.066528965\n",
      "curverad 643.84125307\n",
      "s_channel shape (720, 1280)\n",
      "curverad 743.949750852\n",
      "curverad 674.462336786\n"
     ]
    },
    {
     "name": "stderr",
     "output_type": "stream",
     "text": [
      "\r",
      " 74%|███████▍  | 360/485 [05:58<02:36,  1.25s/it]"
     ]
    },
    {
     "name": "stdout",
     "output_type": "stream",
     "text": [
      "s_channel shape (720, 1280)\n",
      "curverad 712.807615421\n",
      "curverad 940.155339973\n"
     ]
    },
    {
     "name": "stderr",
     "output_type": "stream",
     "text": [
      "\r",
      " 74%|███████▍  | 361/485 [05:59<02:36,  1.27s/it]"
     ]
    },
    {
     "name": "stdout",
     "output_type": "stream",
     "text": [
      "s_channel shape (720, 1280)\n",
      "curverad 738.635545054\n",
      "curverad 1092.56958525\n"
     ]
    },
    {
     "name": "stderr",
     "output_type": "stream",
     "text": [
      "\r",
      " 75%|███████▍  | 362/485 [06:00<02:36,  1.27s/it]"
     ]
    },
    {
     "name": "stdout",
     "output_type": "stream",
     "text": [
      "s_channel shape (720, 1280)\n",
      "curverad 797.579266395\n",
      "curverad 1489.66993148\n"
     ]
    },
    {
     "name": "stderr",
     "output_type": "stream",
     "text": [
      "\r",
      " 75%|███████▍  | 363/485 [06:01<02:30,  1.23s/it]"
     ]
    },
    {
     "name": "stdout",
     "output_type": "stream",
     "text": [
      "s_channel shape (720, 1280)\n",
      "curverad 883.601269339\n",
      "curverad 1559.57889724\n"
     ]
    },
    {
     "name": "stderr",
     "output_type": "stream",
     "text": [
      "\r",
      " 75%|███████▌  | 364/485 [06:03<02:27,  1.22s/it]"
     ]
    },
    {
     "name": "stdout",
     "output_type": "stream",
     "text": [
      "s_channel shape (720, 1280)\n",
      "curverad 1033.11522559\n",
      "curverad 2258.90314496\n"
     ]
    },
    {
     "name": "stderr",
     "output_type": "stream",
     "text": [
      "\r",
      " 75%|███████▌  | 365/485 [06:04<02:25,  1.22s/it]"
     ]
    },
    {
     "name": "stdout",
     "output_type": "stream",
     "text": [
      "s_channel shape (720, 1280)\n",
      "curverad 1333.15270855\n",
      "curverad 1594.03789394\n"
     ]
    },
    {
     "name": "stderr",
     "output_type": "stream",
     "text": [
      "\r",
      " 75%|███████▌  | 366/485 [06:05<02:27,  1.24s/it]"
     ]
    },
    {
     "name": "stdout",
     "output_type": "stream",
     "text": [
      "s_channel shape (720, 1280)\n",
      "curverad 1318.73391635\n",
      "curverad 1412.0199815\n"
     ]
    },
    {
     "name": "stderr",
     "output_type": "stream",
     "text": [
      "\r",
      " 76%|███████▌  | 367/485 [06:06<02:29,  1.27s/it]"
     ]
    },
    {
     "name": "stdout",
     "output_type": "stream",
     "text": [
      "s_channel shape (720, 1280)\n",
      "curverad 1183.39906071\n",
      "curverad 1480.09086952\n"
     ]
    },
    {
     "name": "stderr",
     "output_type": "stream",
     "text": [
      "\r",
      " 76%|███████▌  | 368/485 [06:08<02:22,  1.22s/it]"
     ]
    },
    {
     "name": "stdout",
     "output_type": "stream",
     "text": [
      "s_channel shape (720, 1280)\n",
      "curverad 965.784038086\n",
      "curverad 1764.30107693\n"
     ]
    },
    {
     "name": "stderr",
     "output_type": "stream",
     "text": [
      "\r",
      " 76%|███████▌  | 369/485 [06:09<02:22,  1.23s/it]"
     ]
    },
    {
     "name": "stdout",
     "output_type": "stream",
     "text": [
      "s_channel shape (720, 1280)\n",
      "curverad 788.242139982\n",
      "curverad 4873.55330769\n"
     ]
    },
    {
     "name": "stderr",
     "output_type": "stream",
     "text": [
      "\r",
      " 76%|███████▋  | 370/485 [06:10<02:24,  1.25s/it]"
     ]
    },
    {
     "name": "stdout",
     "output_type": "stream",
     "text": [
      "s_channel shape (720, 1280)\n",
      "curverad"
     ]
    },
    {
     "name": "stderr",
     "output_type": "stream",
     "text": [
      "\r",
      " 76%|███████▋  | 371/485 [06:11<02:21,  1.24s/it]"
     ]
    },
    {
     "name": "stdout",
     "output_type": "stream",
     "text": [
      " 621.362876571\n",
      "curverad 1607.10460772\n",
      "s_channel shape (720, 1280)\n",
      "curverad 541.795642122\n",
      "curverad 751.002780823\n"
     ]
    },
    {
     "name": "stderr",
     "output_type": "stream",
     "text": [
      "\r",
      " 77%|███████▋  | 372/485 [06:12<02:12,  1.18s/it]"
     ]
    },
    {
     "name": "stdout",
     "output_type": "stream",
     "text": [
      "s_channel shape (720, 1280)\n",
      "curverad 511.889785187\n",
      "curverad 580.730909894\n"
     ]
    },
    {
     "name": "stderr",
     "output_type": "stream",
     "text": [
      "\r",
      " 77%|███████▋  | 373/485 [06:13<02:07,  1.14s/it]"
     ]
    },
    {
     "name": "stdout",
     "output_type": "stream",
     "text": [
      "s_channel shape (720, 1280)\n",
      "curverad 526.456156256\n",
      "curverad 636.029803008\n"
     ]
    },
    {
     "name": "stderr",
     "output_type": "stream",
     "text": [
      "\r",
      " 77%|███████▋  | 374/485 [06:14<02:01,  1.09s/it]"
     ]
    },
    {
     "name": "stdout",
     "output_type": "stream",
     "text": [
      "s_channel shape (720, 1280)\n",
      "curverad 554.616736056\n",
      "curverad 914.664002343\n"
     ]
    },
    {
     "name": "stderr",
     "output_type": "stream",
     "text": [
      "\r",
      " 77%|███████▋  | 375/485 [06:15<01:55,  1.05s/it]"
     ]
    },
    {
     "name": "stdout",
     "output_type": "stream",
     "text": [
      "s_channel shape (720, 1280)\n",
      "curverad 559.756366523\n",
      "curverad 5317.12987686\n"
     ]
    },
    {
     "name": "stderr",
     "output_type": "stream",
     "text": [
      "\r",
      " 78%|███████▊  | 376/485 [06:16<01:53,  1.04s/it]"
     ]
    },
    {
     "name": "stdout",
     "output_type": "stream",
     "text": [
      "s_channel shape (720, 1280)\n",
      "curverad 556.600370763\n",
      "curverad 1733.80077811\n"
     ]
    },
    {
     "name": "stderr",
     "output_type": "stream",
     "text": [
      "\r",
      " 78%|███████▊  | 377/485 [06:17<01:49,  1.01s/it]"
     ]
    },
    {
     "name": "stdout",
     "output_type": "stream",
     "text": [
      "s_channel shape (720, 1280)\n",
      "curverad 594.799518962\n",
      "curverad 917.729295736\n"
     ]
    },
    {
     "name": "stderr",
     "output_type": "stream",
     "text": [
      "\r",
      " 78%|███████▊  | 378/485 [06:18<01:48,  1.02s/it]"
     ]
    },
    {
     "name": "stdout",
     "output_type": "stream",
     "text": [
      "s_channel shape (720, 1280)\n",
      "curverad"
     ]
    },
    {
     "name": "stderr",
     "output_type": "stream",
     "text": [
      "\r",
      " 78%|███████▊  | 379/485 [06:19<01:48,  1.03s/it]"
     ]
    },
    {
     "name": "stdout",
     "output_type": "stream",
     "text": [
      " 636.144818274\n",
      "curverad 875.145130624\n",
      "s_channel shape (720, 1280)\n",
      "curverad 872.501257865\n",
      "curverad 840.932678399\n"
     ]
    },
    {
     "name": "stderr",
     "output_type": "stream",
     "text": [
      "\r",
      " 78%|███████▊  | 380/485 [06:20<01:45,  1.00s/it]"
     ]
    },
    {
     "name": "stdout",
     "output_type": "stream",
     "text": [
      "s_channel shape (720, 1280)\n",
      "curverad 1117.76629471\n",
      "curverad 811.17086089\n"
     ]
    },
    {
     "name": "stderr",
     "output_type": "stream",
     "text": [
      "\r",
      " 79%|███████▊  | 381/485 [06:21<01:41,  1.02it/s]"
     ]
    },
    {
     "name": "stdout",
     "output_type": "stream",
     "text": [
      "s_channel shape (720, 1280)\n",
      "curverad 1293.44403495\n",
      "curverad 701.099072303\n"
     ]
    },
    {
     "name": "stderr",
     "output_type": "stream",
     "text": [
      "\r",
      " 79%|███████▉  | 382/485 [06:22<01:38,  1.04it/s]"
     ]
    },
    {
     "name": "stdout",
     "output_type": "stream",
     "text": [
      "s_channel shape (720, 1280)\n",
      "curverad 1125.80992622\n",
      "curverad 680.619338092\n"
     ]
    },
    {
     "name": "stderr",
     "output_type": "stream",
     "text": [
      "\r",
      " 79%|███████▉  | 383/485 [06:23<01:36,  1.06it/s]"
     ]
    },
    {
     "name": "stdout",
     "output_type": "stream",
     "text": [
      "s_channel shape (720, 1280)\n",
      "curverad 808.041487508\n",
      "curverad 650.522396292\n"
     ]
    },
    {
     "name": "stderr",
     "output_type": "stream",
     "text": [
      "\r",
      " 79%|███████▉  | 384/485 [06:24<01:34,  1.07it/s]"
     ]
    },
    {
     "name": "stdout",
     "output_type": "stream",
     "text": [
      "s_channel shape (720, 1280)\n",
      "curverad 576.271931591\n",
      "curverad 675.411966174\n"
     ]
    },
    {
     "name": "stderr",
     "output_type": "stream",
     "text": [
      "\r",
      " 79%|███████▉  | 385/485 [06:25<01:32,  1.08it/s]"
     ]
    },
    {
     "name": "stdout",
     "output_type": "stream",
     "text": [
      "s_channel shape (720, 1280)\n",
      "curverad 490.473809328\n",
      "curverad 712.15987007\n"
     ]
    },
    {
     "name": "stderr",
     "output_type": "stream",
     "text": [
      "\r",
      " 80%|███████▉  | 386/485 [06:26<01:34,  1.04it/s]"
     ]
    },
    {
     "name": "stdout",
     "output_type": "stream",
     "text": [
      "s_channel shape (720, 1280)\n",
      "curverad 454.193813044\n",
      "curverad 763.394272618\n"
     ]
    },
    {
     "name": "stderr",
     "output_type": "stream",
     "text": [
      "\r",
      " 80%|███████▉  | 387/485 [06:27<01:34,  1.04it/s]"
     ]
    },
    {
     "name": "stdout",
     "output_type": "stream",
     "text": [
      "s_channel shape (720, 1280)\n",
      "curverad 467.60808627\n",
      "curverad 762.78515749\n"
     ]
    },
    {
     "name": "stderr",
     "output_type": "stream",
     "text": [
      "\r",
      " 80%|████████  | 388/485 [06:28<01:36,  1.01it/s]"
     ]
    },
    {
     "name": "stdout",
     "output_type": "stream",
     "text": [
      "s_channel shape (720, 1280)\n",
      "curverad 515.532035083\n",
      "curverad 802.638733231\n"
     ]
    },
    {
     "name": "stderr",
     "output_type": "stream",
     "text": [
      "\r",
      " 80%|████████  | 389/485 [06:29<01:37,  1.02s/it]"
     ]
    },
    {
     "name": "stdout",
     "output_type": "stream",
     "text": [
      "s_channel shape (720, 1280)\n",
      "curverad 595.57692825\n",
      "curverad 769.836534385\n"
     ]
    },
    {
     "name": "stderr",
     "output_type": "stream",
     "text": [
      "\r",
      " 80%|████████  | 390/485 [06:30<01:35,  1.00s/it]"
     ]
    },
    {
     "name": "stdout",
     "output_type": "stream",
     "text": [
      "s_channel shape (720, 1280)\n",
      "curverad 778.876754285\n",
      "curverad 805.832683518\n"
     ]
    },
    {
     "name": "stderr",
     "output_type": "stream",
     "text": [
      "\r",
      " 81%|████████  | 391/485 [06:31<01:32,  1.01it/s]"
     ]
    },
    {
     "name": "stdout",
     "output_type": "stream",
     "text": [
      "s_channel shape (720, 1280)\n",
      "curverad 2141.07503128\n",
      "curverad 875.913949957\n"
     ]
    },
    {
     "name": "stderr",
     "output_type": "stream",
     "text": [
      "\r",
      " 81%|████████  | 392/485 [06:32<01:31,  1.02it/s]"
     ]
    },
    {
     "name": "stdout",
     "output_type": "stream",
     "text": [
      "s_channel shape (720, 1280)\n",
      "curverad"
     ]
    },
    {
     "name": "stderr",
     "output_type": "stream",
     "text": [
      "\r",
      " 81%|████████  | 393/485 [06:33<01:35,  1.04s/it]"
     ]
    },
    {
     "name": "stdout",
     "output_type": "stream",
     "text": [
      " 2637.79629075\n",
      "curverad 903.903915687\n",
      "s_channel shape (720, 1280)\n",
      "curverad"
     ]
    },
    {
     "name": "stderr",
     "output_type": "stream",
     "text": [
      "\r",
      " 81%|████████  | 394/485 [06:34<01:38,  1.08s/it]"
     ]
    },
    {
     "name": "stdout",
     "output_type": "stream",
     "text": [
      " 846.621678272\n",
      "curverad 899.194087794\n",
      "s_channel shape (720, 1280)\n",
      "curverad 594.036488792\n",
      "curverad 980.113523526\n"
     ]
    },
    {
     "name": "stderr",
     "output_type": "stream",
     "text": [
      "\r",
      " 81%|████████▏ | 395/485 [06:35<01:34,  1.05s/it]"
     ]
    },
    {
     "name": "stdout",
     "output_type": "stream",
     "text": [
      "s_channel shape (720, 1280)\n",
      "curverad 446.880396678\n",
      "curverad 1028.1733008\n"
     ]
    },
    {
     "name": "stderr",
     "output_type": "stream",
     "text": [
      "\r",
      " 82%|████████▏ | 396/485 [06:36<01:31,  1.03s/it]"
     ]
    },
    {
     "name": "stdout",
     "output_type": "stream",
     "text": [
      "s_channel shape (720, 1280)\n",
      "curverad 407.703492416\n",
      "curverad 1271.92350706\n"
     ]
    },
    {
     "name": "stderr",
     "output_type": "stream",
     "text": [
      "\r",
      " 82%|████████▏ | 397/485 [06:37<01:30,  1.02s/it]"
     ]
    },
    {
     "name": "stdout",
     "output_type": "stream",
     "text": [
      "s_channel shape (720, 1280)\n",
      "curverad 393.72934622\n",
      "curverad 1542.94423883\n"
     ]
    },
    {
     "name": "stderr",
     "output_type": "stream",
     "text": [
      "\r",
      " 82%|████████▏ | 398/485 [06:38<01:30,  1.04s/it]"
     ]
    },
    {
     "name": "stdout",
     "output_type": "stream",
     "text": [
      "s_channel shape (720, 1280)\n",
      "curverad 360.695199565\n",
      "curverad 1926.51499886\n"
     ]
    },
    {
     "name": "stderr",
     "output_type": "stream",
     "text": [
      "\r",
      " 82%|████████▏ | 399/485 [06:39<01:28,  1.03s/it]"
     ]
    },
    {
     "name": "stdout",
     "output_type": "stream",
     "text": [
      "s_channel shape (720, 1280)\n",
      "curverad 328.384086729\n",
      "curverad 2032.14775105\n"
     ]
    },
    {
     "name": "stderr",
     "output_type": "stream",
     "text": [
      "\r",
      " 82%|████████▏ | 400/485 [06:40<01:30,  1.06s/it]"
     ]
    },
    {
     "name": "stdout",
     "output_type": "stream",
     "text": [
      "s_channel shape (720, 1280)\n",
      "curverad 321.740000179\n",
      "curverad 2585.39868969\n"
     ]
    },
    {
     "name": "stderr",
     "output_type": "stream",
     "text": [
      "\r",
      " 83%|████████▎ | 401/485 [06:42<01:32,  1.11s/it]"
     ]
    },
    {
     "name": "stdout",
     "output_type": "stream",
     "text": [
      "s_channel shape (720, 1280)\n",
      "curverad 324.732282924\n",
      "curverad 2653.79057228\n"
     ]
    },
    {
     "name": "stderr",
     "output_type": "stream",
     "text": [
      "\r",
      " 83%|████████▎ | 402/485 [06:43<01:35,  1.15s/it]"
     ]
    },
    {
     "name": "stdout",
     "output_type": "stream",
     "text": [
      "s_channel shape (720, 1280)\n",
      "curverad 332.409400912\n",
      "curverad 3895.24912145\n"
     ]
    },
    {
     "name": "stderr",
     "output_type": "stream",
     "text": [
      "\r",
      " 83%|████████▎ | 403/485 [06:44<01:33,  1.14s/it]"
     ]
    },
    {
     "name": "stdout",
     "output_type": "stream",
     "text": [
      "s_channel shape (720, 1280)\n",
      "curverad 351.860600815\n",
      "curverad 4885.19927847\n"
     ]
    },
    {
     "name": "stderr",
     "output_type": "stream",
     "text": [
      "\r",
      " 83%|████████▎ | 404/485 [06:45<01:30,  1.12s/it]"
     ]
    },
    {
     "name": "stdout",
     "output_type": "stream",
     "text": [
      "s_channel shape (720, 1280)\n",
      "curverad 349.228403029\n",
      "curverad 9024.36938922\n"
     ]
    },
    {
     "name": "stderr",
     "output_type": "stream",
     "text": [
      "\r",
      " 84%|████████▎ | 405/485 [06:46<01:27,  1.10s/it]"
     ]
    },
    {
     "name": "stdout",
     "output_type": "stream",
     "text": [
      "s_channel shape (720, 1280)\n",
      "curverad 321.483281364\n",
      "curverad 226436.611714\n"
     ]
    },
    {
     "name": "stderr",
     "output_type": "stream",
     "text": [
      "\r",
      " 84%|████████▎ | 406/485 [06:47<01:25,  1.08s/it]"
     ]
    },
    {
     "name": "stdout",
     "output_type": "stream",
     "text": [
      "s_channel shape (720, 1280)\n",
      "curverad 287.617886434\n",
      "curverad 14704.4198835\n"
     ]
    },
    {
     "name": "stderr",
     "output_type": "stream",
     "text": [
      "\r",
      " 84%|████████▍ | 407/485 [06:48<01:22,  1.06s/it]"
     ]
    },
    {
     "name": "stdout",
     "output_type": "stream",
     "text": [
      "s_channel shape (720, 1280)\n",
      "curverad 252.312102432\n",
      "curverad 4180.55849778\n"
     ]
    },
    {
     "name": "stderr",
     "output_type": "stream",
     "text": [
      "\r",
      " 84%|████████▍ | 408/485 [06:49<01:21,  1.06s/it]"
     ]
    },
    {
     "name": "stdout",
     "output_type": "stream",
     "text": [
      "s_channel shape (720, 1280)\n",
      "curverad 230.016070464\n",
      "curverad 2438.76719639\n"
     ]
    },
    {
     "name": "stderr",
     "output_type": "stream",
     "text": [
      "\r",
      " 84%|████████▍ | 409/485 [06:50<01:21,  1.07s/it]"
     ]
    },
    {
     "name": "stdout",
     "output_type": "stream",
     "text": [
      "s_channel shape (720, 1280)\n",
      "curverad 225.647902934\n",
      "curverad 1783.09436254\n"
     ]
    },
    {
     "name": "stderr",
     "output_type": "stream",
     "text": [
      "\r",
      " 85%|████████▍ | 410/485 [06:51<01:19,  1.06s/it]"
     ]
    },
    {
     "name": "stdout",
     "output_type": "stream",
     "text": [
      "s_channel shape (720, 1280)\n",
      "curverad 230.503574095\n",
      "curverad 1239.74189539\n"
     ]
    },
    {
     "name": "stderr",
     "output_type": "stream",
     "text": [
      "\r",
      " 85%|████████▍ | 411/485 [06:52<01:18,  1.06s/it]"
     ]
    },
    {
     "name": "stdout",
     "output_type": "stream",
     "text": [
      "s_channel shape (720, 1280)\n",
      "curverad 242.116770006\n",
      "curverad 1433.11614314\n"
     ]
    },
    {
     "name": "stderr",
     "output_type": "stream",
     "text": [
      "\r",
      " 85%|████████▍ | 412/485 [06:53<01:15,  1.04s/it]"
     ]
    },
    {
     "name": "stdout",
     "output_type": "stream",
     "text": [
      "s_channel shape (720, 1280)\n",
      "curverad 262.7134848\n",
      "curverad 2243.64459267\n"
     ]
    },
    {
     "name": "stderr",
     "output_type": "stream",
     "text": [
      "\r",
      " 85%|████████▌ | 413/485 [06:54<01:13,  1.02s/it]"
     ]
    },
    {
     "name": "stdout",
     "output_type": "stream",
     "text": [
      "s_channel shape (720, 1280)\n",
      "curverad 272.991174465\n",
      "curverad 16402.5789386\n"
     ]
    },
    {
     "name": "stderr",
     "output_type": "stream",
     "text": [
      "\r",
      " 85%|████████▌ | 414/485 [06:55<01:12,  1.02s/it]"
     ]
    },
    {
     "name": "stdout",
     "output_type": "stream",
     "text": [
      "s_channel shape (720, 1280)\n",
      "curverad 263.091095866\n",
      "curverad 7585.85687864\n"
     ]
    },
    {
     "name": "stderr",
     "output_type": "stream",
     "text": [
      "\r",
      " 86%|████████▌ | 415/485 [06:56<01:10,  1.00s/it]"
     ]
    },
    {
     "name": "stdout",
     "output_type": "stream",
     "text": [
      "s_channel shape (720, 1280)\n",
      "curverad 252.297887262\n",
      "curverad 2634.69495133\n"
     ]
    },
    {
     "name": "stderr",
     "output_type": "stream",
     "text": [
      "\r",
      " 86%|████████▌ | 416/485 [06:57<01:07,  1.02it/s]"
     ]
    },
    {
     "name": "stdout",
     "output_type": "stream",
     "text": [
      "s_channel shape (720, 1280)\n",
      "curverad 227.527044064\n",
      "curverad 2443.04191404\n"
     ]
    },
    {
     "name": "stderr",
     "output_type": "stream",
     "text": [
      "\r",
      " 86%|████████▌ | 417/485 [06:58<01:05,  1.03it/s]"
     ]
    },
    {
     "name": "stdout",
     "output_type": "stream",
     "text": [
      "s_channel shape (720, 1280)\n",
      "curverad 201.860223074\n",
      "curverad 3061.64160447\n"
     ]
    },
    {
     "name": "stderr",
     "output_type": "stream",
     "text": [
      "\r",
      " 86%|████████▌ | 418/485 [06:59<01:05,  1.02it/s]"
     ]
    },
    {
     "name": "stdout",
     "output_type": "stream",
     "text": [
      "s_channel shape (720, 1280)\n",
      "curverad 179.785106825\n",
      "curverad 4081.40879367\n"
     ]
    },
    {
     "name": "stderr",
     "output_type": "stream",
     "text": [
      "\r",
      " 86%|████████▋ | 419/485 [07:00<01:05,  1.01it/s]"
     ]
    },
    {
     "name": "stdout",
     "output_type": "stream",
     "text": [
      "s_channel shape (720, 1280)\n",
      "curverad 159.260226347\n",
      "curverad 3656.53614587\n"
     ]
    },
    {
     "name": "stderr",
     "output_type": "stream",
     "text": [
      "\r",
      " 87%|████████▋ | 420/485 [07:01<01:03,  1.02it/s]"
     ]
    },
    {
     "name": "stdout",
     "output_type": "stream",
     "text": [
      "s_channel shape (720, 1280)\n",
      "curverad 141.101782506\n",
      "curverad 4582.29554632\n"
     ]
    },
    {
     "name": "stderr",
     "output_type": "stream",
     "text": [
      "\r",
      " 87%|████████▋ | 421/485 [07:02<01:02,  1.02it/s]"
     ]
    },
    {
     "name": "stdout",
     "output_type": "stream",
     "text": [
      "s_channel shape (720, 1280)\n",
      "curverad 131.580339699\n",
      "curverad 5356.74955\n"
     ]
    },
    {
     "name": "stderr",
     "output_type": "stream",
     "text": [
      "\r",
      " 87%|████████▋ | 422/485 [07:03<01:00,  1.04it/s]"
     ]
    },
    {
     "name": "stdout",
     "output_type": "stream",
     "text": [
      "s_channel shape (720, 1280)\n",
      "curverad 124.742112532\n",
      "curverad 15001.8767417\n"
     ]
    },
    {
     "name": "stderr",
     "output_type": "stream",
     "text": [
      "\r",
      " 87%|████████▋ | 423/485 [07:04<00:58,  1.06it/s]"
     ]
    },
    {
     "name": "stdout",
     "output_type": "stream",
     "text": [
      "s_channel shape (720, 1280)\n",
      "curverad 120.842468342\n",
      "curverad 1972.96485031\n"
     ]
    },
    {
     "name": "stderr",
     "output_type": "stream",
     "text": [
      "\r",
      " 87%|████████▋ | 424/485 [07:05<00:57,  1.06it/s]"
     ]
    },
    {
     "name": "stdout",
     "output_type": "stream",
     "text": [
      "s_channel shape (720, 1280)\n",
      "curverad 120.353206371\n",
      "curverad 892.928762074\n"
     ]
    },
    {
     "name": "stderr",
     "output_type": "stream",
     "text": [
      "\r",
      " 88%|████████▊ | 425/485 [07:06<00:56,  1.07it/s]"
     ]
    },
    {
     "name": "stdout",
     "output_type": "stream",
     "text": [
      "s_channel shape (720, 1280)\n",
      "curverad 120.191023162\n",
      "curverad 505.345510095\n"
     ]
    },
    {
     "name": "stderr",
     "output_type": "stream",
     "text": [
      "\r",
      " 88%|████████▊ | 426/485 [07:07<00:54,  1.07it/s]"
     ]
    },
    {
     "name": "stdout",
     "output_type": "stream",
     "text": [
      "s_channel shape (720, 1280)\n",
      "curverad 118.932729717\n",
      "curverad 332.997414579\n"
     ]
    },
    {
     "name": "stderr",
     "output_type": "stream",
     "text": [
      "\r",
      " 88%|████████▊ | 427/485 [07:08<00:53,  1.07it/s]"
     ]
    },
    {
     "name": "stdout",
     "output_type": "stream",
     "text": [
      "s_channel shape (720, 1280)\n",
      "curverad 117.432801566\n",
      "curverad 241.438304213\n"
     ]
    },
    {
     "name": "stderr",
     "output_type": "stream",
     "text": [
      "\r",
      " 88%|████████▊ | 428/485 [07:09<00:52,  1.08it/s]"
     ]
    },
    {
     "name": "stdout",
     "output_type": "stream",
     "text": [
      "s_channel shape (720, 1280)\n",
      "curverad 115.66699244\n",
      "curverad 183.801961515\n"
     ]
    },
    {
     "name": "stderr",
     "output_type": "stream",
     "text": [
      "\r",
      " 88%|████████▊ | 429/485 [07:10<00:52,  1.08it/s]"
     ]
    },
    {
     "name": "stdout",
     "output_type": "stream",
     "text": [
      "s_channel shape (720, 1280)\n",
      "curverad 114.86687378\n",
      "curverad 161.18461486\n"
     ]
    },
    {
     "name": "stderr",
     "output_type": "stream",
     "text": [
      "\r",
      " 89%|████████▊ | 430/485 [07:11<00:51,  1.08it/s]"
     ]
    },
    {
     "name": "stdout",
     "output_type": "stream",
     "text": [
      "s_channel shape (720, 1280)\n",
      "curverad 114.505575243\n",
      "curverad 140.53137324\n"
     ]
    },
    {
     "name": "stderr",
     "output_type": "stream",
     "text": [
      "\r",
      " 89%|████████▉ | 431/485 [07:11<00:50,  1.07it/s]"
     ]
    },
    {
     "name": "stdout",
     "output_type": "stream",
     "text": [
      "s_channel shape (720, 1280)\n",
      "curverad 114.436401477\n",
      "curverad 123.542850397\n"
     ]
    },
    {
     "name": "stderr",
     "output_type": "stream",
     "text": [
      "\r",
      " 89%|████████▉ | 432/485 [07:12<00:49,  1.07it/s]"
     ]
    },
    {
     "name": "stdout",
     "output_type": "stream",
     "text": [
      "s_channel shape (720, 1280)\n",
      "curverad 115.6278796\n",
      "curverad 119.98184194\n"
     ]
    },
    {
     "name": "stderr",
     "output_type": "stream",
     "text": [
      "\r",
      " 89%|████████▉ | 433/485 [07:13<00:48,  1.07it/s]"
     ]
    },
    {
     "name": "stdout",
     "output_type": "stream",
     "text": [
      "s_channel shape (720, 1280)\n",
      "curverad 118.140500719\n",
      "curverad 119.707090848\n"
     ]
    },
    {
     "name": "stderr",
     "output_type": "stream",
     "text": [
      "\r",
      " 89%|████████▉ | 434/485 [07:14<00:47,  1.07it/s]"
     ]
    },
    {
     "name": "stdout",
     "output_type": "stream",
     "text": [
      "s_channel shape (720, 1280)\n",
      "curverad 119.514194596\n",
      "curverad 120.437595275\n"
     ]
    },
    {
     "name": "stderr",
     "output_type": "stream",
     "text": [
      "\r",
      " 90%|████████▉ | 435/485 [07:15<00:46,  1.08it/s]"
     ]
    },
    {
     "name": "stdout",
     "output_type": "stream",
     "text": [
      "s_channel shape (720, 1280)\n",
      "curverad 119.54689678\n",
      "curverad 123.071119104\n"
     ]
    },
    {
     "name": "stderr",
     "output_type": "stream",
     "text": [
      "\r",
      " 90%|████████▉ | 436/485 [07:16<00:44,  1.09it/s]"
     ]
    },
    {
     "name": "stdout",
     "output_type": "stream",
     "text": [
      "s_channel shape (720, 1280)\n",
      "curverad 116.854046975\n",
      "curverad 129.519167968\n"
     ]
    },
    {
     "name": "stderr",
     "output_type": "stream",
     "text": [
      "\r",
      " 90%|█████████ | 437/485 [07:17<00:43,  1.10it/s]"
     ]
    },
    {
     "name": "stdout",
     "output_type": "stream",
     "text": [
      "s_channel shape (720, 1280)\n",
      "curverad 111.233289288\n",
      "curverad 126.577800012\n"
     ]
    },
    {
     "name": "stderr",
     "output_type": "stream",
     "text": [
      "\r",
      " 90%|█████████ | 438/485 [07:18<00:42,  1.10it/s]"
     ]
    },
    {
     "name": "stdout",
     "output_type": "stream",
     "text": [
      "s_channel shape (720, 1280)\n",
      "curverad 104.073836881\n",
      "curverad 123.84748372\n"
     ]
    },
    {
     "name": "stderr",
     "output_type": "stream",
     "text": [
      "\r",
      " 91%|█████████ | 439/485 [07:19<00:41,  1.10it/s]"
     ]
    },
    {
     "name": "stdout",
     "output_type": "stream",
     "text": [
      "s_channel shape (720, 1280)\n",
      "curverad 97.1223992418\n",
      "curverad 114.046875586\n"
     ]
    },
    {
     "name": "stderr",
     "output_type": "stream",
     "text": [
      "\r",
      " 91%|█████████ | 440/485 [07:20<00:40,  1.11it/s]"
     ]
    },
    {
     "name": "stdout",
     "output_type": "stream",
     "text": [
      "s_channel shape (720, 1280)\n",
      "curverad 91.9579768618\n",
      "curverad 110.056961513\n"
     ]
    },
    {
     "name": "stderr",
     "output_type": "stream",
     "text": [
      "\r",
      " 91%|█████████ | 441/485 [07:21<00:39,  1.11it/s]"
     ]
    },
    {
     "name": "stdout",
     "output_type": "stream",
     "text": [
      "s_channel shape (720, 1280)\n",
      "curverad 88.4633159586\n",
      "curverad 102.326903176\n"
     ]
    },
    {
     "name": "stderr",
     "output_type": "stream",
     "text": [
      "\r",
      " 91%|█████████ | 442/485 [07:21<00:39,  1.10it/s]"
     ]
    },
    {
     "name": "stdout",
     "output_type": "stream",
     "text": [
      "s_channel shape (720, 1280)\n",
      "curverad 86.450578526\n",
      "curverad 97.9980733671\n"
     ]
    },
    {
     "name": "stderr",
     "output_type": "stream",
     "text": [
      "\r",
      " 91%|█████████▏| 443/485 [07:22<00:38,  1.10it/s]"
     ]
    },
    {
     "name": "stdout",
     "output_type": "stream",
     "text": [
      "s_channel shape (720, 1280)\n",
      "curverad 83.5460453659\n",
      "curverad 96.3766215305\n"
     ]
    },
    {
     "name": "stderr",
     "output_type": "stream",
     "text": [
      "\r",
      " 92%|█████████▏| 444/485 [07:23<00:37,  1.10it/s]"
     ]
    },
    {
     "name": "stdout",
     "output_type": "stream",
     "text": [
      "s_channel shape (720, 1280)\n",
      "curverad 81.4271059599\n",
      "curverad 99.1127335873\n"
     ]
    },
    {
     "name": "stderr",
     "output_type": "stream",
     "text": [
      "\r",
      " 92%|█████████▏| 445/485 [07:24<00:36,  1.10it/s]"
     ]
    },
    {
     "name": "stdout",
     "output_type": "stream",
     "text": [
      "s_channel shape (720, 1280)\n",
      "curverad 79.1619587314\n",
      "curverad 103.503293973\n"
     ]
    },
    {
     "name": "stderr",
     "output_type": "stream",
     "text": [
      "\r",
      " 92%|█████████▏| 446/485 [07:25<00:35,  1.10it/s]"
     ]
    },
    {
     "name": "stdout",
     "output_type": "stream",
     "text": [
      "s_channel shape (720, 1280)\n",
      "curverad 77.5542258045\n",
      "curverad 118.211499529\n"
     ]
    },
    {
     "name": "stderr",
     "output_type": "stream",
     "text": [
      "\r",
      " 92%|█████████▏| 447/485 [07:26<00:34,  1.11it/s]"
     ]
    },
    {
     "name": "stdout",
     "output_type": "stream",
     "text": [
      "s_channel shape (720, 1280)\n",
      "curverad 76.126635158\n",
      "curverad 135.305018128\n"
     ]
    },
    {
     "name": "stderr",
     "output_type": "stream",
     "text": [
      "\r",
      " 92%|█████████▏| 448/485 [07:27<00:33,  1.11it/s]"
     ]
    },
    {
     "name": "stdout",
     "output_type": "stream",
     "text": [
      "s_channel shape (720, 1280)\n",
      "curverad 76.5370100548\n",
      "curverad 152.932253922\n"
     ]
    },
    {
     "name": "stderr",
     "output_type": "stream",
     "text": [
      "\r",
      " 93%|█████████▎| 449/485 [07:28<00:32,  1.11it/s]"
     ]
    },
    {
     "name": "stdout",
     "output_type": "stream",
     "text": [
      "s_channel shape (720, 1280)\n",
      "curverad 77.3243289178\n",
      "curverad 162.205218812\n"
     ]
    },
    {
     "name": "stderr",
     "output_type": "stream",
     "text": [
      "\r",
      " 93%|█████████▎| 450/485 [07:29<00:31,  1.11it/s]"
     ]
    },
    {
     "name": "stdout",
     "output_type": "stream",
     "text": [
      "s_channel shape (720, 1280)\n",
      "curverad 77.9118610641\n",
      "curverad 168.315669675\n"
     ]
    },
    {
     "name": "stderr",
     "output_type": "stream",
     "text": [
      "\r",
      " 93%|█████████▎| 451/485 [07:30<00:30,  1.10it/s]"
     ]
    },
    {
     "name": "stdout",
     "output_type": "stream",
     "text": [
      "s_channel shape (720, 1280)\n",
      "curverad 78.3772200503\n",
      "curverad 163.405591044\n"
     ]
    },
    {
     "name": "stderr",
     "output_type": "stream",
     "text": [
      "\r",
      " 93%|█████████▎| 452/485 [07:31<00:29,  1.10it/s]"
     ]
    },
    {
     "name": "stdout",
     "output_type": "stream",
     "text": [
      "s_channel shape (720, 1280)\n",
      "curverad 78.8216415965\n",
      "curverad 157.024054939\n"
     ]
    },
    {
     "name": "stderr",
     "output_type": "stream",
     "text": [
      "\r",
      " 93%|█████████▎| 453/485 [07:31<00:29,  1.10it/s]"
     ]
    },
    {
     "name": "stdout",
     "output_type": "stream",
     "text": [
      "s_channel shape (720, 1280)\n",
      "curverad 78.6236297573\n",
      "curverad 147.291727206\n"
     ]
    },
    {
     "name": "stderr",
     "output_type": "stream",
     "text": [
      "\r",
      " 94%|█████████▎| 454/485 [07:32<00:28,  1.10it/s]"
     ]
    },
    {
     "name": "stdout",
     "output_type": "stream",
     "text": [
      "s_channel shape (720, 1280)\n",
      "curverad 77.8595825498\n",
      "curverad 137.397368488\n"
     ]
    },
    {
     "name": "stderr",
     "output_type": "stream",
     "text": [
      "\r",
      " 94%|█████████▍| 455/485 [07:33<00:27,  1.10it/s]"
     ]
    },
    {
     "name": "stdout",
     "output_type": "stream",
     "text": [
      "s_channel shape (720, 1280)\n",
      "curverad 77.5891341532\n",
      "curverad 127.947956644\n"
     ]
    },
    {
     "name": "stderr",
     "output_type": "stream",
     "text": [
      "\r",
      " 94%|█████████▍| 456/485 [07:34<00:26,  1.09it/s]"
     ]
    },
    {
     "name": "stdout",
     "output_type": "stream",
     "text": [
      "s_channel shape (720, 1280)\n",
      "curverad 76.8101242536\n",
      "curverad 115.699157533\n"
     ]
    },
    {
     "name": "stderr",
     "output_type": "stream",
     "text": [
      "\r",
      " 94%|█████████▍| 457/485 [07:35<00:25,  1.10it/s]"
     ]
    },
    {
     "name": "stdout",
     "output_type": "stream",
     "text": [
      "s_channel shape (720, 1280)\n",
      "curverad 75.308839203\n",
      "curverad 110.775314123\n"
     ]
    },
    {
     "name": "stderr",
     "output_type": "stream",
     "text": [
      "\r",
      " 94%|█████████▍| 458/485 [07:36<00:24,  1.10it/s]"
     ]
    },
    {
     "name": "stdout",
     "output_type": "stream",
     "text": [
      "s_channel shape (720, 1280)\n",
      "curverad 74.2856024727\n",
      "curverad 109.477787511\n"
     ]
    },
    {
     "name": "stderr",
     "output_type": "stream",
     "text": [
      "\r",
      " 95%|█████████▍| 459/485 [07:37<00:23,  1.11it/s]"
     ]
    },
    {
     "name": "stdout",
     "output_type": "stream",
     "text": [
      "s_channel shape (720, 1280)\n",
      "curverad 73.1995586073\n",
      "curverad 114.688935935\n"
     ]
    },
    {
     "name": "stderr",
     "output_type": "stream",
     "text": [
      "\r",
      " 95%|█████████▍| 460/485 [07:38<00:22,  1.10it/s]"
     ]
    },
    {
     "name": "stdout",
     "output_type": "stream",
     "text": [
      "s_channel shape (720, 1280)\n",
      "curverad 71.8712312527\n",
      "curverad 122.972537202\n"
     ]
    },
    {
     "name": "stderr",
     "output_type": "stream",
     "text": [
      "\r",
      " 95%|█████████▌| 461/485 [07:39<00:21,  1.11it/s]"
     ]
    },
    {
     "name": "stdout",
     "output_type": "stream",
     "text": [
      "s_channel shape (720, 1280)\n",
      "curverad 70.3301446692\n",
      "curverad 147.57118066\n"
     ]
    },
    {
     "name": "stderr",
     "output_type": "stream",
     "text": [
      "\r",
      " 95%|█████████▌| 462/485 [07:40<00:20,  1.11it/s]"
     ]
    },
    {
     "name": "stdout",
     "output_type": "stream",
     "text": [
      "s_channel shape (720, 1280)\n",
      "curverad 68.9191695437\n",
      "curverad 178.413564668\n"
     ]
    },
    {
     "name": "stderr",
     "output_type": "stream",
     "text": [
      "\r",
      " 95%|█████████▌| 463/485 [07:41<00:19,  1.11it/s]"
     ]
    },
    {
     "name": "stdout",
     "output_type": "stream",
     "text": [
      "s_channel shape (720, 1280)\n",
      "curverad 67.1479505393\n",
      "curverad 219.781063298\n"
     ]
    },
    {
     "name": "stderr",
     "output_type": "stream",
     "text": [
      "\r",
      " 96%|█████████▌| 464/485 [07:41<00:18,  1.11it/s]"
     ]
    },
    {
     "name": "stdout",
     "output_type": "stream",
     "text": [
      "s_channel shape (720, 1280)\n",
      "curverad 66.1025674795\n",
      "curverad 249.36795281\n"
     ]
    },
    {
     "name": "stderr",
     "output_type": "stream",
     "text": [
      "\r",
      " 96%|█████████▌| 465/485 [07:42<00:18,  1.10it/s]"
     ]
    },
    {
     "name": "stdout",
     "output_type": "stream",
     "text": [
      "s_channel shape (720, 1280)\n",
      "curverad 65.2930738312\n",
      "curverad 268.429006669\n"
     ]
    },
    {
     "name": "stderr",
     "output_type": "stream",
     "text": [
      "\r",
      " 96%|█████████▌| 466/485 [07:43<00:17,  1.09it/s]"
     ]
    },
    {
     "name": "stdout",
     "output_type": "stream",
     "text": [
      "s_channel shape (720, 1280)\n",
      "curverad 65.624114258\n",
      "curverad 270.37621033\n"
     ]
    },
    {
     "name": "stderr",
     "output_type": "stream",
     "text": [
      "\r",
      " 96%|█████████▋| 467/485 [07:44<00:16,  1.09it/s]"
     ]
    },
    {
     "name": "stdout",
     "output_type": "stream",
     "text": [
      "s_channel shape (720, 1280)\n",
      "curverad 66.0853310974\n",
      "curverad 236.018010668\n"
     ]
    },
    {
     "name": "stderr",
     "output_type": "stream",
     "text": [
      "\r",
      " 96%|█████████▋| 468/485 [07:45<00:15,  1.10it/s]"
     ]
    },
    {
     "name": "stdout",
     "output_type": "stream",
     "text": [
      "s_channel shape (720, 1280)\n",
      "curverad 67.0095578539\n",
      "curverad 204.211727497\n"
     ]
    },
    {
     "name": "stderr",
     "output_type": "stream",
     "text": [
      "\r",
      " 97%|█████████▋| 469/485 [07:46<00:14,  1.10it/s]"
     ]
    },
    {
     "name": "stdout",
     "output_type": "stream",
     "text": [
      "s_channel shape (720, 1280)\n",
      "curverad 67.7716144292\n",
      "curverad 181.530636853\n"
     ]
    },
    {
     "name": "stderr",
     "output_type": "stream",
     "text": [
      "\r",
      " 97%|█████████▋| 470/485 [07:47<00:13,  1.10it/s]"
     ]
    },
    {
     "name": "stdout",
     "output_type": "stream",
     "text": [
      "s_channel shape (720, 1280)\n",
      "curverad 68.8274709253\n",
      "curverad 167.599543012\n"
     ]
    },
    {
     "name": "stderr",
     "output_type": "stream",
     "text": [
      "\r",
      " 97%|█████████▋| 471/485 [07:48<00:12,  1.11it/s]"
     ]
    },
    {
     "name": "stdout",
     "output_type": "stream",
     "text": [
      "s_channel shape (720, 1280)\n",
      "curverad 69.4103888951\n",
      "curverad 151.257596075\n"
     ]
    },
    {
     "name": "stderr",
     "output_type": "stream",
     "text": [
      "\r",
      " 97%|█████████▋| 472/485 [07:49<00:11,  1.11it/s]"
     ]
    },
    {
     "name": "stdout",
     "output_type": "stream",
     "text": [
      "s_channel shape (720, 1280)\n",
      "curverad 70.9771959698\n",
      "curverad 148.100755115\n"
     ]
    },
    {
     "name": "stderr",
     "output_type": "stream",
     "text": [
      "\r",
      " 98%|█████████▊| 473/485 [07:50<00:10,  1.11it/s]"
     ]
    },
    {
     "name": "stdout",
     "output_type": "stream",
     "text": [
      "s_channel shape (720, 1280)\n"
     ]
    },
    {
     "name": "stderr",
     "output_type": "stream",
     "text": [
      "\r",
      " 98%|█████████▊| 474/485 [07:50<00:09,  1.11it/s]"
     ]
    },
    {
     "name": "stdout",
     "output_type": "stream",
     "text": [
      "s_channel shape (720, 1280)\n",
      "curverad 72.4529565859\n",
      "curverad 158.027431134\n"
     ]
    },
    {
     "name": "stderr",
     "output_type": "stream",
     "text": [
      "\r",
      " 98%|█████████▊| 475/485 [07:51<00:08,  1.11it/s]"
     ]
    },
    {
     "name": "stdout",
     "output_type": "stream",
     "text": [
      "s_channel shape (720, 1280)\n",
      "curverad 73.2117779998\n",
      "curverad 177.481035353\n"
     ]
    },
    {
     "name": "stderr",
     "output_type": "stream",
     "text": [
      "\r",
      " 98%|█████████▊| 476/485 [07:52<00:08,  1.11it/s]"
     ]
    },
    {
     "name": "stdout",
     "output_type": "stream",
     "text": [
      "s_channel shape (720, 1280)\n",
      "curverad 73.3973987798\n",
      "curverad 195.582384181\n"
     ]
    },
    {
     "name": "stderr",
     "output_type": "stream",
     "text": [
      "\r",
      " 98%|█████████▊| 477/485 [07:53<00:07,  1.11it/s]"
     ]
    },
    {
     "name": "stdout",
     "output_type": "stream",
     "text": [
      "s_channel shape (720, 1280)\n",
      "curverad 73.1868867672\n",
      "curverad 213.984188988\n"
     ]
    },
    {
     "name": "stderr",
     "output_type": "stream",
     "text": [
      "\r",
      " 99%|█████████▊| 478/485 [07:54<00:06,  1.11it/s]"
     ]
    },
    {
     "name": "stdout",
     "output_type": "stream",
     "text": [
      "s_channel shape (720, 1280)\n",
      "curverad 72.5537038905\n",
      "curverad 232.579276607\n"
     ]
    },
    {
     "name": "stderr",
     "output_type": "stream",
     "text": [
      "\r",
      " 99%|█████████▉| 479/485 [07:55<00:05,  1.11it/s]"
     ]
    },
    {
     "name": "stdout",
     "output_type": "stream",
     "text": [
      "s_channel shape (720, 1280)\n",
      "curverad 70.9960002838\n",
      "curverad 222.981614245\n"
     ]
    },
    {
     "name": "stderr",
     "output_type": "stream",
     "text": [
      "\r",
      " 99%|█████████▉| 480/485 [07:56<00:04,  1.10it/s]"
     ]
    },
    {
     "name": "stdout",
     "output_type": "stream",
     "text": [
      "s_channel shape (720, 1280)\n",
      "curverad 70.2415979207\n",
      "curverad 205.664158606\n"
     ]
    },
    {
     "name": "stderr",
     "output_type": "stream",
     "text": [
      "\r",
      " 99%|█████████▉| 481/485 [07:57<00:03,  1.11it/s]"
     ]
    },
    {
     "name": "stdout",
     "output_type": "stream",
     "text": [
      "s_channel shape (720, 1280)\n",
      "curverad 69.6817203401\n",
      "curverad 187.95697802\n"
     ]
    },
    {
     "name": "stderr",
     "output_type": "stream",
     "text": [
      "\r",
      " 99%|█████████▉| 482/485 [07:58<00:02,  1.11it/s]"
     ]
    },
    {
     "name": "stdout",
     "output_type": "stream",
     "text": [
      "s_channel shape (720, 1280)\n",
      "curverad 68.7012527068\n",
      "curverad 171.641402547\n"
     ]
    },
    {
     "name": "stderr",
     "output_type": "stream",
     "text": [
      "\r",
      "100%|█████████▉| 483/485 [07:59<00:01,  1.11it/s]"
     ]
    },
    {
     "name": "stdout",
     "output_type": "stream",
     "text": [
      "s_channel shape (720, 1280)\n",
      "curverad 66.7888277405\n",
      "curverad 155.763180554\n"
     ]
    },
    {
     "name": "stderr",
     "output_type": "stream",
     "text": [
      "\r",
      "100%|█████████▉| 484/485 [08:00<00:00,  1.10it/s]"
     ]
    },
    {
     "name": "stdout",
     "output_type": "stream",
     "text": [
      "s_channel shape (720, 1280)\n",
      "curverad 65.1081310021\n",
      "curverad 144.973262253\n"
     ]
    },
    {
     "name": "stderr",
     "output_type": "stream",
     "text": [
      "100%|██████████| 485/485 [08:00<00:00,  1.11it/s]\n"
     ]
    },
    {
     "name": "stdout",
     "output_type": "stream",
     "text": [
      "[MoviePy] Done.\n",
      "[MoviePy] >>>> Video ready: challenge_video_output.mp4 \n",
      "\n",
      "CPU times: user 7min 54s, sys: 1min 9s, total: 9min 4s\n",
      "Wall time: 8min 1s\n"
     ]
    }
   ],
   "source": [
    "#Video\n",
    "output_file = 'challenge_video_output.mp4'\n",
    "input_file = VideoFileClip('challenge_video.mp4')\n",
    "processedClip = input_file.fl_image(processImage)\n",
    "#processedClip.write_videofile(processedClip, audio = False)\n",
    "%time processedClip.write_videofile(output_file, audio=False)"
   ]
  },
  {
   "cell_type": "code",
   "execution_count": null,
   "metadata": {
    "collapsed": true
   },
   "outputs": [],
   "source": []
  },
  {
   "cell_type": "code",
   "execution_count": null,
   "metadata": {
    "collapsed": true
   },
   "outputs": [],
   "source": []
  },
  {
   "cell_type": "code",
   "execution_count": null,
   "metadata": {
    "collapsed": true
   },
   "outputs": [],
   "source": []
  },
  {
   "cell_type": "code",
   "execution_count": null,
   "metadata": {
    "collapsed": true
   },
   "outputs": [],
   "source": []
  },
  {
   "cell_type": "code",
   "execution_count": null,
   "metadata": {
    "collapsed": true
   },
   "outputs": [],
   "source": []
  },
  {
   "cell_type": "code",
   "execution_count": null,
   "metadata": {
    "collapsed": true
   },
   "outputs": [],
   "source": []
  },
  {
   "cell_type": "code",
   "execution_count": null,
   "metadata": {
    "collapsed": true
   },
   "outputs": [],
   "source": []
  },
  {
   "cell_type": "code",
   "execution_count": null,
   "metadata": {
    "collapsed": true
   },
   "outputs": [],
   "source": []
  },
  {
   "cell_type": "code",
   "execution_count": null,
   "metadata": {
    "collapsed": true
   },
   "outputs": [],
   "source": []
  },
  {
   "cell_type": "code",
   "execution_count": null,
   "metadata": {
    "collapsed": true
   },
   "outputs": [],
   "source": []
  }
 ],
 "metadata": {
  "kernelspec": {
   "display_name": "Python 3",
   "language": "python",
   "name": "python3"
  },
  "language_info": {
   "codemirror_mode": {
    "name": "ipython",
    "version": 3
   },
   "file_extension": ".py",
   "mimetype": "text/x-python",
   "name": "python",
   "nbconvert_exporter": "python",
   "pygments_lexer": "ipython3",
   "version": "3.5.2"
  },
  "widgets": {
   "state": {},
   "version": "1.1.2"
  }
 },
 "nbformat": 4,
 "nbformat_minor": 2
}
