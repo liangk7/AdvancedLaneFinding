{
 "cells": [
  {
   "cell_type": "code",
   "execution_count": 1,
   "metadata": {
    "collapsed": true
   },
   "outputs": [],
   "source": [
    "#import statements\n",
    "import numpy as np\n",
    "import cv2\n",
    "import glob\n",
    "import matplotlib.pyplot as plt\n",
    "import pickle"
   ]
  },
  {
   "cell_type": "code",
   "execution_count": 4,
   "metadata": {
    "collapsed": true
   },
   "outputs": [],
   "source": [
    "#Calibrate Camera\n",
    "#prepare object points\n",
    "objp = np.zeros((6*9,3), np.float32)\n",
    "objp[:,:2] = np.mgrid[0:9,0:6].T.reshape(-1,2)\n",
    "\n",
    "#Arrays to store object points and image points from all the images\n",
    "objpoints = [] #3d points in real world space\n",
    "imgpoints = [] # 2d points in image plane\n",
    "\n",
    "#Make a list of calibration images\n",
    "images = glob.glob('camera_cal/calibration*.jpg')\n",
    "\n",
    "#Step through the lsit and search for chessboard corners\n",
    "for idx, fname in enumerate(images):\n",
    "    img = cv2.imread(fname)\n",
    "    gray = cv2.cvtColor(img, cv2.COLOR_BGR2GRAY)\n",
    "\n",
    "    #find corners\n",
    "    ret, corners = cv2.findChessboardCorners(gray, (9,6), None)\n",
    "\n",
    "    #If found, add object points, image points\n",
    "    if ret == True:\n",
    "        objpoints.append(objp)\n",
    "        imgpoints.append(corners)\n",
    "\n",
    "        #Draw and display the corners\n",
    "        cv2.drawChessboardCorners(img, (9,6), corners, ret)\n",
    "        cv2.imshow('img', img)\n",
    "        cv2.waitKey(500)\n",
    "\n",
    "#cv2.destroyAllWindows()"
   ]
  },
  {
   "cell_type": "code",
   "execution_count": null,
   "metadata": {
    "collapsed": true
   },
   "outputs": [],
   "source": [
    "def undistort(img, objpoints, imgpoints):\n",
    "    '''\n",
    "    undistorts and image\n",
    "    input: image, list of objpoints, and list of imgpoints\n",
    "    output: undistorted image\n",
    "    '''\n",
    "    img_size = (img.shape[1], img.shape[0])\n",
    "    #print(img_size)\n",
    "\n",
    "    #Do camera calibration give obj points and img points\n",
    "    ret, mtx, dist, rvecs, tvecs = cv2.calibrateCamera(objpoints, imgpoints, img_size, None, None)\n",
    "    dst = cv2.undistort(img, mtx, dist, None, mtx)\n",
    "\n",
    "    #visualize undistortion\n",
    "    #visualizeUndistort(img, dst)\n",
    "    #return undistorted image\n",
    "    return dst"
   ]
  },
  {
   "cell_type": "code",
   "execution_count": null,
   "metadata": {
    "collapsed": true
   },
   "outputs": [],
   "source": [
    "def visualizeUndistort(img, dst):\n",
    "    f, (ax1, ax2) = plt.subplots(1,2, figsize = (20, 10))\n",
    "    ax1.imshow(img)\n",
    "    ax1.set_title('Original Image')\n",
    "    ax2.imshow(dst)\n",
    "    ax2.set_title('Undistorted Image')"
   ]
  },
  {
   "cell_type": "code",
   "execution_count": null,
   "metadata": {
    "collapsed": true
   },
   "outputs": [],
   "source": [
    "#Transform to birds eye view\n",
    "def perspectiveTransform(img):\n",
    "    '''\n",
    "    updates a photo to make it bird's eye view\n",
    "    input: Original image\n",
    "    output: Transformed image\n",
    "    '''\n",
    "    offset = 100\n",
    "    img_size = (img.shape[1], img.shape[0])\n",
    "\n",
    "    #find source and destination points\n",
    "    #####################################################\n",
    "    src = np.float32([[630, 425], [650,425], [1060, 670], [250, 670]]) \n",
    "    #####################################################\n",
    "    dst = np.float32([[offset, offset], [img_size[0] - offset, offset], [img_size[0] - offset, img_size[1] - offset], [offset, img_size[1] - offset]]) \n",
    "    #compute perspective transform, M\n",
    "    M = cv2.getPerspectiveTransform(src, dst)\n",
    "    #warp image\n",
    "    warp = cv2.warpPerspective(img, M, img_size, flags=cv2.INTER_LINEAR)\n",
    "    return warp"
   ]
  },
  {
   "cell_type": "code",
   "execution_count": null,
   "metadata": {
    "collapsed": true
   },
   "outputs": [],
   "source": [
    "#Sobel x plus S_gradient, put on mask\n",
    "def thresholding(img, sobel_t_min = 20, sobel_t_max = 100, s_t_min = 170, s_t_max = 255):\n",
    "    gray = cv2.cvtColor(img, cv2.COLOR_RGB2GRAY)\n",
    "    sobelx = cv2.Sobel(gray, cv2.CV_64F, 1, 0)\n",
    "    abs_sobelx = np.absolute(sobelx)\n",
    "    scaled_sobel = np.uint8(255*abs_sobelx/np.max(abs_sobelx))\n",
    "\n",
    "    sxbinary = np.zeros_like(scaled_sobel)\n",
    "    sxbinary[(scaled_sobel >= sobel_t_min) & (scaled_sobel <= sobel_t_max)] = 1\n",
    "\n",
    "    hls = cv2.cvtColor(img, cv2.COLOR_RGB2HLS)\n",
    "    s_channel = hls[:,:,2]\n",
    "    s_binary = np.seros_like(s_channel)\n",
    "    s_binary[(s_channel >= s_t_min) & (s_channel <= s_t_max)] = 1\n",
    "\n",
    "    #stack both to see the individual contributions. Green for Sobel, Blue for Saturation (HLS)\n",
    "    color_binary = np.dstack(( np.zeros_like(sxbinary), sxbinary, s_binary)) * 255\n",
    "\n",
    "    #combine the two thresholds\n",
    "    combined_binary = np.zeros_like(sxbinary)\n",
    "    combined_binary[(s_binary ==1) | (sxbinary ==1)] =1\n",
    "\n",
    "    return combined_binary"
   ]
  },
  {
   "cell_type": "code",
   "execution_count": null,
   "metadata": {
    "collapsed": true
   },
   "outputs": [],
   "source": [
    "#Training for lines\n",
    "def slidingWindow(img):\n",
    "    '''\n",
    "    Takes in a thresholded image and creates sliding windows\n",
    "    These midpoints will be used to determine the polynomial curve of the line\n",
    "    '''\n",
    "    #Take histogram of bottom part of the image\n",
    "    histogram = np.sum(img[img.shape[0]/2:,:], axis = 0)\n",
    "\n",
    "    #Create an output image to draw on and visualize the result\n",
    "    out_img = np.dstack((img, img, img))* 255\n",
    "\n",
    "    #Find peak of left and right halves of the  histogram\n",
    "    #These will be the starting points for the left and right lanes\n",
    "    midpoint = np.int(histogram.shape[0] /2)\n",
    "    leftx_base = np.argmax(histogram[:midpoint])\n",
    "    rightx_base = np.argmax(histogram[midpoint:]) + midpoint\n",
    "\n",
    "    #Choose number of sliding windows\n",
    "    nwindows = 9\n",
    "    #set height of windows\n",
    "    window_height = np.int(img.shape[0]/nwindows)\n",
    "    #Identify x and y positions of all nonzero pixels in the image\n",
    "    nonzero = img.nonzero()\n",
    "    nonzeroy = np.array(nonzero[0])\n",
    "    nonzerox = np.array(nonzero[1])\n",
    "    #Current positions to be updated for each window\n",
    "    leftx_current = leftx_base\n",
    "    rightx_current = rightx_base\n",
    "    #set width of the windows margin\n",
    "    margin = 100\n",
    "    #set minimum number of pixels found to recenter window\n",
    "    minpix = 50\n",
    "    #create empty list to receive left and right lane pixel indices\n",
    "    left_lane_inds = []\n",
    "    right_lane_inds = []\n",
    "\n",
    "    #step through the windows one by one\n",
    "    for window in range(nwindows):\n",
    "        #Identify window boundaries in x and y (and right and left)\n",
    "        win_y_low = img.shape[0] - (window+1)*window_height\n",
    "        win_y_high = img.shape[0] - window*window_height\n",
    "        win_xleft_low = leftx_current - margin\n",
    "        win_xleft_high = leftx_current + margin\n",
    "        win_xright_low = rightx_current - margin\n",
    "        win_xright_high = rightx_current + margin\n",
    "        #Draw the windows on the visualization image\n",
    "        cv2.rectangle(out_img,(win_xleft_low, win_y_low),(win_xleft_high, win_y_high),(0,255,0), 2)\n",
    "        cv2.rectangle(out_img,(win_xright_low, win_y_low), (win_xright_high, win_y_high), (0,255,0), 2)\n",
    "        #Identify nonzero pizels in x and y within the window\n",
    "        good_left_inds = ((nonzeroy >= win_y_low) & (nonzeroy < win_y_high) &\n",
    "                          (nonzerox >= win_xleft_low) & (nonzerox < win_xleft_high)).nonzero()[0]\n",
    "        good_right_inds = ((nonzeroy >= win_y_low) & (nonzeroy < win_y_high) &\n",
    "                           (nonzerox >= win_xright_low) & (nonzerox < win_xright_high)).nonzero()[0]\n",
    "        #Append these indices to the lists\n",
    "        left_lane_inds.append(good_left_inds)\n",
    "        right_lane_inds.append(good_right_inds)\n",
    "\n",
    "        #If you found > minpix pixels, recenter next window on their mean position\n",
    "        if len(good_left_inds) > minpix:\n",
    "            leftx_current = np.int(np.mean(nonzerox[good_left_inds]))\n",
    "            rightx_current = np.int(np.mean(nonzerox[good_right_inds]))\n",
    "    \n",
    "    #Concatinate the arrays of indices\n",
    "    left_lane_inds = np.concatenate(left_lane_inds)\n",
    "    right_lane_inds = np.concatenate(right_lane_inds)\n",
    "\n",
    "    #Extract left and right line pixel positions\n",
    "    leftx = nonzerox[left_lane_inds]\n",
    "    lefty = nonzeroy[left_lane_inds]\n",
    "    rightx = nonzerox[right_lane_inds]\n",
    "    righty = nonzeroy[right_lane_inds]\n",
    "\n",
    "    #Fit a second order polynomial to each\n",
    "    left_fit = np.polyfit(lefty, leftx, 2)\n",
    "    right_fit = np.polyfit(righty, rightx, 2)\n",
    "\n",
    "    #Visualize it\n",
    "    #Generate x and y values for plotting\n",
    "    ploty = np.linspace(0, img.shape[0] -1, img.shape[0])\n",
    "    left_fitx = left_fit[0]*ploty**2 + left_fit[1]*ploty + left_fit[2]\n",
    "    right_fitx = right_fit[0]*ploty**2 + right_fit[1]*ploty + right_fit[2]\n",
    "\n",
    "    out_img[nonzeroy[left_lane_inds], nonzerox[left_lane_inds]] = [255, 0, 0]\n",
    "    out_img[nonzeroy[right_lane_inds], nonzerox[right_lane_inds]] = [0, 0, 255]\n",
    "    plt.imshow(out_img)\n",
    "    plt.plot(left_fitx, ploty, color = 'yellow')\n",
    "    plt.plot(right_fitx, ploty, color = 'yellow')\n",
    "    plt.xlim(0, 1289)\n",
    "    plt.ylim(720, 0)\n",
    "\n",
    "    return (left_fit, right_fit)\n"
   ]
  },
  {
   "cell_type": "code",
   "execution_count": null,
   "metadata": {
    "collapsed": true
   },
   "outputs": [],
   "source": [
    "#If you already found it, much easier to find line pixels\n",
    "    def ezFind(img, left_fit, right_fit):\n",
    "        '''\n",
    "        Solves for left and right fits given that you already have left and right fits\n",
    "        Skips the sliding window portion\n",
    "        '''\n",
    "        nonzero = img.nonzero()\n",
    "        nonzeroy = np.array(nonzero[0])\n",
    "        nonzerox = np.array(nonzero[1])\n",
    "        margin = 100\n",
    "        left_lane_inds = ((nonzerox > (left_fit[0]*(nonzeroy**2) + left_fit[1]*nonzeroy + left_fit[2] - margin)) &\n",
    "                          (nonzerox < (left_fit[0]*(nonzeroy**2) + left_fit[1]*nonzeroy + left_fit[2] + margin)))\n",
    "\n",
    "        right_lane_inds = ((nonzerox > (right_fit[0]*(nonzeroy**2) + right_fit[1]*nonzeroy + right_fit[2] - margin)) &\n",
    "                           (nonzerox < (right_fit[0]*(nonzeroy**2) + right_fit[1]*nonzeroz + right_fit[2] + margin)))\n",
    "\n",
    "        #Extract left and right line pixel positions\n",
    "        leftx = nonzerox[left_lane_inds]\n",
    "        lefty = nonzeroy[left_lane_inds]\n",
    "        rightx = nonzerox[right_lane_inds]\n",
    "        righty = nonzeroy[right_lane_inds]\n",
    "        #Fit second order polynomial to each\n",
    "        left_fit = np.polyfit(lefty, leftx, 2)\n",
    "        right_fit = np.polyfit(righty, rightx, 2)\n",
    "        #Generate x and y values for plotting\n",
    "        ploty = np.linspace(0, img.shape[0]-1, img.shape[0])\n",
    "        left_fitx = left_fit[0]*ploty**2 + left_fit[1]*ploty + left_fit[2]\n",
    "        right_fitx = right_fit[0]*ploty**2 + right_fit[1]*ploty + right_fit[2]\n",
    "\n",
    "        #Visualize result\n",
    "        out_img = np.dstack((img, img, img))* 255\n",
    "        window_img = np.zeros_like(out_img)\n",
    "        # Color in left and right line pixels\n",
    "        out_img[nonzeroy[left_lane_inds], nonzerox[left_lane_inds]] = [255,0,0]\n",
    "        out_img[nonzeroy[right_lane_inds], nonzerox[right_lane_inds]] = [0,0,255]\n",
    "\n",
    "        #Generate a polygon to illustrate the search window area\n",
    "        #Recast the x and y points into usable format for cv2.fillpoly()\n",
    "        left_line_window1 = np.array([np.transpose(np.vstack([left_fitx-margin, ploty]))])\n",
    "        left_line_window2 = np.array([np.flipud(np.transpose(np.vstack([left_fix+margin, ploty])))])\n",
    "        left_line_pts = np.hstack((left_line_window1, left_line_window2))\n",
    "\n",
    "        right_line_window1 = np.array([np.transpose(np.vstack([right_fitx-margin, ploty]))])\n",
    "        right_line_window2 = np.array([np.flipud(np.transpose(np.vstack([right_fitx+margin, ploty])))])\n",
    "        right_line_pts = np.hstack((right_line_window1, right_line_window2))\n",
    "\n",
    "        #Draw the lane onto the warped blank image\n",
    "        cv2.fillPoly(window_img, np.int_([left_line_pts]), (0,255,0))\n",
    "        cv2.fillPoly(window_img, np.int_([right_line_pts]), (0,255,0))\n",
    "        result = cv2.addWeighted(out_img, 1, window_img, 0.3, 0)\n",
    "        plt.imshow(result)\n",
    "        plt.plot(left_fitx, ploty, color = 'yellow')\n",
    "        plt.plot(right_fitx, ploty, color = 'yellow')\n",
    "        plt.xlim(0, 1280)\n",
    "        plt.ylim(720, 0)\n",
    "        \n",
    "        #Return result\n",
    "        return (left_fit, right_fit)\n",
    "        "
   ]
  },
  {
   "cell_type": "code",
   "execution_count": null,
   "metadata": {
    "collapsed": true
   },
   "outputs": [],
   "source": [
    "#Calculating radius"
   ]
  },
  {
   "cell_type": "code",
   "execution_count": null,
   "metadata": {
    "collapsed": true
   },
   "outputs": [],
   "source": [
    "#Drawing line on image"
   ]
  },
  {
   "cell_type": "code",
   "execution_count": null,
   "metadata": {
    "collapsed": true
   },
   "outputs": [],
   "source": [
    "#Filling in area on image\n"
   ]
  },
  {
   "cell_type": "code",
   "execution_count": null,
   "metadata": {
    "collapsed": true
   },
   "outputs": [],
   "source": [
    "#Main Code\n",
    "left_fit = []\n",
    "right_fit = []\n",
    "#Import test images or video file, make into a for loop\n",
    "        \n",
    "########################################\n",
    "#img = imported image\n",
    "########################################\n",
    "#Undistort original image\n",
    "dst = undistort(img, objpoints, imgpoints)\n",
    "#Visualize the undistortion\n",
    "visualizeUndistort(img, dst)\n",
    "\n",
    "#Change to bird's eye view\n",
    "warp = perspectiveTransform(dst)\n",
    "\n",
    "#Sobel and Sat thresh\n",
    "binary_warp = thresholding(warp, sobel_t_min = 20, sobel_t_max = 100, s_t_min = 170, s_t_max = 255)\n",
    "\n",
    "#If we already have left and right lines, do ezFind, else do sliding window method\n",
    "if (left_fit & right_fit):\n",
    "    left_fit, right_fit = ezFind(binary_warp, left_fit, right_fit)\n",
    "else:\n",
    "    #sliding window to find start points\n",
    "    left_fit, right_fit = slidingWindow(binary_warp)\n",
    "\n",
    "#some conditional statement to check if we already have a left and right object"
   ]
  }
 ],
 "metadata": {
  "kernelspec": {
   "display_name": "Python 3",
   "language": "python",
   "name": "python3"
  },
  "language_info": {
   "codemirror_mode": {
    "name": "ipython",
    "version": 3
   },
   "file_extension": ".py",
   "mimetype": "text/x-python",
   "name": "python",
   "nbconvert_exporter": "python",
   "pygments_lexer": "ipython3",
   "version": "3.5.2"
  },
  "widgets": {
   "state": {},
   "version": "1.1.2"
  }
 },
 "nbformat": 4,
 "nbformat_minor": 2
}
